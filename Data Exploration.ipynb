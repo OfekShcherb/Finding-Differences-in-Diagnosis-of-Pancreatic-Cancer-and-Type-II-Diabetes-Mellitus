{
 "cells": [
  {
   "cell_type": "code",
   "id": "initial_id",
   "metadata": {
    "collapsed": true,
    "ExecuteTime": {
     "end_time": "2024-06-01T13:14:43.471080Z",
     "start_time": "2024-06-01T13:14:42.373110Z"
    }
   },
   "source": [
    "import pandas as pd\n",
    "import numpy as np\n",
    "import json\n",
    "import matplotlib.pyplot as plt\n",
    "import re\n",
    "from collections import defaultdict\n",
    "from sklearn.impute import SimpleImputer\n",
    "import seaborn as sns"
   ],
   "outputs": [],
   "execution_count": 1
  },
  {
   "metadata": {},
   "cell_type": "markdown",
   "source": [
    "# DATA SET CREATION"
   ],
   "id": "2970a132e25d7dbb"
  },
  {
   "metadata": {},
   "cell_type": "markdown",
   "source": [
    "### 1. dataset extraction"
   ],
   "id": "fab2988244b5b60e"
  },
  {
   "metadata": {
    "ExecuteTime": {
     "end_time": "2024-06-01T13:16:30.148490Z",
     "start_time": "2024-06-01T13:16:30.143019Z"
    }
   },
   "cell_type": "code",
   "source": [
    "with open ('/home/ofeksh2@mta.ac.il/config.json', 'r', encoding='utf-8') as f:\n",
    "    config = json.load(f)\n",
    "\n",
    "biobank_path = config['biobank_path']\n",
    "#features_code_lists = config['features_code_lists']\n",
    "features_name_list = config['features_name_list']\n",
    "train_path = '/tmp/pycharm_project_366/train_data.csv'"
   ],
   "id": "447a79c9ecd39274",
   "outputs": [],
   "execution_count": 7
  },
  {
   "cell_type": "code",
   "outputs": [],
   "source": [
    "train_df = pd.read_csv(train_path, low_memory=False)"
   ],
   "metadata": {
    "collapsed": false,
    "ExecuteTime": {
     "end_time": "2024-06-01T13:21:02.012376Z",
     "start_time": "2024-06-01T13:20:56.579583Z"
    }
   },
   "id": "f61cded704c98638",
   "execution_count": 22
  },
  {
   "cell_type": "code",
   "outputs": [],
   "source": [
    "features_code_dict = {}\n",
    "features_with_array = defaultdict(lambda: 1)\n",
    "with open('/tmp/pycharm_project_366/features_with_arrays.txt') as f:\n",
    "    for line in f:\n",
    "        feature_code, array_size = line.split()\n",
    "        features_with_array[feature_code] = int(array_size)\n",
    "\n",
    "with open('/tmp/pycharm_project_366/features.txt') as features_file:\n",
    "    for line in features_file:\n",
    "        feature_code, feature_name = line.split('\\t')\n",
    "        feature_name = feature_name.replace('\\n', '')\n",
    "        size = features_with_array[feature_code]\n",
    "        for i in range(size):\n",
    "            new_feature_code = f'{feature_code}-0.{i}'\n",
    "            new_feature_name = f'{feature_name} - {i}'\n",
    "            features_code_dict[new_feature_code] = new_feature_name"
   ],
   "metadata": {
    "collapsed": false,
    "ExecuteTime": {
     "end_time": "2024-06-01T13:21:58.014573Z",
     "start_time": "2024-06-01T13:21:58.007156Z"
    }
   },
   "id": "b757400a62b8bec2",
   "execution_count": 25
  },
  {
   "cell_type": "code",
   "outputs": [
    {
     "data": {
      "text/plain": "{'eid-0.0': 'eid - 0',\n '41270-0.0': 'Diagnoses - ICD10 - 0',\n '41270-0.1': 'Diagnoses - ICD10 - 1',\n '41270-0.2': 'Diagnoses - ICD10 - 2',\n '41270-0.3': 'Diagnoses - ICD10 - 3',\n '41270-0.4': 'Diagnoses - ICD10 - 4',\n '41270-0.5': 'Diagnoses - ICD10 - 5',\n '41270-0.6': 'Diagnoses - ICD10 - 6',\n '41270-0.7': 'Diagnoses - ICD10 - 7',\n '41270-0.8': 'Diagnoses - ICD10 - 8',\n '41270-0.9': 'Diagnoses - ICD10 - 9',\n '41270-0.10': 'Diagnoses - ICD10 - 10',\n '41270-0.11': 'Diagnoses - ICD10 - 11',\n '41270-0.12': 'Diagnoses - ICD10 - 12',\n '41270-0.13': 'Diagnoses - ICD10 - 13',\n '41270-0.14': 'Diagnoses - ICD10 - 14',\n '41270-0.15': 'Diagnoses - ICD10 - 15',\n '41270-0.16': 'Diagnoses - ICD10 - 16',\n '41270-0.17': 'Diagnoses - ICD10 - 17',\n '41270-0.18': 'Diagnoses - ICD10 - 18',\n '41270-0.19': 'Diagnoses - ICD10 - 19',\n '41270-0.20': 'Diagnoses - ICD10 - 20',\n '41270-0.21': 'Diagnoses - ICD10 - 21',\n '41270-0.22': 'Diagnoses - ICD10 - 22',\n '41270-0.23': 'Diagnoses - ICD10 - 23',\n '41270-0.24': 'Diagnoses - ICD10 - 24',\n '41270-0.25': 'Diagnoses - ICD10 - 25',\n '41270-0.26': 'Diagnoses - ICD10 - 26',\n '41270-0.27': 'Diagnoses - ICD10 - 27',\n '41270-0.28': 'Diagnoses - ICD10 - 28',\n '41270-0.29': 'Diagnoses - ICD10 - 29',\n '41270-0.30': 'Diagnoses - ICD10 - 30',\n '41270-0.31': 'Diagnoses - ICD10 - 31',\n '41270-0.32': 'Diagnoses - ICD10 - 32',\n '41270-0.33': 'Diagnoses - ICD10 - 33',\n '41270-0.34': 'Diagnoses - ICD10 - 34',\n '41270-0.35': 'Diagnoses - ICD10 - 35',\n '41270-0.36': 'Diagnoses - ICD10 - 36',\n '41270-0.37': 'Diagnoses - ICD10 - 37',\n '41270-0.38': 'Diagnoses - ICD10 - 38',\n '41270-0.39': 'Diagnoses - ICD10 - 39',\n '41270-0.40': 'Diagnoses - ICD10 - 40',\n '41270-0.41': 'Diagnoses - ICD10 - 41',\n '41270-0.42': 'Diagnoses - ICD10 - 42',\n '41270-0.43': 'Diagnoses - ICD10 - 43',\n '41270-0.44': 'Diagnoses - ICD10 - 44',\n '41270-0.45': 'Diagnoses - ICD10 - 45',\n '41270-0.46': 'Diagnoses - ICD10 - 46',\n '41270-0.47': 'Diagnoses - ICD10 - 47',\n '41270-0.48': 'Diagnoses - ICD10 - 48',\n '41270-0.49': 'Diagnoses - ICD10 - 49',\n '41270-0.50': 'Diagnoses - ICD10 - 50',\n '41270-0.51': 'Diagnoses - ICD10 - 51',\n '41270-0.52': 'Diagnoses - ICD10 - 52',\n '41270-0.53': 'Diagnoses - ICD10 - 53',\n '41270-0.54': 'Diagnoses - ICD10 - 54',\n '41270-0.55': 'Diagnoses - ICD10 - 55',\n '41270-0.56': 'Diagnoses - ICD10 - 56',\n '41270-0.57': 'Diagnoses - ICD10 - 57',\n '41270-0.58': 'Diagnoses - ICD10 - 58',\n '41270-0.59': 'Diagnoses - ICD10 - 59',\n '41270-0.60': 'Diagnoses - ICD10 - 60',\n '41270-0.61': 'Diagnoses - ICD10 - 61',\n '41270-0.62': 'Diagnoses - ICD10 - 62',\n '41270-0.63': 'Diagnoses - ICD10 - 63',\n '41270-0.64': 'Diagnoses - ICD10 - 64',\n '41270-0.65': 'Diagnoses - ICD10 - 65',\n '41270-0.66': 'Diagnoses - ICD10 - 66',\n '41270-0.67': 'Diagnoses - ICD10 - 67',\n '41270-0.68': 'Diagnoses - ICD10 - 68',\n '41270-0.69': 'Diagnoses - ICD10 - 69',\n '41270-0.70': 'Diagnoses - ICD10 - 70',\n '41270-0.71': 'Diagnoses - ICD10 - 71',\n '41270-0.72': 'Diagnoses - ICD10 - 72',\n '41270-0.73': 'Diagnoses - ICD10 - 73',\n '41270-0.74': 'Diagnoses - ICD10 - 74',\n '41270-0.75': 'Diagnoses - ICD10 - 75',\n '41270-0.76': 'Diagnoses - ICD10 - 76',\n '41270-0.77': 'Diagnoses - ICD10 - 77',\n '41270-0.78': 'Diagnoses - ICD10 - 78',\n '41270-0.79': 'Diagnoses - ICD10 - 79',\n '41270-0.80': 'Diagnoses - ICD10 - 80',\n '41270-0.81': 'Diagnoses - ICD10 - 81',\n '41270-0.82': 'Diagnoses - ICD10 - 82',\n '41270-0.83': 'Diagnoses - ICD10 - 83',\n '41270-0.84': 'Diagnoses - ICD10 - 84',\n '41270-0.85': 'Diagnoses - ICD10 - 85',\n '41270-0.86': 'Diagnoses - ICD10 - 86',\n '41270-0.87': 'Diagnoses - ICD10 - 87',\n '41270-0.88': 'Diagnoses - ICD10 - 88',\n '41270-0.89': 'Diagnoses - ICD10 - 89',\n '41270-0.90': 'Diagnoses - ICD10 - 90',\n '41270-0.91': 'Diagnoses - ICD10 - 91',\n '41270-0.92': 'Diagnoses - ICD10 - 92',\n '41270-0.93': 'Diagnoses - ICD10 - 93',\n '41270-0.94': 'Diagnoses - ICD10 - 94',\n '41270-0.95': 'Diagnoses - ICD10 - 95',\n '41270-0.96': 'Diagnoses - ICD10 - 96',\n '41270-0.97': 'Diagnoses - ICD10 - 97',\n '41270-0.98': 'Diagnoses - ICD10 - 98',\n '41270-0.99': 'Diagnoses - ICD10 - 99',\n '120114-0.0': 'Persistent or recurrent tiredness, weariness or fatigue that has lasted for at least 6 months - 0',\n '2966-0.0': 'Age high blood pressure diagnosed - 0',\n '34-0.0': 'Yead of birth - 0',\n '28697-0.0': 'Length of time suffering from mild fatigue - 0',\n '28700-0.0': 'Length of time suffering from severe fatigue - 0',\n '120115-0.0': 'Tiredness, weariness or fatigue goes away when resting - 0',\n '29134-0.0': 'Experienced episodes of overeating/binge eating during time(s) of low weight ? - 0',\n '2306-0.0': 'Weight change compared with 1 year ago - 0',\n '21001-0.0': 'Body mass index (BMI) - 0',\n '20116-0.0': 'Smoking Status - 0',\n '131682-0.0': 'Date K85 first reported (acute pancreatitis)  ? - 0',\n '131683-0.0': 'Source of report of K85 (acute pancreatitis)  ? - 0',\n '130792-0.0': 'Date E66 first reported (obesity) - 0',\n '28649-0.0': 'Length of time suffering from abdominal pain/tummy ache  - 0',\n '21028-0.0': 'Frequency of discomfort/pain getting better or stopping after a bowel movement - 0',\n '21040-0.0': 'Satisfaction with bowel habits - 0',\n '20107-0.0': 'Illnesses of father - 0',\n '20107-0.1': 'Illnesses of father - 1',\n '20107-0.2': 'Illnesses of father - 2',\n '20107-0.3': 'Illnesses of father - 3',\n '20107-0.4': 'Illnesses of father - 4',\n '20107-0.5': 'Illnesses of father - 5',\n '20107-0.6': 'Illnesses of father - 6',\n '20107-0.7': 'Illnesses of father - 7',\n '20107-0.8': 'Illnesses of father - 8',\n '20107-0.9': 'Illnesses of father - 9',\n '20110-0.0': 'Illnesses of mother - 0',\n '20110-0.1': 'Illnesses of mother - 1',\n '20110-0.2': 'Illnesses of mother - 2',\n '20110-0.3': 'Illnesses of mother - 3',\n '20110-0.4': 'Illnesses of mother - 4',\n '20110-0.5': 'Illnesses of mother - 5',\n '20110-0.6': 'Illnesses of mother - 6',\n '20110-0.7': 'Illnesses of mother - 7',\n '20110-0.8': 'Illnesses of mother - 8',\n '20110-0.9': 'Illnesses of mother - 9',\n '20110-0.10': 'Illnesses of mother - 10',\n '20111-0.0': 'Illnesses of siblings - 0',\n '20111-0.1': 'Illnesses of siblings - 1',\n '20111-0.2': 'Illnesses of siblings - 2',\n '20111-0.3': 'Illnesses of siblings - 3',\n '20111-0.4': 'Illnesses of siblings - 4',\n '20111-0.5': 'Illnesses of siblings - 5',\n '20111-0.6': 'Illnesses of siblings - 6',\n '20111-0.7': 'Illnesses of siblings - 7',\n '20111-0.8': 'Illnesses of siblings - 8',\n '20111-0.9': 'Illnesses of siblings - 9',\n '20111-0.10': 'Illnesses of siblings - 10',\n '20111-0.11': 'Illnesses of siblings - 11',\n '28604-0.0': 'Length of time suffering from nausea and/or vomiting - 0',\n '28603-0.0': 'Currently suffering from nausea and/or vomiting - 0',\n '21027-0.0': 'Abdominal discomfort/pain for 6 months or longer - 0',\n '21068-0.0': 'Diagnosed with coeliac disease or gluten sensitivity - 0',\n '21064-0.0': 'Sensitive stomach - 0',\n '30010-0.0': 'Red blood cell (erythrocyte) count - 0',\n '30000-0.0': 'White blood cell (leukocyte) count - 0',\n '30020-0.0': 'Haemoglobin concentration - 0',\n '26285-0.0': 'Standard PRS for type 2 diabetes (T2D) - 0',\n '26286-0.0': 'Enhanced PRS for type 2 diabetes (T2D) - 0',\n '23099-0.0': 'Body fat percentage - 0',\n '23127-0.0': 'Trunk fat percentage - 0',\n '30510-0.0': 'Creatinine (enzymatic) in urine - 0',\n '30500-0.0': 'Microalbumin in urine - 0',\n '30520-0.0': 'Potassium in urine - 0',\n '30530-0.0': 'Sodium in urine - 0',\n '30160-0.0': 'Basophill count - 0',\n '30220-0.0': 'Basophill percentage - 0',\n '30150-0.0': 'Eosinophill count - 0',\n '30210-0.0': 'Eosinophill percentage - 0',\n '30030-0.0': 'Haematocrit percentage - 0',\n '30280-0.0': 'Immature reticulocyte fraction - 0',\n '30120-0.0': 'Lymphocyte count - 0',\n '30180-0.0': 'Lymphocyte percentage - 0',\n '30050-0.0': 'Mean corpuscular haemoglobin - 0',\n '30060-0.0': 'Mean corpuscular haemoglobin concentration - 0',\n '30040-0.0': 'Mean corpuscular volume - 0',\n '30100-0.0': 'Mean platelet (thrombocyte) volume - 0',\n '30260-0.0': 'Mean reticulocyte volume - 0',\n '30130-0.0': 'Monocyte count - 0',\n '30190-0.0': 'Monocyte percentage - 0',\n '30140-0.0': 'Neutrophill count - 0',\n '30200-0.0': 'Neutrophill percentage - 0',\n '30170-0.0': 'Nucleated red blood cell count - 0',\n '30230-0.0': 'Nucleated red blood cell percentage - 0',\n '30080-0.0': 'Platelet count - 0',\n '30090-0.0': 'Platelet crit - 0',\n '30250-0.0': 'Reticulocyte count - 0',\n '30240-0.0': 'Reticulocyte percentage - 0',\n '30620-0.0': 'Alanine aminotransferase - 0',\n '30600-0.0': 'Albumin - 0',\n '30610-0.0': 'Alkaline phosphatase - 0',\n '30630-0.0': 'Apolipoprotein A - 0',\n '30640-0.0': 'Apolipoprotein B - 0',\n '30650-0.0': 'Aspartate aminotransferase - 0',\n '30710-0.0': 'C-reactive protein - 0',\n '30680-0.0': 'Calcium - 0',\n '30690-0.0': 'Cholesterol - 0',\n '30700-0.0': 'Creatinine - 0',\n '30720-0.0': 'Cystatin C - 0',\n '30660-0.0': 'Direct bilirubin - 0',\n '30730-0.0': 'Gamma glutamyltransferase - 0',\n '30740-0.0': 'Glucose - 0',\n '30750-0.0': 'Glycated haemoglobin (HbA1c) - 0',\n '30760-0.0': 'HDL cholesterol - 0',\n '30770-0.0': 'IGF-1 - 0',\n '30780-0.0': 'LDL direct - 0',\n '30790-0.0': 'Lipoprotein A - 0',\n '30800-0.0': 'Oestradiol - 0',\n '30810-0.0': 'Phosphate - 0',\n '30820-0.0': 'Rheumatoid factor - 0',\n '30830-0.0': 'SHBG - 0',\n '30850-0.0': 'Testosterone - 0',\n '30840-0.0': 'Total bilirubin - 0',\n '30860-0.0': 'Total protein - 0',\n '30870-0.0': 'Triglycerides - 0',\n '30880-0.0': 'Urate - 0',\n '30670-0.0': 'Urea - 0',\n '30890-0.0': 'Vitamin D - 0',\n '30426-0.0': 'Tiredness after waking - 0',\n '30445-0.0': 'How many hours of actual sleep each night during the past month - 0',\n '30443-0.0': 'Length of time to get to sleep during the past month - 0',\n '30462-0.0': 'Number of times woke up in the night during the past month - 0',\n '30467-0.0': 'Overall quality of sleep in past month - 0',\n '30448-0.0': 'Trouble sleeping in past month as need to use the bathroom - 0',\n '894-0.0': 'Duration of moderate activity - 0',\n '1001-0.0': 'Duration of strenuous sports - 0',\n '914-0.0': 'Duration of vigorous activity - 0',\n '874-0.0': 'Duration of walks - 0',\n '884-0.0': 'Number of days/week of moderate physical activity 10+ minutes - 0',\n '904-0.0': 'Number of days/week of vigorous physical activity 10+ minutes - 0',\n '1090-0.0': 'Time spent driving - 0',\n '1080-0.0': 'Time spent using computer - 0',\n '1070-0.0': 'Time spent watching television (TV) - 0',\n '1528-0.0': 'Water intake - 0',\n '1558-0.0': 'Alcohol intake frequency - 0',\n '1920-0.0': 'Mood swings - 0',\n '1990-0.0': \"Tense / 'highly strung' - 0\",\n '2020-0.0': 'Loneliness, isolation - 0',\n '1349-0.0': 'Processed meat intake - 0',\n '23000-0.0': '1gG antigen for Herpes Simplex virus-1 - 0',\n '23001-0.0': '2mgG unique antigen for Herpes Simplex virus-2 - 0',\n '23049-0.0': 'Antigen assay QC indicator - 0',\n '23048-0.0': 'Antigen assay date - 0',\n '23026-0.0': 'BK VP1 antigen for Human Polyomavirus BKV - 0',\n '23039-0.0': 'CagA antigen for Helicobacter pylori - 0',\n '23043-0.0': 'Catalase antigen for Helicobacter pylori - 0',\n '23018-0.0': 'Core antigen for Hepatitis C Virus - 0',\n '23030-0.0': 'E6 antigen for Human Papillomavirus type-16 - 0',\n '23031-0.0': 'E7 antigen for Human Papillomavirus type-16 - 0',\n '23006-0.0': 'EA-D antigen for Epstein-Barr Virus - 0',\n '23004-0.0': 'EBNA-1 antigen for Epstein-Barr Virus - 0',\n '23042-0.0': 'GroEL antigen for Helicobacter pylori - 0',\n '23016-0.0': 'HBc antigen for Hepatitis B Virus - 0',\n '23017-0.0': 'HBe antigen for Hepatitis B Virus - 0',\n '23025-0.0': 'HIV-1 env antigen for Human Immunodeficiency Virus - 0',\n '23024-0.0': 'HIV-1 gag antigen for Human Immunodeficiency Virus - 0',\n '23023-0.0': 'HTLV-1 env antigen for Human T-Lymphotropic Virus 1 - 0',\n '23022-0.0': 'HTLV-1 gag antigen for Human T-Lymphotropic Virus 1 - 0',\n '23010-0.0': 'IE1A antigen for Human Herpesvirus-6 - 0',\n '23011-0.0': 'IE1B antigen for Human Herpesvirus-6 - 0',\n '23027-0.0': 'JC VP1 antigen for Human Polyomavirus JCV - 0',\n '23015-0.0': \"K8.1 antigen for Kaposi's Sarcoma-Associated Herpesvirus - 0\",\n '23029-0.0': 'L1 antigen for Human Papillomavirus type-16 - 0',\n '23032-0.0': 'L1 antigen for Human Papillomavirus type-18 - 0',\n '23014-0.0': \"LANA antigen for Kaposi's Sarcoma-Associated Herpesvirus - 0\",\n '23028-0.0': 'MC VP1 antigen for Merkel Cell Polyomavirus - 0',\n '23019-0.0': 'NS3 antigen for Hepatitis C Virus - 0',\n '23041-0.0': 'OMP antigen for Helicobacter pylori - 0',\n '23037-0.0': 'PorB antigen for Chlamydia trachomatis - 0',\n '23013-0.0': 'U14 antigen for Human Herpesvirus-7 - 0',\n '23044-0.0': 'UreA antigen for Helicobacter pylori - 0',\n '23003-0.0': 'VCA p18 antigen for Epstein-Barr Virus - 0',\n '23040-0.0': 'VacA antigen for Helicobacter pylori - 0',\n '23005-0.0': 'ZEBRA antigen for Epstein-Barr Virus - 0',\n '23002-0.0': 'gE / gI antigen for Varicella Zoster Virus - 0',\n '23034-0.0': 'momp A antigen for Chlamydia trachomatis - 0',\n '23033-0.0': 'momp D antigen for Chlamydia trachomatis - 0',\n '23012-0.0': 'p101 k antigen for Human Herpesvirus-6 - 0',\n '23020-0.0': 'p22 antigen for Toxoplasma gondii - 0',\n '23038-0.0': 'pGP3 antigen for Chlamydia trachomatis - 0',\n '23009-0.0': 'pp 28 antigen for Human Cytomegalovirus - 0',\n '23008-0.0': 'pp 52 antigen for Human Cytomegalovirus - 0',\n '23007-0.0': 'pp150 Nter antigen for Human Cytomegalovirus - 0',\n '23021-0.0': 'sag1 antigen for Toxoplasma gondii - 0',\n '23035-0.0': 'tarp-D F1 antigen for Chlamydia trachomatis - 0',\n '23036-0.0': 'tarp-D F2 antigen for Chlamydia trachomatis - 0',\n '23526-0.0': 'Cholesterol in IDL - 0',\n '23418-0.0': 'Cholesteryl Esters in HDL - 0',\n '23527-0.0': 'Cholesteryl Esters in IDL - 0',\n '23417-0.0': 'Cholesteryl Esters in LDL - 0',\n '23416-0.0': 'Cholesteryl Esters in VLDL - 0',\n '23422-0.0': 'Free Cholesterol in HDL - 0',\n '23528-0.0': 'Free Cholesterol in IDL - 0',\n '23421-0.0': 'Free Cholesterol in LDL - 0',\n '23420-0.0': 'Free Cholesterol in VLDL - 0',\n '23406-0.0': 'HDL Cholesterol - 0',\n '23405-0.0': 'LDL Cholesterol - 0'}"
     },
     "execution_count": 11,
     "metadata": {},
     "output_type": "execute_result"
    }
   ],
   "source": [
    "features_code_dict"
   ],
   "metadata": {
    "collapsed": false,
    "ExecuteTime": {
     "end_time": "2024-06-01T13:17:07.005916Z",
     "start_time": "2024-06-01T13:17:06.994495Z"
    }
   },
   "id": "84062fe693354d08",
   "execution_count": 11
  },
  {
   "cell_type": "code",
   "outputs": [],
   "source": [
    "train_df = train_df.rename(columns=features_code_dict)"
   ],
   "metadata": {
    "collapsed": false,
    "ExecuteTime": {
     "end_time": "2024-06-01T13:22:00.326772Z",
     "start_time": "2024-06-01T13:22:00.129037Z"
    }
   },
   "id": "7ccd633aa256048b",
   "execution_count": 26
  },
  {
   "cell_type": "code",
   "outputs": [
    {
     "name": "stdout",
     "output_type": "stream",
     "text": [
      "<class 'pandas.core.frame.DataFrame'>\n",
      "RangeIndex: 72962 entries, 0 to 72961\n",
      "Data columns (total 283 columns):\n",
      " #    Column                                                                                             Non-Null Count  Dtype \n",
      "---   ------                                                                                             --------------  ----- \n",
      " 0    Yead of birth - 0                                                                                  72961 non-null  object\n",
      " 1    Duration of walks - 0                                                                              67797 non-null  object\n",
      " 2    Number of days/week of moderate physical activity 10+ minutes - 0                                  72779 non-null  object\n",
      " 3    Duration of moderate activity - 0                                                                  56369 non-null  object\n",
      " 4    Number of days/week of vigorous physical activity 10+ minutes - 0                                  72779 non-null  object\n",
      " 5    Duration of vigorous activity - 0                                                                  37844 non-null  object\n",
      " 6    Duration of strenuous sports - 0                                                                   5040 non-null   object\n",
      " 7    Time spent watching television (TV) - 0                                                            72776 non-null  object\n",
      " 8    Time spent using computer - 0                                                                      72113 non-null  object\n",
      " 9    Time spent driving - 0                                                                             72724 non-null  object\n",
      " 10   Processed meat intake - 0                                                                          72772 non-null  object\n",
      " 11   Water intake - 0                                                                                   72772 non-null  object\n",
      " 12   Alcohol intake frequency - 0                                                                       72772 non-null  object\n",
      " 13   Mood swings - 0                                                                                    72770 non-null  object\n",
      " 14   Tense / 'highly strung' - 0                                                                        72770 non-null  object\n",
      " 15   Loneliness, isolation - 0                                                                          72769 non-null  object\n",
      " 16   Weight change compared with 1 year ago - 0                                                         72769 non-null  object\n",
      " 17   Age high blood pressure diagnosed - 0                                                              29914 non-null  object\n",
      " 18   Illnesses of father - 0                                                                            70436 non-null  object\n",
      " 19   Illnesses of father - 1                                                                            70317 non-null  object\n",
      " 20   Illnesses of father - 2                                                                            16879 non-null  object\n",
      " 21   Illnesses of father - 3                                                                            4665 non-null   object\n",
      " 22   Illnesses of father - 4                                                                            908 non-null    object\n",
      " 23   Illnesses of father - 5                                                                            158 non-null    object\n",
      " 24   Illnesses of father - 6                                                                            57 non-null     object\n",
      " 25   Illnesses of father - 7                                                                            52 non-null     object\n",
      " 26   Illnesses of father - 8                                                                            51 non-null     object\n",
      " 27   Illnesses of father - 9                                                                            50 non-null     object\n",
      " 28   Illnesses of mother - 0                                                                            71259 non-null  object\n",
      " 29   Illnesses of mother - 1                                                                            71154 non-null  object\n",
      " 30   Illnesses of mother - 2                                                                            17790 non-null  object\n",
      " 31   Illnesses of mother - 3                                                                            5075 non-null   object\n",
      " 32   Illnesses of mother - 4                                                                            1033 non-null   object\n",
      " 33   Illnesses of mother - 5                                                                            178 non-null    object\n",
      " 34   Illnesses of mother - 6                                                                            66 non-null     object\n",
      " 35   Illnesses of mother - 7                                                                            52 non-null     object\n",
      " 36   Illnesses of mother - 8                                                                            52 non-null     object\n",
      " 37   Illnesses of mother - 9                                                                            50 non-null     object\n",
      " 38   Illnesses of mother - 10                                                                           50 non-null     object\n",
      " 39   Illnesses of siblings - 0                                                                          62547 non-null  object\n",
      " 40   Illnesses of siblings - 1                                                                          62444 non-null  object\n",
      " 41   Illnesses of siblings - 2                                                                          9104 non-null   object\n",
      " 42   Illnesses of siblings - 3                                                                          2714 non-null   object\n",
      " 43   Illnesses of siblings - 4                                                                          644 non-null    object\n",
      " 44   Illnesses of siblings - 5                                                                          165 non-null    object\n",
      " 45   Illnesses of siblings - 6                                                                          70 non-null     object\n",
      " 46   Illnesses of siblings - 7                                                                          55 non-null     object\n",
      " 47   Illnesses of siblings - 8                                                                          50 non-null     object\n",
      " 48   Illnesses of siblings - 9                                                                          50 non-null     object\n",
      " 49   Illnesses of siblings - 10                                                                         50 non-null     object\n",
      " 50   Illnesses of siblings - 11                                                                         50 non-null     object\n",
      " 51   Smoking Status - 0                                                                                 72773 non-null  object\n",
      " 52   Body mass index (BMI) - 0                                                                          72287 non-null  object\n",
      " 53   Abdominal discomfort/pain for 6 months or longer - 0                                               11171 non-null  object\n",
      " 54   Frequency of discomfort/pain getting better or stopping after a bowel movement - 0                 11171 non-null  object\n",
      " 55   Satisfaction with bowel habits - 0                                                                 20627 non-null  object\n",
      " 56   Sensitive stomach - 0                                                                              20627 non-null  object\n",
      " 57   Diagnosed with coeliac disease or gluten sensitivity - 0                                           20627 non-null  object\n",
      " 58   1gG antigen for Herpes Simplex virus-1 - 0                                                         1341 non-null   object\n",
      " 59   2mgG unique antigen for Herpes Simplex virus-2 - 0                                                 1341 non-null   object\n",
      " 60   gE / gI antigen for Varicella Zoster Virus - 0                                                     1341 non-null   object\n",
      " 61   VCA p18 antigen for Epstein-Barr Virus - 0                                                         1341 non-null   object\n",
      " 62   EBNA-1 antigen for Epstein-Barr Virus - 0                                                          1341 non-null   object\n",
      " 63   ZEBRA antigen for Epstein-Barr Virus - 0                                                           1341 non-null   object\n",
      " 64   EA-D antigen for Epstein-Barr Virus - 0                                                            1341 non-null   object\n",
      " 65   pp150 Nter antigen for Human Cytomegalovirus - 0                                                   1341 non-null   object\n",
      " 66   pp 52 antigen for Human Cytomegalovirus - 0                                                        1341 non-null   object\n",
      " 67   pp 28 antigen for Human Cytomegalovirus - 0                                                        1341 non-null   object\n",
      " 68   IE1A antigen for Human Herpesvirus-6 - 0                                                           1341 non-null   object\n",
      " 69   IE1B antigen for Human Herpesvirus-6 - 0                                                           1341 non-null   object\n",
      " 70   p101 k antigen for Human Herpesvirus-6 - 0                                                         1341 non-null   object\n",
      " 71   U14 antigen for Human Herpesvirus-7 - 0                                                            1341 non-null   object\n",
      " 72   LANA antigen for Kaposi's Sarcoma-Associated Herpesvirus - 0                                       1341 non-null   object\n",
      " 73   K8.1 antigen for Kaposi's Sarcoma-Associated Herpesvirus - 0                                       1341 non-null   object\n",
      " 74   HBc antigen for Hepatitis B Virus - 0                                                              1341 non-null   object\n",
      " 75   HBe antigen for Hepatitis B Virus - 0                                                              1341 non-null   object\n",
      " 76   Core antigen for Hepatitis C Virus - 0                                                             1341 non-null   object\n",
      " 77   NS3 antigen for Hepatitis C Virus - 0                                                              1341 non-null   object\n",
      " 78   p22 antigen for Toxoplasma gondii - 0                                                              1341 non-null   object\n",
      " 79   sag1 antigen for Toxoplasma gondii - 0                                                             1341 non-null   object\n",
      " 80   HTLV-1 gag antigen for Human T-Lymphotropic Virus 1 - 0                                            1341 non-null   object\n",
      " 81   HTLV-1 env antigen for Human T-Lymphotropic Virus 1 - 0                                            1341 non-null   object\n",
      " 82   HIV-1 gag antigen for Human Immunodeficiency Virus - 0                                             1341 non-null   object\n",
      " 83   HIV-1 env antigen for Human Immunodeficiency Virus - 0                                             1341 non-null   object\n",
      " 84   BK VP1 antigen for Human Polyomavirus BKV - 0                                                      1341 non-null   object\n",
      " 85   JC VP1 antigen for Human Polyomavirus JCV - 0                                                      1341 non-null   object\n",
      " 86   MC VP1 antigen for Merkel Cell Polyomavirus - 0                                                    1341 non-null   object\n",
      " 87   L1 antigen for Human Papillomavirus type-16 - 0                                                    1341 non-null   object\n",
      " 88   E6 antigen for Human Papillomavirus type-16 - 0                                                    1341 non-null   object\n",
      " 89   E7 antigen for Human Papillomavirus type-16 - 0                                                    1341 non-null   object\n",
      " 90   L1 antigen for Human Papillomavirus type-18 - 0                                                    1341 non-null   object\n",
      " 91   momp D antigen for Chlamydia trachomatis - 0                                                       1341 non-null   object\n",
      " 92   momp A antigen for Chlamydia trachomatis - 0                                                       1341 non-null   object\n",
      " 93   tarp-D F1 antigen for Chlamydia trachomatis - 0                                                    1341 non-null   object\n",
      " 94   tarp-D F2 antigen for Chlamydia trachomatis - 0                                                    1341 non-null   object\n",
      " 95   PorB antigen for Chlamydia trachomatis - 0                                                         1341 non-null   object\n",
      " 96   pGP3 antigen for Chlamydia trachomatis - 0                                                         1341 non-null   object\n",
      " 97   CagA antigen for Helicobacter pylori - 0                                                           695 non-null    object\n",
      " 98   VacA antigen for Helicobacter pylori - 0                                                           1341 non-null   object\n",
      " 99   OMP antigen for Helicobacter pylori - 0                                                            1341 non-null   object\n",
      " 100  GroEL antigen for Helicobacter pylori - 0                                                          1341 non-null   object\n",
      " 101  Catalase antigen for Helicobacter pylori - 0                                                       1341 non-null   object\n",
      " 102  UreA antigen for Helicobacter pylori - 0                                                           1341 non-null   object\n",
      " 103  Antigen assay date - 0                                                                             1341 non-null   object\n",
      " 104  Antigen assay QC indicator - 0                                                                     264 non-null    object\n",
      " 105  Body fat percentage - 0                                                                            70817 non-null  object\n",
      " 106  Trunk fat percentage - 0                                                                           70813 non-null  object\n",
      " 107  White blood cell (leukocyte) count - 0                                                             69081 non-null  object\n",
      " 108  Red blood cell (erythrocyte) count - 0                                                             69081 non-null  object\n",
      " 109  Haemoglobin concentration - 0                                                                      69081 non-null  object\n",
      " 110  Haematocrit percentage - 0                                                                         69081 non-null  object\n",
      " 111  Mean corpuscular volume - 0                                                                        69080 non-null  object\n",
      " 112  Mean corpuscular haemoglobin - 0                                                                   69081 non-null  object\n",
      " 113  Mean corpuscular haemoglobin concentration - 0                                                     69080 non-null  object\n",
      " 114  Platelet count - 0                                                                                 69081 non-null  object\n",
      " 115  Platelet crit - 0                                                                                  69081 non-null  object\n",
      " 116  Mean platelet (thrombocyte) volume - 0                                                             69081 non-null  object\n",
      " 117  Lymphocyte count - 0                                                                               68931 non-null  object\n",
      " 118  Monocyte count - 0                                                                                 68931 non-null  object\n",
      " 119  Neutrophill count - 0                                                                              68931 non-null  object\n",
      " 120  Eosinophill count - 0                                                                              68931 non-null  object\n",
      " 121  Basophill count - 0                                                                                68931 non-null  object\n",
      " 122  Nucleated red blood cell count - 0                                                                 68928 non-null  object\n",
      " 123  Lymphocyte percentage - 0                                                                          68931 non-null  object\n",
      " 124  Monocyte percentage - 0                                                                            68931 non-null  object\n",
      " 125  Neutrophill percentage - 0                                                                         68931 non-null  object\n",
      " 126  Eosinophill percentage - 0                                                                         68931 non-null  object\n",
      " 127  Basophill percentage - 0                                                                           68931 non-null  object\n",
      " 128  Nucleated red blood cell percentage - 0                                                            68928 non-null  object\n",
      " 129  Reticulocyte percentage - 0                                                                        67836 non-null  object\n",
      " 130  Reticulocyte count - 0                                                                             67836 non-null  object\n",
      " 131  Mean reticulocyte volume - 0                                                                       67836 non-null  object\n",
      " 132  Immature reticulocyte fraction - 0                                                                 67836 non-null  object\n",
      " 133  Microalbumin in urine - 0                                                                          28990 non-null  object\n",
      " 134  Creatinine (enzymatic) in urine - 0                                                                69834 non-null  object\n",
      " 135  Potassium in urine - 0                                                                             69697 non-null  object\n",
      " 136  Sodium in urine - 0                                                                                69697 non-null  object\n",
      " 137  Albumin - 0                                                                                        62096 non-null  object\n",
      " 138  Alkaline phosphatase - 0                                                                           67763 non-null  object\n",
      " 139  Alanine aminotransferase - 0                                                                       67719 non-null  object\n",
      " 140  Apolipoprotein A - 0                                                                               61801 non-null  object\n",
      " 141  Apolipoprotein B - 0                                                                               67259 non-null  object\n",
      " 142  Aspartate aminotransferase - 0                                                                     67490 non-null  object\n",
      " 143  Direct bilirubin - 0                                                                               57632 non-null  object\n",
      " 144  Urea - 0                                                                                           67713 non-null  object\n",
      " 145  Calcium - 0                                                                                        62065 non-null  object\n",
      " 146  Cholesterol - 0                                                                                    67765 non-null  object\n",
      " 147  Creatinine - 0                                                                                     67731 non-null  object\n",
      " 148  C-reactive protein - 0                                                                             67581 non-null  object\n",
      " 149  Cystatin C - 0                                                                                     67767 non-null  object\n",
      " 150  Gamma glutamyltransferase - 0                                                                      67706 non-null  object\n",
      " 151  Glucose - 0                                                                                        62014 non-null  object\n",
      " 152  Glycated haemoglobin (HbA1c) - 0                                                                   67301 non-null  object\n",
      " 153  HDL cholesterol - 0                                                                                62027 non-null  object\n",
      " 154  IGF-1 - 0                                                                                          67416 non-null  object\n",
      " 155  LDL direct - 0                                                                                     67602 non-null  object\n",
      " 156  Lipoprotein A - 0                                                                                  53360 non-null  object\n",
      " 157  Oestradiol - 0                                                                                     9293 non-null   object\n",
      " 158  Phosphate - 0                                                                                      61970 non-null  object\n",
      " 159  Rheumatoid factor - 0                                                                              6110 non-null   object\n",
      " 160  SHBG - 0                                                                                           61534 non-null  object\n",
      " 161  Total bilirubin - 0                                                                                67453 non-null  object\n",
      " 162  Testosterone - 0                                                                                   61519 non-null  object\n",
      " 163  Total protein - 0                                                                                  62015 non-null  object\n",
      " 164  Triglycerides - 0                                                                                  67670 non-null  object\n",
      " 165  Urate - 0                                                                                          67688 non-null  object\n",
      " 166  Vitamin D - 0                                                                                      64873 non-null  object\n",
      " 167  Diagnoses - ICD10 - 0                                                                              72962 non-null  object\n",
      " 168  Diagnoses - ICD10 - 1                                                                              72962 non-null  object\n",
      " 169  Diagnoses - ICD10 - 2                                                                              72962 non-null  object\n",
      " 170  Diagnoses - ICD10 - 3                                                                              72962 non-null  object\n",
      " 171  Diagnoses - ICD10 - 4                                                                              72962 non-null  object\n",
      " 172  Diagnoses - ICD10 - 5                                                                              72962 non-null  object\n",
      " 173  Diagnoses - ICD10 - 6                                                                              72962 non-null  object\n",
      " 174  Diagnoses - ICD10 - 7                                                                              72962 non-null  object\n",
      " 175  Diagnoses - ICD10 - 8                                                                              72962 non-null  object\n",
      " 176  Diagnoses - ICD10 - 9                                                                              72962 non-null  object\n",
      " 177  Diagnoses - ICD10 - 10                                                                             72962 non-null  object\n",
      " 178  Diagnoses - ICD10 - 11                                                                             72962 non-null  object\n",
      " 179  Diagnoses - ICD10 - 12                                                                             72962 non-null  object\n",
      " 180  Diagnoses - ICD10 - 13                                                                             72962 non-null  object\n",
      " 181  Diagnoses - ICD10 - 14                                                                             72962 non-null  object\n",
      " 182  Diagnoses - ICD10 - 15                                                                             72962 non-null  object\n",
      " 183  Diagnoses - ICD10 - 16                                                                             72962 non-null  object\n",
      " 184  Diagnoses - ICD10 - 17                                                                             72962 non-null  object\n",
      " 185  Diagnoses - ICD10 - 18                                                                             72962 non-null  object\n",
      " 186  Diagnoses - ICD10 - 19                                                                             72962 non-null  object\n",
      " 187  Diagnoses - ICD10 - 20                                                                             72962 non-null  object\n",
      " 188  Diagnoses - ICD10 - 21                                                                             72962 non-null  object\n",
      " 189  Diagnoses - ICD10 - 22                                                                             72962 non-null  object\n",
      " 190  Diagnoses - ICD10 - 23                                                                             72962 non-null  object\n",
      " 191  Diagnoses - ICD10 - 24                                                                             72962 non-null  object\n",
      " 192  Diagnoses - ICD10 - 25                                                                             72962 non-null  object\n",
      " 193  Diagnoses - ICD10 - 26                                                                             72962 non-null  object\n",
      " 194  Diagnoses - ICD10 - 27                                                                             72962 non-null  object\n",
      " 195  Diagnoses - ICD10 - 28                                                                             72962 non-null  object\n",
      " 196  Diagnoses - ICD10 - 29                                                                             72962 non-null  object\n",
      " 197  Diagnoses - ICD10 - 30                                                                             72962 non-null  object\n",
      " 198  Diagnoses - ICD10 - 31                                                                             72962 non-null  object\n",
      " 199  Diagnoses - ICD10 - 32                                                                             72962 non-null  object\n",
      " 200  Diagnoses - ICD10 - 33                                                                             72962 non-null  object\n",
      " 201  Diagnoses - ICD10 - 34                                                                             72962 non-null  object\n",
      " 202  Diagnoses - ICD10 - 35                                                                             72962 non-null  object\n",
      " 203  Diagnoses - ICD10 - 36                                                                             72962 non-null  object\n",
      " 204  Diagnoses - ICD10 - 37                                                                             72962 non-null  object\n",
      " 205  Diagnoses - ICD10 - 38                                                                             72962 non-null  object\n",
      " 206  Diagnoses - ICD10 - 39                                                                             72962 non-null  object\n",
      " 207  Diagnoses - ICD10 - 40                                                                             72962 non-null  object\n",
      " 208  Diagnoses - ICD10 - 41                                                                             72962 non-null  object\n",
      " 209  Diagnoses - ICD10 - 42                                                                             72962 non-null  object\n",
      " 210  Diagnoses - ICD10 - 43                                                                             72962 non-null  object\n",
      " 211  Diagnoses - ICD10 - 44                                                                             72962 non-null  object\n",
      " 212  Diagnoses - ICD10 - 45                                                                             72962 non-null  object\n",
      " 213  Diagnoses - ICD10 - 46                                                                             72962 non-null  object\n",
      " 214  Diagnoses - ICD10 - 47                                                                             72962 non-null  object\n",
      " 215  Diagnoses - ICD10 - 48                                                                             72962 non-null  object\n",
      " 216  Diagnoses - ICD10 - 49                                                                             72962 non-null  object\n",
      " 217  Diagnoses - ICD10 - 50                                                                             72962 non-null  object\n",
      " 218  Diagnoses - ICD10 - 51                                                                             72962 non-null  object\n",
      " 219  Diagnoses - ICD10 - 52                                                                             72962 non-null  object\n",
      " 220  Diagnoses - ICD10 - 53                                                                             72962 non-null  object\n",
      " 221  Diagnoses - ICD10 - 54                                                                             72962 non-null  object\n",
      " 222  Diagnoses - ICD10 - 55                                                                             72962 non-null  object\n",
      " 223  Diagnoses - ICD10 - 56                                                                             72962 non-null  object\n",
      " 224  Diagnoses - ICD10 - 57                                                                             72962 non-null  object\n",
      " 225  Diagnoses - ICD10 - 58                                                                             72962 non-null  object\n",
      " 226  Diagnoses - ICD10 - 59                                                                             72962 non-null  object\n",
      " 227  Diagnoses - ICD10 - 60                                                                             72962 non-null  object\n",
      " 228  Diagnoses - ICD10 - 61                                                                             72962 non-null  object\n",
      " 229  Diagnoses - ICD10 - 62                                                                             72962 non-null  object\n",
      " 230  Diagnoses - ICD10 - 63                                                                             72962 non-null  object\n",
      " 231  Diagnoses - ICD10 - 64                                                                             72962 non-null  object\n",
      " 232  Diagnoses - ICD10 - 65                                                                             72962 non-null  object\n",
      " 233  Diagnoses - ICD10 - 66                                                                             72962 non-null  object\n",
      " 234  Diagnoses - ICD10 - 67                                                                             72962 non-null  object\n",
      " 235  Diagnoses - ICD10 - 68                                                                             72962 non-null  object\n",
      " 236  Diagnoses - ICD10 - 69                                                                             72962 non-null  object\n",
      " 237  Diagnoses - ICD10 - 70                                                                             72962 non-null  object\n",
      " 238  Diagnoses - ICD10 - 71                                                                             72962 non-null  object\n",
      " 239  Diagnoses - ICD10 - 72                                                                             72962 non-null  object\n",
      " 240  Diagnoses - ICD10 - 73                                                                             72962 non-null  object\n",
      " 241  Diagnoses - ICD10 - 74                                                                             72962 non-null  object\n",
      " 242  Diagnoses - ICD10 - 75                                                                             72962 non-null  object\n",
      " 243  Diagnoses - ICD10 - 76                                                                             72962 non-null  object\n",
      " 244  Diagnoses - ICD10 - 77                                                                             72962 non-null  object\n",
      " 245  Diagnoses - ICD10 - 78                                                                             72962 non-null  object\n",
      " 246  Diagnoses - ICD10 - 79                                                                             72962 non-null  object\n",
      " 247  Diagnoses - ICD10 - 80                                                                             72962 non-null  object\n",
      " 248  Diagnoses - ICD10 - 81                                                                             72962 non-null  object\n",
      " 249  Diagnoses - ICD10 - 82                                                                             72962 non-null  object\n",
      " 250  Diagnoses - ICD10 - 83                                                                             72962 non-null  object\n",
      " 251  Diagnoses - ICD10 - 84                                                                             72962 non-null  object\n",
      " 252  Diagnoses - ICD10 - 85                                                                             72962 non-null  object\n",
      " 253  Diagnoses - ICD10 - 86                                                                             72962 non-null  object\n",
      " 254  Diagnoses - ICD10 - 87                                                                             72962 non-null  object\n",
      " 255  Diagnoses - ICD10 - 88                                                                             72962 non-null  object\n",
      " 256  Diagnoses - ICD10 - 89                                                                             72962 non-null  object\n",
      " 257  Diagnoses - ICD10 - 90                                                                             72962 non-null  object\n",
      " 258  Diagnoses - ICD10 - 91                                                                             72962 non-null  object\n",
      " 259  Diagnoses - ICD10 - 92                                                                             72962 non-null  object\n",
      " 260  Diagnoses - ICD10 - 93                                                                             72962 non-null  object\n",
      " 261  Diagnoses - ICD10 - 94                                                                             72962 non-null  object\n",
      " 262  Diagnoses - ICD10 - 95                                                                             72962 non-null  object\n",
      " 263  Diagnoses - ICD10 - 96                                                                             72962 non-null  object\n",
      " 264  Diagnoses - ICD10 - 97                                                                             72962 non-null  object\n",
      " 265  Diagnoses - ICD10 - 98                                                                             72962 non-null  object\n",
      " 266  Diagnoses - ICD10 - 99                                                                             72962 non-null  object\n",
      " 267  Date E66 first reported (obesity) - 0                                                              14757 non-null  object\n",
      " 268  Date K85 first reported (acute pancreatitis)  ? - 0                                                1433 non-null   object\n",
      " 269  Source of report of K85 (acute pancreatitis)  ? - 0                                                1433 non-null   object\n",
      " 270  Persistent or recurrent tiredness, weariness or fatigue that has lasted for at least 6 months - 0  23372 non-null  object\n",
      " 271  Tiredness, weariness or fatigue goes away when resting - 0                                         5206 non-null   object\n",
      " 272  LDL Cholesterol - 0                                                                                40024 non-null  object\n",
      " 273  HDL Cholesterol - 0                                                                                40024 non-null  object\n",
      " 274  Cholesteryl Esters in VLDL - 0                                                                     40024 non-null  object\n",
      " 275  Cholesteryl Esters in LDL - 0                                                                      40024 non-null  object\n",
      " 276  Cholesteryl Esters in HDL - 0                                                                      40024 non-null  object\n",
      " 277  Free Cholesterol in VLDL - 0                                                                       40024 non-null  object\n",
      " 278  Free Cholesterol in LDL - 0                                                                        40024 non-null  object\n",
      " 279  Free Cholesterol in HDL - 0                                                                        40024 non-null  object\n",
      " 280  Cholesterol in IDL - 0                                                                             40024 non-null  object\n",
      " 281  Cholesteryl Esters in IDL - 0                                                                      40024 non-null  object\n",
      " 282  Free Cholesterol in IDL - 0                                                                        40024 non-null  object\n",
      "dtypes: object(283)\n",
      "memory usage: 157.5+ MB\n"
     ]
    }
   ],
   "source": [
    "train_df.info(verbose=True, show_counts=True)"
   ],
   "metadata": {
    "collapsed": false,
    "ExecuteTime": {
     "end_time": "2024-06-01T13:22:02.792846Z",
     "start_time": "2024-06-01T13:22:01.963484Z"
    }
   },
   "id": "7b8c3502df744e62",
   "execution_count": 27
  },
  {
   "cell_type": "markdown",
   "source": [
    "###     1.1 Get diabetes dataset"
   ],
   "metadata": {
    "collapsed": false
   },
   "id": "d55d0846461b2dc8"
  },
  {
   "cell_type": "code",
   "outputs": [],
   "source": [
    "def get_people_with_disease(df, all_diseased_column, disease_code_pattern):\n",
    "    people_with_disease_df = df[all_diseased_column.str.contains(disease_code_pattern)]\n",
    "\n",
    "    return people_with_disease_df"
   ],
   "metadata": {
    "collapsed": false
   },
   "id": "c36b216b797c20a9",
   "execution_count": 38
  },
  {
   "metadata": {
    "ExecuteTime": {
     "end_time": "2024-05-26T08:44:59.684129Z",
     "start_time": "2024-05-26T08:44:56.615665Z"
    }
   },
   "cell_type": "code",
   "source": [
    "diabetes_pattern = r'E11'\n",
    "people_with_diabetes_df = get_people_with_disease(df_filled, all_diseased_column, diabetes_pattern)\n",
    "people_with_diabetes_df.shape"
   ],
   "id": "cba3fa7cd20e6179",
   "outputs": [
    {
     "data": {
      "text/plain": "52177"
     },
     "execution_count": 40,
     "metadata": {},
     "output_type": "execute_result"
    }
   ],
   "execution_count": 40
  },
  {
   "metadata": {},
   "cell_type": "markdown",
   "source": [
    "###    1.2 Get pancreatic cancer dataset"
   ],
   "id": "995fb2acfe53d4ac"
  },
  {
   "metadata": {},
   "cell_type": "code",
   "outputs": [],
   "execution_count": 4,
   "source": [
    "def get_people_with_2_diseases(df, first_disease_code_pattern, second_disease_code_pattern):\n",
    "    people_with_disease_df = df[df['41202-0.0'].str.contains(first_disease_code_pattern) & df['41204-0.0'].str.contains(second_disease_code_pattern)]\n",
    "    people_with_disease_df = pd.concat([people_with_disease_df, df[df['41204-0.0'].str.contains(first_disease_code_pattern) & df['41202-0.0'].str.contains(second_disease_code_pattern)]])\n",
    "\n",
    "    return people_with_disease_df"
   ],
   "id": "70613461aa8cbc20"
  },
  {
   "metadata": {
    "ExecuteTime": {
     "end_time": "2024-05-26T08:56:57.480608Z",
     "start_time": "2024-05-26T08:56:54.757291Z"
    }
   },
   "cell_type": "code",
   "source": [
    "sum = 0\n",
    "for num in range(10):\n",
    "    pancreatic_cancer_pattern = r'C25' + re.escape(str(num))\n",
    "    people_with_pancreatic_cancer_df = get_people_with_disease(df_filled, all_diseased_column,pancreatic_cancer_pattern)\n",
    "    sum += people_with_pancreatic_cancer_df.shape[0]\n",
    "sum"
   ],
   "id": "40c8e9d7c967695f",
   "outputs": [
    {
     "data": {
      "text/plain": "2851"
     },
     "execution_count": 61,
     "metadata": {},
     "output_type": "execute_result"
    }
   ],
   "execution_count": 61
  },
  {
   "metadata": {},
   "cell_type": "markdown",
   "source": [
    "###    1.3 Get patients with both diabetes and pancreatic cancer dataset"
   ],
   "id": "23a630c8995fee40"
  },
  {
   "metadata": {
    "jupyter": {
     "is_executing": true
    }
   },
   "cell_type": "code",
   "source": [
    "poeple_with_both_diseases = pd.merge([people_with_diabetes_df, people_with_pancreatic_cancer_df], how='inner')"
   ],
   "id": "b90c9e0ff66b20ad",
   "outputs": [],
   "execution_count": null
  },
  {
   "metadata": {},
   "cell_type": "markdown",
   "source": [],
   "id": "b6b3e05d097afefe"
  },
  {
   "metadata": {},
   "cell_type": "markdown",
   "source": [
    "###    1.4 Get test group dataset"
   ],
   "id": "bb89ccbd7ede55a8"
  },
  {
   "cell_type": "code",
   "outputs": [],
   "source": [
    "test_group_df = df.sample(n=100000)\n",
    "train_group_df = df.drop(test_group_df.index)"
   ],
   "metadata": {
    "collapsed": false
   },
   "id": "a24ef82efa4654cb",
   "execution_count": null
  },
  {
   "metadata": {
    "ExecuteTime": {
     "end_time": "2024-05-26T08:52:33.767542Z",
     "start_time": "2024-05-26T08:52:33.144427Z"
    }
   },
   "cell_type": "code",
   "outputs": [
    {
     "name": "stderr",
     "output_type": "stream",
     "text": [
      "/tmp/ipykernel_968599/2877151384.py:2: UserWarning: Boolean Series key will be reindexed to match DataFrame index.\n",
      "  people_with_disease_df = df[all_diseased_column.str.contains(disease_code_pattern)]\n"
     ]
    },
    {
     "name": "stdout",
     "output_type": "stream",
     "text": [
      "(8651, 82)\n"
     ]
    },
    {
     "name": "stderr",
     "output_type": "stream",
     "text": [
      "/tmp/ipykernel_968599/2877151384.py:2: UserWarning: Boolean Series key will be reindexed to match DataFrame index.\n",
      "  people_with_disease_df = df[all_diseased_column.str.contains(disease_code_pattern)]\n"
     ]
    },
    {
     "data": {
      "text/plain": "(382, 82)"
     },
     "execution_count": 59,
     "metadata": {},
     "output_type": "execute_result"
    }
   ],
   "execution_count": 59,
   "source": [
    "diabetes_pattern = r'E11'\n",
    "people_with_diabetes_df = get_people_with_disease(test_group_df, all_diseased_column, diabetes_pattern)\n",
    "print(people_with_diabetes_df.shape)"
   ],
   "id": "7d98f1699859677a"
  },
  {
   "cell_type": "code",
   "outputs": [],
   "source": [
    "pancreatic_cancer_pattern = r'C25'\n",
    "people_with_pancreatic_cancer_df = get_people_with_disease(test_group_df, all_diseased_column,pancreatic_cancer_pattern)\n",
    "people_with_pancreatic_cancer_df.shape"
   ],
   "metadata": {
    "collapsed": false
   },
   "id": "3b44fb27749d68de",
   "execution_count": null
  },
  {
   "cell_type": "code",
   "outputs": [],
   "source": [],
   "metadata": {
    "collapsed": false
   },
   "id": "1814fd40755d310",
   "execution_count": null
  },
  {
   "metadata": {},
   "cell_type": "markdown",
   "source": [
    "###    1.5 Merge and label datasets"
   ],
   "id": "f8adc64e7e0a494"
  },
  {
   "metadata": {
    "ExecuteTime": {
     "end_time": "2024-05-17T13:16:39.252883Z",
     "start_time": "2024-05-17T13:16:39.178205Z"
    }
   },
   "cell_type": "code",
   "source": [
    "people_with_diabetes_df['label'] = 1\n",
    "people_with_pancreatic_cancer_df['label'] = 2\n",
    "people_with_both_diseases['label'] = 3"
   ],
   "id": "4d4da612391c527",
   "outputs": [
    {
     "ename": "KeyError",
     "evalue": "'20116-0.0'",
     "output_type": "error",
     "traceback": [
      "\u001B[0;31m---------------------------------------------------------------------------\u001B[0m",
      "\u001B[0;31mKeyError\u001B[0m                                  Traceback (most recent call last)",
      "File \u001B[0;32m~/.virtualenvs/Final Project/lib/python3.10/site-packages/pandas/core/indexes/base.py:3805\u001B[0m, in \u001B[0;36mIndex.get_loc\u001B[0;34m(self, key)\u001B[0m\n\u001B[1;32m   3804\u001B[0m \u001B[38;5;28;01mtry\u001B[39;00m:\n\u001B[0;32m-> 3805\u001B[0m     \u001B[38;5;28;01mreturn\u001B[39;00m \u001B[38;5;28;43mself\u001B[39;49m\u001B[38;5;241;43m.\u001B[39;49m\u001B[43m_engine\u001B[49m\u001B[38;5;241;43m.\u001B[39;49m\u001B[43mget_loc\u001B[49m\u001B[43m(\u001B[49m\u001B[43mcasted_key\u001B[49m\u001B[43m)\u001B[49m\n\u001B[1;32m   3806\u001B[0m \u001B[38;5;28;01mexcept\u001B[39;00m \u001B[38;5;167;01mKeyError\u001B[39;00m \u001B[38;5;28;01mas\u001B[39;00m err:\n",
      "File \u001B[0;32mindex.pyx:167\u001B[0m, in \u001B[0;36mpandas._libs.index.IndexEngine.get_loc\u001B[0;34m()\u001B[0m\n",
      "File \u001B[0;32mindex.pyx:196\u001B[0m, in \u001B[0;36mpandas._libs.index.IndexEngine.get_loc\u001B[0;34m()\u001B[0m\n",
      "File \u001B[0;32mpandas/_libs/hashtable_class_helper.pxi:7081\u001B[0m, in \u001B[0;36mpandas._libs.hashtable.PyObjectHashTable.get_item\u001B[0;34m()\u001B[0m\n",
      "File \u001B[0;32mpandas/_libs/hashtable_class_helper.pxi:7089\u001B[0m, in \u001B[0;36mpandas._libs.hashtable.PyObjectHashTable.get_item\u001B[0;34m()\u001B[0m\n",
      "\u001B[0;31mKeyError\u001B[0m: '20116-0.0'",
      "\nThe above exception was the direct cause of the following exception:\n",
      "\u001B[0;31mKeyError\u001B[0m                                  Traceback (most recent call last)",
      "Cell \u001B[0;32mIn[55], line 4\u001B[0m\n\u001B[1;32m      1\u001B[0m diabetes_smoking \u001B[38;5;241m=\u001B[39m people_with_diabetes_df[\u001B[38;5;124m'\u001B[39m\u001B[38;5;124m20116-0.0\u001B[39m\u001B[38;5;124m'\u001B[39m]\u001B[38;5;241m.\u001B[39mvalue_counts()\n\u001B[1;32m      2\u001B[0m pancreatic_cancer_smoking \u001B[38;5;241m=\u001B[39m people_with_pancreatic_cancer_df[\u001B[38;5;124m'\u001B[39m\u001B[38;5;124m20116-0.0\u001B[39m\u001B[38;5;124m'\u001B[39m]\u001B[38;5;241m.\u001B[39mvalue_counts()\n\u001B[0;32m----> 4\u001B[0m x_axis \u001B[38;5;241m=\u001B[39m np\u001B[38;5;241m.\u001B[39marange(\u001B[38;5;28mlen\u001B[39m(\u001B[43mdiabetes_smoking\u001B[49m\u001B[43m[\u001B[49m\u001B[38;5;124;43m'\u001B[39;49m\u001B[38;5;124;43m20116-0.0\u001B[39;49m\u001B[38;5;124;43m'\u001B[39;49m\u001B[43m]\u001B[49m))\n\u001B[1;32m      6\u001B[0m plt\u001B[38;5;241m.\u001B[39mbar(x_axis \u001B[38;5;241m-\u001B[39m \u001B[38;5;241m0.2\u001B[39m, diabetes_smoking[\u001B[38;5;124m'\u001B[39m\u001B[38;5;124mcounts\u001B[39m\u001B[38;5;124m'\u001B[39m], \u001B[38;5;241m0.4\u001B[39m, label\u001B[38;5;241m=\u001B[39m\u001B[38;5;124m'\u001B[39m\u001B[38;5;124mdiabetes\u001B[39m\u001B[38;5;124m'\u001B[39m)\n\u001B[1;32m      7\u001B[0m plt\u001B[38;5;241m.\u001B[39mbar(x_axis \u001B[38;5;241m+\u001B[39m \u001B[38;5;241m0.2\u001B[39m, pancreatic_cancer_smoking[\u001B[38;5;124m'\u001B[39m\u001B[38;5;124mcounts\u001B[39m\u001B[38;5;124m'\u001B[39m], \u001B[38;5;241m0.4\u001B[39m, label\u001B[38;5;241m=\u001B[39m\u001B[38;5;124m'\u001B[39m\u001B[38;5;124mpancreatic cancer\u001B[39m\u001B[38;5;124m'\u001B[39m)\n",
      "File \u001B[0;32m~/.virtualenvs/Final Project/lib/python3.10/site-packages/pandas/core/series.py:1121\u001B[0m, in \u001B[0;36mSeries.__getitem__\u001B[0;34m(self, key)\u001B[0m\n\u001B[1;32m   1118\u001B[0m     \u001B[38;5;28;01mreturn\u001B[39;00m \u001B[38;5;28mself\u001B[39m\u001B[38;5;241m.\u001B[39m_values[key]\n\u001B[1;32m   1120\u001B[0m \u001B[38;5;28;01melif\u001B[39;00m key_is_scalar:\n\u001B[0;32m-> 1121\u001B[0m     \u001B[38;5;28;01mreturn\u001B[39;00m \u001B[38;5;28;43mself\u001B[39;49m\u001B[38;5;241;43m.\u001B[39;49m\u001B[43m_get_value\u001B[49m\u001B[43m(\u001B[49m\u001B[43mkey\u001B[49m\u001B[43m)\u001B[49m\n\u001B[1;32m   1123\u001B[0m \u001B[38;5;66;03m# Convert generator to list before going through hashable part\u001B[39;00m\n\u001B[1;32m   1124\u001B[0m \u001B[38;5;66;03m# (We will iterate through the generator there to check for slices)\u001B[39;00m\n\u001B[1;32m   1125\u001B[0m \u001B[38;5;28;01mif\u001B[39;00m is_iterator(key):\n",
      "File \u001B[0;32m~/.virtualenvs/Final Project/lib/python3.10/site-packages/pandas/core/series.py:1237\u001B[0m, in \u001B[0;36mSeries._get_value\u001B[0;34m(self, label, takeable)\u001B[0m\n\u001B[1;32m   1234\u001B[0m     \u001B[38;5;28;01mreturn\u001B[39;00m \u001B[38;5;28mself\u001B[39m\u001B[38;5;241m.\u001B[39m_values[label]\n\u001B[1;32m   1236\u001B[0m \u001B[38;5;66;03m# Similar to Index.get_value, but we do not fall back to positional\u001B[39;00m\n\u001B[0;32m-> 1237\u001B[0m loc \u001B[38;5;241m=\u001B[39m \u001B[38;5;28;43mself\u001B[39;49m\u001B[38;5;241;43m.\u001B[39;49m\u001B[43mindex\u001B[49m\u001B[38;5;241;43m.\u001B[39;49m\u001B[43mget_loc\u001B[49m\u001B[43m(\u001B[49m\u001B[43mlabel\u001B[49m\u001B[43m)\u001B[49m\n\u001B[1;32m   1239\u001B[0m \u001B[38;5;28;01mif\u001B[39;00m is_integer(loc):\n\u001B[1;32m   1240\u001B[0m     \u001B[38;5;28;01mreturn\u001B[39;00m \u001B[38;5;28mself\u001B[39m\u001B[38;5;241m.\u001B[39m_values[loc]\n",
      "File \u001B[0;32m~/.virtualenvs/Final Project/lib/python3.10/site-packages/pandas/core/indexes/base.py:3812\u001B[0m, in \u001B[0;36mIndex.get_loc\u001B[0;34m(self, key)\u001B[0m\n\u001B[1;32m   3807\u001B[0m     \u001B[38;5;28;01mif\u001B[39;00m \u001B[38;5;28misinstance\u001B[39m(casted_key, \u001B[38;5;28mslice\u001B[39m) \u001B[38;5;129;01mor\u001B[39;00m (\n\u001B[1;32m   3808\u001B[0m         \u001B[38;5;28misinstance\u001B[39m(casted_key, abc\u001B[38;5;241m.\u001B[39mIterable)\n\u001B[1;32m   3809\u001B[0m         \u001B[38;5;129;01mand\u001B[39;00m \u001B[38;5;28many\u001B[39m(\u001B[38;5;28misinstance\u001B[39m(x, \u001B[38;5;28mslice\u001B[39m) \u001B[38;5;28;01mfor\u001B[39;00m x \u001B[38;5;129;01min\u001B[39;00m casted_key)\n\u001B[1;32m   3810\u001B[0m     ):\n\u001B[1;32m   3811\u001B[0m         \u001B[38;5;28;01mraise\u001B[39;00m InvalidIndexError(key)\n\u001B[0;32m-> 3812\u001B[0m     \u001B[38;5;28;01mraise\u001B[39;00m \u001B[38;5;167;01mKeyError\u001B[39;00m(key) \u001B[38;5;28;01mfrom\u001B[39;00m \u001B[38;5;21;01merr\u001B[39;00m\n\u001B[1;32m   3813\u001B[0m \u001B[38;5;28;01mexcept\u001B[39;00m \u001B[38;5;167;01mTypeError\u001B[39;00m:\n\u001B[1;32m   3814\u001B[0m     \u001B[38;5;66;03m# If we have a listlike key, _check_indexing_error will raise\u001B[39;00m\n\u001B[1;32m   3815\u001B[0m     \u001B[38;5;66;03m#  InvalidIndexError. Otherwise we fall through and re-raise\u001B[39;00m\n\u001B[1;32m   3816\u001B[0m     \u001B[38;5;66;03m#  the TypeError.\u001B[39;00m\n\u001B[1;32m   3817\u001B[0m     \u001B[38;5;28mself\u001B[39m\u001B[38;5;241m.\u001B[39m_check_indexing_error(key)\n",
      "\u001B[0;31mKeyError\u001B[0m: '20116-0.0'"
     ]
    }
   ],
   "execution_count": 55
  },
  {
   "cell_type": "markdown",
   "source": [
    "# 2. FEATURE REPRESENTATION"
   ],
   "metadata": {
    "collapsed": false
   },
   "id": "54dad3ac744e65f6"
  },
  {
   "cell_type": "markdown",
   "source": [
    "### 2.1 Feature Preprocessing\n",
    "\n",
    "todo!!"
   ],
   "metadata": {
    "collapsed": false
   },
   "id": "f3a558f8fe827665"
  },
  {
   "cell_type": "code",
   "outputs": [],
   "source": [
    "with open('/tmp/pycharm_project_366/features_types.json') as f:\n",
    "    features_types = json.load(f)\n",
    "numerical_features = features_types['numerical_features']\n",
    "categorical_features = features_types['categorical_features']"
   ],
   "metadata": {
    "collapsed": false
   },
   "id": "8e611bf34dcb289a",
   "execution_count": null
  },
  {
   "cell_type": "markdown",
   "source": [
    "### 2.1.1 Fill nans for numerical values"
   ],
   "metadata": {
    "collapsed": false
   },
   "id": "4d266cc427931f16"
  },
  {
   "cell_type": "code",
   "outputs": [],
   "source": [
    "mean_imputer = SimpleImputer(strategy='mean')\n",
    "train_df[numerical_features] = mean_imputer.fit_transform(train_df[numerical_features])"
   ],
   "metadata": {
    "collapsed": false
   },
   "id": "6275f4394821fbc5",
   "execution_count": null
  },
  {
   "cell_type": "markdown",
   "source": [
    "### 2.1.2 Fill nans for categorical values"
   ],
   "metadata": {
    "collapsed": false
   },
   "id": "665267c3871f2d26"
  },
  {
   "cell_type": "code",
   "outputs": [],
   "source": [
    "categorical_imputer = SimpleImputer(strategy='most_frequent')\n",
    "train_df[categorical_features] = categorical_imputer.fit_transform(train_df[categorical_features])"
   ],
   "metadata": {
    "collapsed": false
   },
   "id": "e68c2677073f441b",
   "execution_count": null
  },
  {
   "cell_type": "markdown",
   "source": [
    "### 2.1.3 Extract information from diagnoses"
   ],
   "metadata": {
    "collapsed": false
   },
   "id": "fe87aeb7e9c87c5c"
  },
  {
   "cell_type": "code",
   "outputs": [],
   "source": [
    "diseases_patterns = [\n",
    "    ('Diabetes', r'E11'),\n",
    "    ('Pancreatic Cancer', r'C25'),\n",
    "    ('Obesity', r'E66'),\n",
    "    ('Acute Pancreatitis', r'K85'),\n",
    "    ('Alcoholic Liver Disease', r'K70'),\n",
    "    ('Cirrhosis', r'K74'),\n",
    "    ('Acute Hepatitis A', r'B15'),\n",
    "    ('Acute Hepatitis B', r'B16'),\n",
    "    ('Acute Hepatitis C', r'B171'),\n",
    "    ('Toxic Liver Disease', r'K71'),\n",
    "    ('Cushings Syndrome', r'E24'),\n",
    "    ('Hyperthyroidism', r'E05'),\n",
    "    ('Intestinal Malabsorption', r'K90'),\n",
    "    ('Arterial Embolism and Thrombosis', r'I74')\n",
    "]"
   ],
   "metadata": {
    "collapsed": false
   },
   "id": "2b409366ccd87572",
   "execution_count": null
  },
  {
   "cell_type": "code",
   "outputs": [],
   "source": [
    "def classify_disease(diseases_column, disease_pattern):\n",
    "    return diseases_column.str.contains(disease_pattern)"
   ],
   "metadata": {
    "collapsed": false
   },
   "id": "6fd706adadf10c9f",
   "execution_count": null
  },
  {
   "cell_type": "code",
   "outputs": [],
   "source": [
    "patient_diseases = train_df['Diagnoses']\n",
    "for disease, disease_pattern in diseases_patterns[:2]:\n",
    "    train_df[f'Has {disease}'] = classify_disease(patient_diseases, disease_pattern)"
   ],
   "metadata": {
    "collapsed": false
   },
   "id": "f592d48114301cf7",
   "execution_count": null
  },
  {
   "cell_type": "code",
   "outputs": [],
   "source": [
    "train_df = train_df.drop(columns=['Diagnoses'])"
   ],
   "metadata": {
    "collapsed": false
   },
   "id": "7259d10dfeccd256",
   "execution_count": null
  },
  {
   "cell_type": "markdown",
   "source": [
    "### 2.1.4 Extract information from family"
   ],
   "metadata": {
    "collapsed": false
   },
   "id": "dce258f4ad29d2b"
  },
  {
   "cell_type": "code",
   "outputs": [],
   "source": [
    "father_diagnosis_codes = [f'Illnesses of father - {i}' for i in range(10)]\n",
    "mother_diagnosis_codes = [f'Illnesses of mother - {i}' for i in range(11)]\n",
    "siblings_diagnosis_codes = [f'Illnesses of siblings - {i}' for i in range(12)]"
   ],
   "metadata": {
    "collapsed": false
   },
   "id": "1108e3681d3927ae",
   "execution_count": null
  },
  {
   "cell_type": "code",
   "outputs": [],
   "source": [
    "father_diseases = train_df[father_diagnosis_codes]\n",
    "mother_diseases = train_df[mother_diagnosis_codes]\n",
    "siblings_diseases = train_df[siblings_diagnosis_codes]"
   ],
   "metadata": {
    "collapsed": false
   },
   "id": "6d6b56805b25aa90",
   "execution_count": null
  },
  {
   "cell_type": "code",
   "outputs": [],
   "source": [
    "for disease, disease_pattern in diseases_patterns:\n",
    "    train_df[f'Father has {disease}'] = classify_disease(father_diseases, disease_pattern)"
   ],
   "metadata": {
    "collapsed": false
   },
   "id": "6553f7401d3f3ae5",
   "execution_count": null
  },
  {
   "cell_type": "code",
   "outputs": [],
   "source": [
    "for disease, disease_pattern in diseases_patterns:\n",
    "    train_df[f'Mother has {disease}'] = classify_disease(mother_diseases, disease_pattern)"
   ],
   "metadata": {
    "collapsed": false
   },
   "id": "5025435ac7b8afe4",
   "execution_count": null
  },
  {
   "cell_type": "code",
   "outputs": [],
   "source": [
    "for disease, disease_pattern in diseases_patterns:\n",
    "    train_df[f'Siblings have {disease}'] = classify_disease(siblings_diseases, disease_pattern)"
   ],
   "metadata": {
    "collapsed": false
   },
   "id": "793947fa7ca9e72a",
   "execution_count": null
  },
  {
   "cell_type": "code",
   "outputs": [],
   "source": [
    "train_df = train_df.drop(columns=(father_diagnosis_codes + mother_diagnosis_codes + siblings_diagnosis_codes))"
   ],
   "metadata": {
    "collapsed": false
   },
   "id": "fa32a5c285a15095",
   "execution_count": null
  },
  {
   "cell_type": "markdown",
   "source": "### 2.2 Feature analysis",
   "metadata": {
    "collapsed": false
   },
   "id": "2365c99ecdecf980"
  },
  {
   "metadata": {},
   "cell_type": "markdown",
   "source": "### 2.2.1 feature plots",
   "id": "4e03c51a55b71c48"
  },
  {
   "metadata": {},
   "cell_type": "code",
   "outputs": [],
   "execution_count": null,
   "source": [
    "Label_dictionary = {0:'Control group', 1:'Pancreatic Cancer patients', 2:'Diabetes patients'}\n",
    "\n",
    "def plot_categorical_feature(data):\n",
    "    categorical_labels = data.iloc[:,1].unique()\n",
    "    grouped_data = data.groupby([data.columns[0], data.colomns[1]]).size().unstack(fill_value=0)\n",
    "    grouped_data = grouped_data.index.setnames(Label_dictionary)\n",
    "    \n",
    "    grouped_data.columns = categorical_labels\n",
    "    \n",
    "    grouped_data = grouped_data.reset_index()\n",
    "    \n",
    "    grouped_data.plot(x=data.columns[0], kind='bar', stacked=False, figsize=(10, 6), color=['skyblue', 'salmon'])\n",
    "    \n",
    "    plt.xlabel(data.colomns[1].capitalize())\n",
    "    plt.ylabel('Number of People')\n",
    "    plt.title(f'Number of People by {data.colomns[0].capitalize()} and {data.colomns[1].capitalize()}')\n",
    "    plt.xticks(rotation=0)\n",
    "    \n",
    "    plt.legend(title='Category', labels=categorical_labels)\n",
    "    plt.show()"
   ],
   "id": "a729d03586dd8b49"
  },
  {
   "metadata": {},
   "cell_type": "code",
   "outputs": [],
   "execution_count": null,
   "source": [
    "def plot_continuous_feature(data, agg_func='mean'):\n",
    "    \n",
    "    grouped_data = data.groupby(data.columns[0])[data.colomns[1]].agg(agg_func).reset_index()\n",
    "    \n",
    "    grouped_data.columns = [data.columns[0].capitalize(), f'{agg_func.capitalize()} of {data.colomns[1].capitalize()}']\n",
    "    \n",
    "    plt.figure(figsize=(10, 6))\n",
    "    sns.barplot(x=data.colomns[1].capitalize(), y=f'{agg_func.capitalize()} of {data.colomns[1].capitalize()}', data=grouped_data, palette='viridis')\n",
    "    \n",
    "    plt.xlabel(data.columns[0].capitalize())\n",
    "    plt.ylabel(f'{agg_func.capitalize()} of {data.colomns[1].capitalize()}')\n",
    "    plt.title(f'{agg_func.capitalize()} of {data.colomns[1].capitalize()} by {data.columns[0].capitalize()}')\n",
    "    \n",
    "    plt.show()"
   ],
   "id": "998b00d30f5936c6"
  },
  {
   "metadata": {},
   "cell_type": "markdown",
   "source": "### 2.2.1.1 Quality of life",
   "id": "e2b4ca23b362a716"
  },
  {
   "metadata": {},
   "cell_type": "code",
   "outputs": [],
   "execution_count": null,
   "source": [
    "categorical_features_to_plot = ['Smoking Status', 'Processed meat intake', 'Processed meat intake', 'Alcohol intake frequency']\n",
    "continuous_features_to_plot = ['Time spent watching television (TV)', 'Time spent using computer', 'Duration of moderate activity','Overall quality of sleep in past month']\n",
    "\n",
    "for feature in categorical_features_to_plot:\n",
    "    plot_categorical_feature(train_group_df[['Label', feature]])\n",
    "for feature in continuous_features_to_plot:\n",
    "    plot_categorical_feature(train_group_df[['Label', feature]])"
   ],
   "id": "c5c0f269dfee57aa"
  },
  {
   "metadata": {},
   "cell_type": "code",
   "outputs": [],
   "execution_count": null,
   "source": [
    "\n",
    "\n",
    "diabetes_smoking = people_with_diabetes_df['20116-0.0'].value_counts()\n",
    "pancreatic_cancer_smoking = people_with_pancreatic_cancer_df['20116-0.0'].value_counts()\n",
    "\n",
    "x_axis = np.arange(len(diabetes_smoking['20116-0.0']))\n",
    "\n",
    "plt.bar(x_axis - 0.2, diabetes_smoking['counts'], 0.4, label='diabetes')\n",
    "plt.bar(x_axis + 0.2, pancreatic_cancer_smoking['counts'], 0.4, label='pancreatic cancer')\n",
    "\n",
    "plt.show()"
   ],
   "id": "358a2adb0c2726ea"
  },
  {
   "cell_type": "code",
   "outputs": [],
   "source": [
    "people_with_diabetes_df['20116-0.0'].value_counts().plot(kind='bar')\n",
    "plt.show()\n",
    "people_with_pancreatic_cancer_df['20116-0.0'].value_counts().plot(kind='bar')\n",
    "plt.show()"
   ],
   "metadata": {
    "collapsed": false
   },
   "id": "f6fc2335b3b3b6b5",
   "execution_count": null
  },
  {
   "cell_type": "code",
   "outputs": [],
   "source": [
    "people_with_diabetes_and_pancreatic_cancer_df = get_people_with_2_diseases(df_filled, diabetes_pattern, pancreatic_cancer_pattern)\n",
    "people_with_diabetes_and_pancreatic_cancer_df"
   ],
   "metadata": {
    "collapsed": false
   },
   "id": "6f56ee151fbb970f",
   "execution_count": null
  },
  {
   "cell_type": "code",
   "outputs": [],
   "source": [
    "temp = pd.read_csv(biobank_path, usecols=features_code_list)"
   ],
   "metadata": {
    "collapsed": false
   },
   "id": "7c1a17a196ce0b50",
   "execution_count": null
  },
  {
   "cell_type": "code",
   "outputs": [],
   "source": [],
   "metadata": {
    "collapsed": false
   },
   "id": "26da83fb50c40a49",
   "execution_count": null
  }
 ],
 "metadata": {
  "kernelspec": {
   "display_name": "Python 3",
   "language": "python",
   "name": "python3"
  },
  "language_info": {
   "codemirror_mode": {
    "name": "ipython",
    "version": 2
   },
   "file_extension": ".py",
   "mimetype": "text/x-python",
   "name": "python",
   "nbconvert_exporter": "python",
   "pygments_lexer": "ipython2",
   "version": "2.7.6"
  }
 },
 "nbformat": 4,
 "nbformat_minor": 5
}

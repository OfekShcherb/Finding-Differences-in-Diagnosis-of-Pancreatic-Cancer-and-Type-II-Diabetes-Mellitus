{
 "cells": [
  {
   "cell_type": "code",
   "id": "initial_id",
   "metadata": {
    "collapsed": true,
    "ExecuteTime": {
     "end_time": "2024-07-29T07:17:05.902181Z",
     "start_time": "2024-07-29T07:17:05.647459Z"
    }
   },
   "source": [
    "import sys\n",
    "\n",
    "import pandas as pd\n",
    "import numpy as np\n",
    "import json\n",
    "import matplotlib.pyplot as plt\n",
    "import re\n",
    "from collections import defaultdict\n",
    "from sklearn.impute import SimpleImputer\n",
    "import seaborn as sns\n",
    "from sklearn.ensemble import RandomForestClassifier\n",
    "from sklearn.metrics import classification_report, accuracy_score\n",
    "from sklearn.metrics import confusion_matrix\n",
    "from sklearn.preprocessing import OneHotEncoder\n",
    "from sklearn.model_selection import GridSearchCV\n",
    "import pickle"
   ],
   "outputs": [],
   "execution_count": 1
  },
  {
   "metadata": {},
   "cell_type": "markdown",
   "source": [
    "# DATA SET CREATION"
   ],
   "id": "2970a132e25d7dbb"
  },
  {
   "metadata": {},
   "cell_type": "markdown",
   "source": [
    "### 1. dataset extraction"
   ],
   "id": "fab2988244b5b60e"
  },
  {
   "metadata": {
    "ExecuteTime": {
     "end_time": "2024-07-29T07:17:09.589152Z",
     "start_time": "2024-07-29T07:17:09.584095Z"
    }
   },
   "cell_type": "code",
   "source": [
    "with open ('/tmp/pycharm_project_366/config.json', 'r', encoding='utf-8') as f:\n",
    "    config = json.load(f)\n",
    "\n",
    "#features_code_lists = config['features_code_lists']\n",
    "features_name_list = config['features_name_list']\n",
    "train_path = config['train_path']\n",
    "test_path = config['test_path']"
   ],
   "id": "447a79c9ecd39274",
   "outputs": [],
   "execution_count": 2
  },
  {
   "cell_type": "code",
   "source": [
    "train_df = pd.read_csv(train_path, low_memory=False)"
   ],
   "metadata": {
    "collapsed": false
   },
   "id": "f61cded704c98638",
   "outputs": [],
   "execution_count": null
  },
  {
   "metadata": {},
   "cell_type": "code",
   "source": [
    "train_df.shape"
   ],
   "id": "7a54e5dbd0df4c66",
   "outputs": [],
   "execution_count": null
  },
  {
   "cell_type": "code",
   "outputs": [],
   "source": [
    "features_code_dict = {}\n",
    "features_with_array = defaultdict(lambda: 1)\n",
    "with open('/tmp/pycharm_project_366/features_with_arrays.txt') as f:\n",
    "    for line in f:\n",
    "        feature_code, array_size = line.split()\n",
    "        features_with_array[feature_code] = int(array_size)\n",
    "\n",
    "with open('/tmp/pycharm_project_366/features.txt') as features_file:\n",
    "    for line in features_file:\n",
    "        feature_code, feature_name = line.split('\\t')\n",
    "        feature_name = feature_name.replace('\\n', '')\n",
    "        size = features_with_array[feature_code]\n",
    "        for i in range(size):\n",
    "            new_feature_code = f'{feature_code}-0.{i}'\n",
    "            new_feature_name = f'{feature_name} - {i}'\n",
    "            features_code_dict[new_feature_code] = new_feature_name"
   ],
   "metadata": {
    "collapsed": false,
    "ExecuteTime": {
     "end_time": "2024-07-29T07:17:14.130499Z",
     "start_time": "2024-07-29T07:17:14.124474Z"
    }
   },
   "id": "b757400a62b8bec2",
   "execution_count": 3
  },
  {
   "cell_type": "code",
   "outputs": [],
   "source": [
    "features_code_dict"
   ],
   "metadata": {
    "collapsed": false
   },
   "id": "84062fe693354d08",
   "execution_count": null
  },
  {
   "cell_type": "code",
   "outputs": [],
   "source": [
    "train_df = train_df.rename(columns=features_code_dict)"
   ],
   "metadata": {
    "collapsed": false
   },
   "id": "7ccd633aa256048b",
   "execution_count": null
  },
  {
   "cell_type": "code",
   "outputs": [],
   "source": [
    "train_df.info(verbose=True, show_counts=True)"
   ],
   "metadata": {
    "collapsed": false
   },
   "id": "7b8c3502df744e62",
   "execution_count": null
  },
  {
   "cell_type": "markdown",
   "source": [
    "# 2. FEATURE REPRESENTATION"
   ],
   "metadata": {
    "collapsed": false
   },
   "id": "54dad3ac744e65f6"
  },
  {
   "cell_type": "markdown",
   "source": [
    "### 2.1 Feature Preprocessing\n",
    "\n",
    "todo!!"
   ],
   "metadata": {
    "collapsed": false
   },
   "id": "f3a558f8fe827665"
  },
  {
   "cell_type": "code",
   "outputs": [],
   "source": [
    "with open('features_types.json') as f:\n",
    "    features_types = json.load(f)\n",
    "numerical_features = [f'{feature} - 0' for feature in features_types['numerical_features']]\n",
    "categorical_features = [f'{feature} - 0' for feature in features_types['categorical_features']]"
   ],
   "metadata": {
    "collapsed": false,
    "ExecuteTime": {
     "end_time": "2024-07-29T07:17:17.840302Z",
     "start_time": "2024-07-29T07:17:17.834622Z"
    }
   },
   "id": "8e611bf34dcb289a",
   "execution_count": 4
  },
  {
   "cell_type": "markdown",
   "source": [
    "### 2.1.1 Fill nans for numerical values"
   ],
   "metadata": {
    "collapsed": false
   },
   "id": "4d266cc427931f16"
  },
  {
   "cell_type": "code",
   "outputs": [],
   "source": [
    "mean_imputer = SimpleImputer(strategy='mean')"
   ],
   "metadata": {
    "collapsed": false
   },
   "id": "6275f4394821fbc5",
   "execution_count": null
  },
  {
   "cell_type": "code",
   "outputs": [],
   "source": [
    "train_df[numerical_features] = mean_imputer.fit_transform(train_df[numerical_features])"
   ],
   "metadata": {
    "collapsed": false
   },
   "id": "e8f68a8df5f3833e",
   "execution_count": null
  },
  {
   "cell_type": "markdown",
   "source": [
    "### 2.1.2 Fill nans for categorical values"
   ],
   "metadata": {
    "collapsed": false
   },
   "id": "665267c3871f2d26"
  },
  {
   "cell_type": "code",
   "outputs": [],
   "source": [
    "categorical_imputer = SimpleImputer(strategy='most_frequent')\n",
    "train_df[categorical_features] = categorical_imputer.fit_transform(train_df[categorical_features])"
   ],
   "metadata": {
    "collapsed": false
   },
   "id": "e68c2677073f441b",
   "execution_count": null
  },
  {
   "cell_type": "markdown",
   "source": [
    "### 2.1.3 Extract information from diagnoses"
   ],
   "metadata": {
    "collapsed": false
   },
   "id": "fe87aeb7e9c87c5c"
  },
  {
   "cell_type": "code",
   "outputs": [],
   "source": [
    "diseases_patterns = [\n",
    "    ('Diabetes', r'E11'),\n",
    "    ('Pancreatic Cancer', r'C25'),\n",
    "    ('Obesity', r'E66'),\n",
    "    ('Acute Pancreatitis', r'K85'),\n",
    "    ('Alcoholic Liver Disease', r'K70'),\n",
    "    ('Cirrhosis', r'K74'),\n",
    "    ('Acute Hepatitis A', r'B15'),\n",
    "    ('Acute Hepatitis B', r'B16'),\n",
    "    ('Acute Hepatitis C', r'B171'),\n",
    "    ('Toxic Liver Disease', r'K71'),\n",
    "    ('Cushings Syndrome', r'E24'),\n",
    "    ('Hyperthyroidism', r'E05'),\n",
    "    ('Intestinal Malabsorption', r'K90'),\n",
    "    ('Arterial Embolism and Thrombosis', r'I74')\n",
    "]"
   ],
   "metadata": {
    "collapsed": false,
    "ExecuteTime": {
     "end_time": "2024-07-29T07:17:20.730972Z",
     "start_time": "2024-07-29T07:17:20.724649Z"
    }
   },
   "id": "2b409366ccd87572",
   "execution_count": 5
  },
  {
   "cell_type": "code",
   "outputs": [],
   "source": [
    "def classify_disease(diseases_column, disease_pattern):\n",
    "    return diseases_column.str.contains(disease_pattern)"
   ],
   "metadata": {
    "collapsed": false,
    "ExecuteTime": {
     "end_time": "2024-07-29T07:17:22.779496Z",
     "start_time": "2024-07-29T07:17:22.775783Z"
    }
   },
   "id": "6fd706adadf10c9f",
   "execution_count": 6
  },
  {
   "cell_type": "code",
   "outputs": [],
   "source": [
    "patient_diseases = train_df['Diagnoses']\n",
    "for disease, disease_pattern in diseases_patterns[2:]:\n",
    "    train_df[f'Has {disease}'] = classify_disease(patient_diseases, disease_pattern)"
   ],
   "metadata": {
    "collapsed": false
   },
   "id": "f592d48114301cf7",
   "execution_count": null
  },
  {
   "cell_type": "code",
   "outputs": [],
   "source": [
    "train_df = train_df.drop(columns=['Diagnoses'])\n",
    "train_df = train_df.drop(columns=[f'Diagnoses - ICD10 - {i}' for i in range(100)])"
   ],
   "metadata": {
    "collapsed": false
   },
   "id": "7259d10dfeccd256",
   "execution_count": null
  },
  {
   "cell_type": "code",
   "outputs": [],
   "source": [
    "train_df"
   ],
   "metadata": {
    "collapsed": false
   },
   "id": "e68b64264887c54b",
   "execution_count": null
  },
  {
   "cell_type": "markdown",
   "source": [
    "### 2.1.4 Extract information from family"
   ],
   "metadata": {
    "collapsed": false
   },
   "id": "dce258f4ad29d2b"
  },
  {
   "cell_type": "code",
   "outputs": [],
   "source": [
    "father_diagnosis_codes = [f'Illnesses of father - {i}' for i in range(10)]\n",
    "mother_diagnosis_codes = [f'Illnesses of mother - {i}' for i in range(11)]\n",
    "siblings_diagnosis_codes = [f'Illnesses of siblings - {i}' for i in range(12)]"
   ],
   "metadata": {
    "collapsed": false,
    "ExecuteTime": {
     "end_time": "2024-07-29T07:17:26.280727Z",
     "start_time": "2024-07-29T07:17:26.276685Z"
    }
   },
   "id": "1108e3681d3927ae",
   "execution_count": 7
  },
  {
   "cell_type": "code",
   "outputs": [],
   "source": [
    "father_diseases = train_df[father_diagnosis_codes].astype(str).agg(', '.join, axis=1)\n",
    "mother_diseases = train_df[mother_diagnosis_codes].astype(str).agg(', '.join, axis=1)\n",
    "siblings_diseases = train_df[siblings_diagnosis_codes].astype(str).agg(', '.join, axis=1)"
   ],
   "metadata": {
    "collapsed": false
   },
   "id": "6d6b56805b25aa90",
   "execution_count": null
  },
  {
   "cell_type": "code",
   "outputs": [],
   "source": [
    "for disease, disease_pattern in diseases_patterns:\n",
    "    train_df[f'Father has {disease}'] = classify_disease(father_diseases, disease_pattern)"
   ],
   "metadata": {
    "collapsed": false
   },
   "id": "6553f7401d3f3ae5",
   "execution_count": null
  },
  {
   "cell_type": "code",
   "outputs": [],
   "source": [
    "for disease, disease_pattern in diseases_patterns:\n",
    "    train_df[f'Mother has {disease}'] = classify_disease(mother_diseases, disease_pattern)"
   ],
   "metadata": {
    "collapsed": false
   },
   "id": "5025435ac7b8afe4",
   "execution_count": null
  },
  {
   "cell_type": "code",
   "outputs": [],
   "source": [
    "for disease, disease_pattern in diseases_patterns:\n",
    "    train_df[f'Siblings have {disease}'] = classify_disease(siblings_diseases, disease_pattern)"
   ],
   "metadata": {
    "collapsed": false
   },
   "id": "793947fa7ca9e72a",
   "execution_count": null
  },
  {
   "cell_type": "code",
   "outputs": [],
   "source": [
    "train_df = train_df.drop(columns=(father_diagnosis_codes + mother_diagnosis_codes + siblings_diagnosis_codes))"
   ],
   "metadata": {
    "collapsed": false
   },
   "id": "fa32a5c285a15095",
   "execution_count": null
  },
  {
   "cell_type": "markdown",
   "source": [
    "### 2.2 One Hot Encoding"
   ],
   "metadata": {
    "collapsed": false
   },
   "id": "96a3c9fd4d363b2e"
  },
  {
   "cell_type": "code",
   "outputs": [],
   "source": [
    "one_hot_encoder = OneHotEncoder(sparse_output=False, handle_unknown='ignore').set_output(transform='pandas')\n",
    "one_hot_encoding = one_hot_encoder.fit_transform(train_df[categorical_features])\n",
    "train_df = pd.concat([train_df, one_hot_encoding], axis=1)\n",
    "train_df = train_df.drop(columns=categorical_features)"
   ],
   "metadata": {
    "collapsed": false
   },
   "id": "7c5c94ee744f37e9",
   "execution_count": null
  },
  {
   "cell_type": "code",
   "outputs": [],
   "source": [
    "train_df"
   ],
   "metadata": {
    "collapsed": false
   },
   "id": "9c44791c18a055f9",
   "execution_count": null
  },
  {
   "cell_type": "markdown",
   "source": [
    "### 2.2 Feature analysis"
   ],
   "metadata": {
    "collapsed": false
   },
   "id": "2365c99ecdecf980"
  },
  {
   "metadata": {},
   "cell_type": "markdown",
   "source": [
    "### 2.2.1 feature plots"
   ],
   "id": "4e03c51a55b71c48"
  },
  {
   "metadata": {},
   "cell_type": "code",
   "outputs": [],
   "execution_count": null,
   "source": [
    "Label_dictionary = {0:'Control group', 1:'Pancreatic Cancer patients', 2:'Diabetes patients'}\n",
    "\n",
    "def plot_categorical_feature(data):\n",
    "    categorical_labels = data.iloc[:,1].unique()\n",
    "    grouped_data = data.groupby([data.columns[0], data.columns[1]]).size().unstack(fill_value=0)\n",
    "    #grouped_data = grouped_data.index.setnames(Label_dictionary)\n",
    "    \n",
    "    grouped_data.columns = categorical_labels\n",
    "    \n",
    "    grouped_data = grouped_data.reset_index()\n",
    "    \n",
    "    grouped_data.plot(x=data.columns[0], kind='bar', stacked=False, figsize=(10, 6))\n",
    "    \n",
    "    plt.xlabel(data.columns[1].capitalize())\n",
    "    plt.ylabel('Number of People')\n",
    "    plt.title(f'Number of People by {data.columns[0].capitalize()} and {data.columns[1].capitalize()}')\n",
    "    plt.xticks(rotation=0)\n",
    "    \n",
    "    plt.legend(title='Category', labels=categorical_labels)\n",
    "    plt.show()"
   ],
   "id": "a729d03586dd8b49"
  },
  {
   "metadata": {},
   "cell_type": "code",
   "outputs": [],
   "execution_count": null,
   "source": [
    "def plot_continuous_feature(data, agg_func='mean'):\n",
    "    \n",
    "    grouped_data = data.groupby(data.columns[0])[data.columns[1]].agg(agg_func).reset_index()\n",
    "    \n",
    "    grouped_data.columns = [data.columns[0].capitalize(), f'{agg_func.capitalize()} of {data.columns[1].capitalize()}']\n",
    "    \n",
    "    plt.figure(figsize=(10, 6))\n",
    "    sns.barplot(x=data.columns[1].capitalize(), y=f'{agg_func.capitalize()} of {data.columns[1].capitalize()}', data=grouped_data, palette='viridis')\n",
    "    \n",
    "    plt.xlabel(data.columns[0].capitalize())\n",
    "    plt.ylabel(f'{agg_func.capitalize()} of {data.columns[1].capitalize()}')\n",
    "    plt.title(f'{agg_func.capitalize()} of {data.columns[1].capitalize()} by {data.columns[0].capitalize()}')\n",
    "    \n",
    "    plt.show()"
   ],
   "id": "998b00d30f5936c6"
  },
  {
   "metadata": {},
   "cell_type": "markdown",
   "source": [
    "### 2.2.1.1 Quality of life"
   ],
   "id": "e2b4ca23b362a716"
  },
  {
   "metadata": {},
   "cell_type": "code",
   "outputs": [],
   "execution_count": null,
   "source": [
    "categorical_features_to_plot = ['Smoking Status', 'Processed meat intake', 'Processed meat intake', 'Alcohol intake frequency']\n",
    "#continuous_features_to_plot = ['Time spent watching television (TV)', 'Time spent using computer', 'Duration of moderate activity','Overall quality of sleep in past month']\n",
    "\n",
    "for feature in categorical_features_to_plot:\n",
    "    plot_categorical_feature(train_df[['Label', f'{feature} - 0']])\n",
    "#for feature in continuous_features_to_plot:\n",
    "#    plot_categorical_feature(train_group_df[['Label', feature]])"
   ],
   "id": "c5c0f269dfee57aa"
  },
  {
   "cell_type": "code",
   "outputs": [],
   "source": [
    "train_df.info(verbose=True, show_counts=True)"
   ],
   "metadata": {
    "collapsed": false
   },
   "id": "b07cf2634948885e",
   "execution_count": null
  },
  {
   "cell_type": "markdown",
   "source": [
    "# 3 Training the Model"
   ],
   "metadata": {
    "collapsed": false
   },
   "id": "911cb4add67928d7"
  },
  {
   "cell_type": "code",
   "outputs": [],
   "source": [
    "y = train_df['Label']\n",
    "x = train_df.drop(['Label', 'eid'], axis=1)"
   ],
   "metadata": {
    "collapsed": false
   },
   "id": "19a3db1c12e1d22c",
   "execution_count": null
  },
  {
   "cell_type": "code",
   "outputs": [],
   "source": [
    "param_grid = {\n",
    "    'n_estimators': [100, 200, 300],\n",
    "    'max_depth': [None, 10, 20, 30],\n",
    "    'min_samples_split': [2, 5, 10],\n",
    "    'min_samples_leaf': [1, 2, 4],\n",
    "    'bootstrap': [True, False]\n",
    "}\n",
    "rf_model = RandomForestClassifier()\n",
    "grid_search = GridSearchCV(estimator=rf_model, param_grid=param_grid, cv=3, n_jobs=-1, verbose=2, scoring='accuracy')"
   ],
   "metadata": {
    "collapsed": false
   },
   "id": "833a116d7412d4e0"
  },
  {
   "cell_type": "code",
   "outputs": [],
   "source": [
    "grid_search.fit(x,y)\n",
    "best_model = grid_search.best_estimator_"
   ],
   "metadata": {
    "collapsed": false
   },
   "id": "6b8119192c6fe392",
   "execution_count": null
  },
  {
   "cell_type": "markdown",
   "source": [],
   "metadata": {
    "collapsed": false
   },
   "id": "80ecbf14e96fff76"
  },
  {
   "cell_type": "markdown",
   "source": [
    "# 4 Evaluate Model"
   ],
   "metadata": {
    "collapsed": false
   },
   "id": "6828dd39584f8620"
  },
  {
   "cell_type": "code",
   "outputs": [],
   "source": [
    "test_df = pd.read_csv(test_path)"
   ],
   "metadata": {
    "collapsed": false,
    "ExecuteTime": {
     "end_time": "2024-07-29T07:17:35.487479Z",
     "start_time": "2024-07-29T07:17:30.550967Z"
    }
   },
   "id": "32fd959a7340486e",
   "execution_count": 8
  },
  {
   "cell_type": "code",
   "outputs": [],
   "source": [
    "test_df = test_df.rename(columns=features_code_dict)"
   ],
   "metadata": {
    "collapsed": false,
    "ExecuteTime": {
     "end_time": "2024-07-29T07:17:37.301445Z",
     "start_time": "2024-07-29T07:17:37.151436Z"
    }
   },
   "id": "18f49622c8782d00",
   "execution_count": 9
  },
  {
   "cell_type": "code",
   "outputs": [],
   "source": [
    "model = pickle.load(open('/tmp/pycharm_project_366/Models/Best_Model.pk1', 'rb'))\n",
    "one_hot_encoder = pickle.load(open('/tmp/pycharm_project_366/Models/One_Hot_Encoder.pk1', 'rb'))\n",
    "mean_imputer = pickle.load(open('/tmp/pycharm_project_366/Models/Mean_Imputer.pk1' , 'rb'))\n",
    "categorical_imputer = pickle.load(open('/tmp/pycharm_project_366/Models/Categorical_Imputer.pk1', 'rb'))"
   ],
   "metadata": {
    "collapsed": false,
    "ExecuteTime": {
     "end_time": "2024-07-29T07:17:38.903191Z",
     "start_time": "2024-07-29T07:17:38.387533Z"
    }
   },
   "id": "f62c07f59127fe27",
   "execution_count": 10
  },
  {
   "cell_type": "code",
   "outputs": [],
   "source": [
    "test_df[numerical_features] = mean_imputer.transform(test_df[numerical_features])\n",
    "del mean_imputer"
   ],
   "metadata": {
    "collapsed": false,
    "ExecuteTime": {
     "end_time": "2024-07-29T07:17:39.954528Z",
     "start_time": "2024-07-29T07:17:39.607843Z"
    }
   },
   "id": "89f630539d4d0aee",
   "execution_count": 11
  },
  {
   "cell_type": "code",
   "outputs": [],
   "source": [
    "test_df[categorical_features] = categorical_imputer.transform(test_df[categorical_features])\n",
    "del categorical_imputer"
   ],
   "metadata": {
    "collapsed": false,
    "ExecuteTime": {
     "end_time": "2024-07-29T07:17:40.575016Z",
     "start_time": "2024-07-29T07:17:40.521397Z"
    }
   },
   "id": "dd989740ba969fae",
   "execution_count": 12
  },
  {
   "cell_type": "code",
   "outputs": [
    {
     "name": "stderr",
     "output_type": "stream",
     "text": [
      "/tmp/ipykernel_1361831/826047092.py:3: PerformanceWarning: DataFrame is highly fragmented.  This is usually the result of calling `frame.insert` many times, which has poor performance.  Consider joining all columns at once using pd.concat(axis=1) instead. To get a de-fragmented frame, use `newframe = frame.copy()`\n",
      "  test_df[f'Has {disease}'] = classify_disease(patient_diseases, disease_pattern)\n",
      "/tmp/ipykernel_1361831/826047092.py:3: PerformanceWarning: DataFrame is highly fragmented.  This is usually the result of calling `frame.insert` many times, which has poor performance.  Consider joining all columns at once using pd.concat(axis=1) instead. To get a de-fragmented frame, use `newframe = frame.copy()`\n",
      "  test_df[f'Has {disease}'] = classify_disease(patient_diseases, disease_pattern)\n",
      "/tmp/ipykernel_1361831/826047092.py:3: PerformanceWarning: DataFrame is highly fragmented.  This is usually the result of calling `frame.insert` many times, which has poor performance.  Consider joining all columns at once using pd.concat(axis=1) instead. To get a de-fragmented frame, use `newframe = frame.copy()`\n",
      "  test_df[f'Has {disease}'] = classify_disease(patient_diseases, disease_pattern)\n",
      "/tmp/ipykernel_1361831/826047092.py:3: PerformanceWarning: DataFrame is highly fragmented.  This is usually the result of calling `frame.insert` many times, which has poor performance.  Consider joining all columns at once using pd.concat(axis=1) instead. To get a de-fragmented frame, use `newframe = frame.copy()`\n",
      "  test_df[f'Has {disease}'] = classify_disease(patient_diseases, disease_pattern)\n",
      "/tmp/ipykernel_1361831/826047092.py:3: PerformanceWarning: DataFrame is highly fragmented.  This is usually the result of calling `frame.insert` many times, which has poor performance.  Consider joining all columns at once using pd.concat(axis=1) instead. To get a de-fragmented frame, use `newframe = frame.copy()`\n",
      "  test_df[f'Has {disease}'] = classify_disease(patient_diseases, disease_pattern)\n",
      "/tmp/ipykernel_1361831/826047092.py:3: PerformanceWarning: DataFrame is highly fragmented.  This is usually the result of calling `frame.insert` many times, which has poor performance.  Consider joining all columns at once using pd.concat(axis=1) instead. To get a de-fragmented frame, use `newframe = frame.copy()`\n",
      "  test_df[f'Has {disease}'] = classify_disease(patient_diseases, disease_pattern)\n",
      "/tmp/ipykernel_1361831/826047092.py:3: PerformanceWarning: DataFrame is highly fragmented.  This is usually the result of calling `frame.insert` many times, which has poor performance.  Consider joining all columns at once using pd.concat(axis=1) instead. To get a de-fragmented frame, use `newframe = frame.copy()`\n",
      "  test_df[f'Has {disease}'] = classify_disease(patient_diseases, disease_pattern)\n",
      "/tmp/ipykernel_1361831/826047092.py:3: PerformanceWarning: DataFrame is highly fragmented.  This is usually the result of calling `frame.insert` many times, which has poor performance.  Consider joining all columns at once using pd.concat(axis=1) instead. To get a de-fragmented frame, use `newframe = frame.copy()`\n",
      "  test_df[f'Has {disease}'] = classify_disease(patient_diseases, disease_pattern)\n",
      "/tmp/ipykernel_1361831/826047092.py:3: PerformanceWarning: DataFrame is highly fragmented.  This is usually the result of calling `frame.insert` many times, which has poor performance.  Consider joining all columns at once using pd.concat(axis=1) instead. To get a de-fragmented frame, use `newframe = frame.copy()`\n",
      "  test_df[f'Has {disease}'] = classify_disease(patient_diseases, disease_pattern)\n",
      "/tmp/ipykernel_1361831/826047092.py:3: PerformanceWarning: DataFrame is highly fragmented.  This is usually the result of calling `frame.insert` many times, which has poor performance.  Consider joining all columns at once using pd.concat(axis=1) instead. To get a de-fragmented frame, use `newframe = frame.copy()`\n",
      "  test_df[f'Has {disease}'] = classify_disease(patient_diseases, disease_pattern)\n",
      "/tmp/ipykernel_1361831/826047092.py:3: PerformanceWarning: DataFrame is highly fragmented.  This is usually the result of calling `frame.insert` many times, which has poor performance.  Consider joining all columns at once using pd.concat(axis=1) instead. To get a de-fragmented frame, use `newframe = frame.copy()`\n",
      "  test_df[f'Has {disease}'] = classify_disease(patient_diseases, disease_pattern)\n",
      "/tmp/ipykernel_1361831/826047092.py:3: PerformanceWarning: DataFrame is highly fragmented.  This is usually the result of calling `frame.insert` many times, which has poor performance.  Consider joining all columns at once using pd.concat(axis=1) instead. To get a de-fragmented frame, use `newframe = frame.copy()`\n",
      "  test_df[f'Has {disease}'] = classify_disease(patient_diseases, disease_pattern)\n"
     ]
    }
   ],
   "source": [
    "patient_diseases = test_df['Diagnoses']\n",
    "for disease, disease_pattern in diseases_patterns[2:]:\n",
    "    test_df[f'Has {disease}'] = classify_disease(patient_diseases, disease_pattern)"
   ],
   "metadata": {
    "collapsed": false,
    "ExecuteTime": {
     "end_time": "2024-07-29T07:17:41.972161Z",
     "start_time": "2024-07-29T07:17:41.281311Z"
    }
   },
   "id": "d30d3acb686f0b0a",
   "execution_count": 13
  },
  {
   "cell_type": "code",
   "outputs": [
    {
     "data": {
      "text/plain": "            eid  Year of birth - 0  Duration of walks - 0  \\\n0       1000048             1939.0               40.00000   \n1       1000123             1944.0               30.00000   \n2       1000131             1955.0               52.79135   \n3       1000219             1962.0               15.00000   \n4       1000238             1950.0               20.00000   \n...         ...                ...                    ...   \n100761  6023700             1958.0               30.00000   \n100762  6023778             1950.0               60.00000   \n100763  6023994             1965.0               20.00000   \n100764  6024004             1960.0               30.00000   \n100765  6024050             1948.0               30.00000   \n\n        Number of days/week of moderate physical activity 10+ minutes - 0  \\\n0                                                     7.0                   \n1                                                     0.0                   \n2                                                     0.0                   \n3                                                     0.0                   \n4                                                     1.0                   \n...                                                   ...                   \n100761                                                2.0                   \n100762                                                1.0                   \n100763                                                7.0                   \n100764                                                3.0                   \n100765                                                0.0                   \n\n        Duration of moderate activity - 0  \\\n0                               20.000000   \n1                               59.181126   \n2                               59.181126   \n3                               59.181126   \n4                               20.000000   \n...                                   ...   \n100761                          10.000000   \n100762                          20.000000   \n100763                          30.000000   \n100764                         300.000000   \n100765                          59.181126   \n\n        Number of days/week of vigorous physical activity 10+ minutes - 0  \\\n0                                                     1.0                   \n1                                                     0.0                   \n2                                                     0.0                   \n3                                                     0.0                   \n4                                                     0.0                   \n...                                                   ...                   \n100761                                                1.0                   \n100762                                                0.0                   \n100763                                                3.0                   \n100764                                                2.0                   \n100765                                                0.0                   \n\n        Duration of vigorous activity - 0  Duration of strenuous sports - 0  \\\n0                               60.000000                               3.0   \n1                               40.099832                               3.0   \n2                               40.099832                               3.0   \n3                               40.099832                               3.0   \n4                               40.099832                               3.0   \n...                                   ...                               ...   \n100761                          -1.000000                               3.0   \n100762                          40.099832                               3.0   \n100763                          20.000000                               3.0   \n100764                         120.000000                               4.0   \n100765                          40.099832                               3.0   \n\n        Time spent watching television (TV) - 0  \\\n0                                           2.0   \n1                                           4.0   \n2                                           4.0   \n3                                           2.0   \n4                                           3.0   \n...                                         ...   \n100761                                      0.0   \n100762                                      3.0   \n100763                                      2.0   \n100764                                      1.0   \n100765                                      3.0   \n\n        Time spent using computer - 0  ...  Has Alcoholic Liver Disease  \\\n0                                 1.0  ...                        False   \n1                               -10.0  ...                        False   \n2                                 2.0  ...                        False   \n3                               -10.0  ...                        False   \n4                               -10.0  ...                        False   \n...                               ...  ...                          ...   \n100761                            3.0  ...                        False   \n100762                            1.0  ...                        False   \n100763                            2.0  ...                        False   \n100764                            0.0  ...                        False   \n100765                          -10.0  ...                        False   \n\n        Has Cirrhosis  Has Acute Hepatitis A  Has Acute Hepatitis B  \\\n0               False                  False                  False   \n1               False                  False                  False   \n2               False                  False                  False   \n3               False                  False                  False   \n4               False                  False                  False   \n...               ...                    ...                    ...   \n100761          False                  False                  False   \n100762          False                  False                  False   \n100763          False                  False                  False   \n100764          False                  False                  False   \n100765          False                  False                  False   \n\n        Has Acute Hepatitis C  Has Toxic Liver Disease  Has Cushings Syndrome  \\\n0                       False                    False                  False   \n1                       False                    False                  False   \n2                       False                    False                  False   \n3                       False                    False                  False   \n4                       False                    False                  False   \n...                       ...                      ...                    ...   \n100761                  False                    False                  False   \n100762                  False                    False                  False   \n100763                  False                    False                  False   \n100764                  False                    False                  False   \n100765                  False                    False                  False   \n\n        Has Hyperthyroidism  Has Intestinal Malabsorption  \\\n0                     False                         False   \n1                     False                         False   \n2                     False                         False   \n3                     False                         False   \n4                     False                         False   \n...                     ...                           ...   \n100761                False                         False   \n100762                False                         False   \n100763                False                         False   \n100764                False                         False   \n100765                False                         False   \n\n        Has Arterial Embolism and Thrombosis  \n0                                      False  \n1                                      False  \n2                                      False  \n3                                      False  \n4                                      False  \n...                                      ...  \n100761                                 False  \n100762                                 False  \n100763                                 False  \n100764                                 False  \n100765                                 False  \n\n[100766 rows x 193 columns]",
      "text/html": "<div>\n<style scoped>\n    .dataframe tbody tr th:only-of-type {\n        vertical-align: middle;\n    }\n\n    .dataframe tbody tr th {\n        vertical-align: top;\n    }\n\n    .dataframe thead th {\n        text-align: right;\n    }\n</style>\n<table border=\"1\" class=\"dataframe\">\n  <thead>\n    <tr style=\"text-align: right;\">\n      <th></th>\n      <th>eid</th>\n      <th>Year of birth - 0</th>\n      <th>Duration of walks - 0</th>\n      <th>Number of days/week of moderate physical activity 10+ minutes - 0</th>\n      <th>Duration of moderate activity - 0</th>\n      <th>Number of days/week of vigorous physical activity 10+ minutes - 0</th>\n      <th>Duration of vigorous activity - 0</th>\n      <th>Duration of strenuous sports - 0</th>\n      <th>Time spent watching television (TV) - 0</th>\n      <th>Time spent using computer - 0</th>\n      <th>...</th>\n      <th>Has Alcoholic Liver Disease</th>\n      <th>Has Cirrhosis</th>\n      <th>Has Acute Hepatitis A</th>\n      <th>Has Acute Hepatitis B</th>\n      <th>Has Acute Hepatitis C</th>\n      <th>Has Toxic Liver Disease</th>\n      <th>Has Cushings Syndrome</th>\n      <th>Has Hyperthyroidism</th>\n      <th>Has Intestinal Malabsorption</th>\n      <th>Has Arterial Embolism and Thrombosis</th>\n    </tr>\n  </thead>\n  <tbody>\n    <tr>\n      <th>0</th>\n      <td>1000048</td>\n      <td>1939.0</td>\n      <td>40.00000</td>\n      <td>7.0</td>\n      <td>20.000000</td>\n      <td>1.0</td>\n      <td>60.000000</td>\n      <td>3.0</td>\n      <td>2.0</td>\n      <td>1.0</td>\n      <td>...</td>\n      <td>False</td>\n      <td>False</td>\n      <td>False</td>\n      <td>False</td>\n      <td>False</td>\n      <td>False</td>\n      <td>False</td>\n      <td>False</td>\n      <td>False</td>\n      <td>False</td>\n    </tr>\n    <tr>\n      <th>1</th>\n      <td>1000123</td>\n      <td>1944.0</td>\n      <td>30.00000</td>\n      <td>0.0</td>\n      <td>59.181126</td>\n      <td>0.0</td>\n      <td>40.099832</td>\n      <td>3.0</td>\n      <td>4.0</td>\n      <td>-10.0</td>\n      <td>...</td>\n      <td>False</td>\n      <td>False</td>\n      <td>False</td>\n      <td>False</td>\n      <td>False</td>\n      <td>False</td>\n      <td>False</td>\n      <td>False</td>\n      <td>False</td>\n      <td>False</td>\n    </tr>\n    <tr>\n      <th>2</th>\n      <td>1000131</td>\n      <td>1955.0</td>\n      <td>52.79135</td>\n      <td>0.0</td>\n      <td>59.181126</td>\n      <td>0.0</td>\n      <td>40.099832</td>\n      <td>3.0</td>\n      <td>4.0</td>\n      <td>2.0</td>\n      <td>...</td>\n      <td>False</td>\n      <td>False</td>\n      <td>False</td>\n      <td>False</td>\n      <td>False</td>\n      <td>False</td>\n      <td>False</td>\n      <td>False</td>\n      <td>False</td>\n      <td>False</td>\n    </tr>\n    <tr>\n      <th>3</th>\n      <td>1000219</td>\n      <td>1962.0</td>\n      <td>15.00000</td>\n      <td>0.0</td>\n      <td>59.181126</td>\n      <td>0.0</td>\n      <td>40.099832</td>\n      <td>3.0</td>\n      <td>2.0</td>\n      <td>-10.0</td>\n      <td>...</td>\n      <td>False</td>\n      <td>False</td>\n      <td>False</td>\n      <td>False</td>\n      <td>False</td>\n      <td>False</td>\n      <td>False</td>\n      <td>False</td>\n      <td>False</td>\n      <td>False</td>\n    </tr>\n    <tr>\n      <th>4</th>\n      <td>1000238</td>\n      <td>1950.0</td>\n      <td>20.00000</td>\n      <td>1.0</td>\n      <td>20.000000</td>\n      <td>0.0</td>\n      <td>40.099832</td>\n      <td>3.0</td>\n      <td>3.0</td>\n      <td>-10.0</td>\n      <td>...</td>\n      <td>False</td>\n      <td>False</td>\n      <td>False</td>\n      <td>False</td>\n      <td>False</td>\n      <td>False</td>\n      <td>False</td>\n      <td>False</td>\n      <td>False</td>\n      <td>False</td>\n    </tr>\n    <tr>\n      <th>...</th>\n      <td>...</td>\n      <td>...</td>\n      <td>...</td>\n      <td>...</td>\n      <td>...</td>\n      <td>...</td>\n      <td>...</td>\n      <td>...</td>\n      <td>...</td>\n      <td>...</td>\n      <td>...</td>\n      <td>...</td>\n      <td>...</td>\n      <td>...</td>\n      <td>...</td>\n      <td>...</td>\n      <td>...</td>\n      <td>...</td>\n      <td>...</td>\n      <td>...</td>\n      <td>...</td>\n    </tr>\n    <tr>\n      <th>100761</th>\n      <td>6023700</td>\n      <td>1958.0</td>\n      <td>30.00000</td>\n      <td>2.0</td>\n      <td>10.000000</td>\n      <td>1.0</td>\n      <td>-1.000000</td>\n      <td>3.0</td>\n      <td>0.0</td>\n      <td>3.0</td>\n      <td>...</td>\n      <td>False</td>\n      <td>False</td>\n      <td>False</td>\n      <td>False</td>\n      <td>False</td>\n      <td>False</td>\n      <td>False</td>\n      <td>False</td>\n      <td>False</td>\n      <td>False</td>\n    </tr>\n    <tr>\n      <th>100762</th>\n      <td>6023778</td>\n      <td>1950.0</td>\n      <td>60.00000</td>\n      <td>1.0</td>\n      <td>20.000000</td>\n      <td>0.0</td>\n      <td>40.099832</td>\n      <td>3.0</td>\n      <td>3.0</td>\n      <td>1.0</td>\n      <td>...</td>\n      <td>False</td>\n      <td>False</td>\n      <td>False</td>\n      <td>False</td>\n      <td>False</td>\n      <td>False</td>\n      <td>False</td>\n      <td>False</td>\n      <td>False</td>\n      <td>False</td>\n    </tr>\n    <tr>\n      <th>100763</th>\n      <td>6023994</td>\n      <td>1965.0</td>\n      <td>20.00000</td>\n      <td>7.0</td>\n      <td>30.000000</td>\n      <td>3.0</td>\n      <td>20.000000</td>\n      <td>3.0</td>\n      <td>2.0</td>\n      <td>2.0</td>\n      <td>...</td>\n      <td>False</td>\n      <td>False</td>\n      <td>False</td>\n      <td>False</td>\n      <td>False</td>\n      <td>False</td>\n      <td>False</td>\n      <td>False</td>\n      <td>False</td>\n      <td>False</td>\n    </tr>\n    <tr>\n      <th>100764</th>\n      <td>6024004</td>\n      <td>1960.0</td>\n      <td>30.00000</td>\n      <td>3.0</td>\n      <td>300.000000</td>\n      <td>2.0</td>\n      <td>120.000000</td>\n      <td>4.0</td>\n      <td>1.0</td>\n      <td>0.0</td>\n      <td>...</td>\n      <td>False</td>\n      <td>False</td>\n      <td>False</td>\n      <td>False</td>\n      <td>False</td>\n      <td>False</td>\n      <td>False</td>\n      <td>False</td>\n      <td>False</td>\n      <td>False</td>\n    </tr>\n    <tr>\n      <th>100765</th>\n      <td>6024050</td>\n      <td>1948.0</td>\n      <td>30.00000</td>\n      <td>0.0</td>\n      <td>59.181126</td>\n      <td>0.0</td>\n      <td>40.099832</td>\n      <td>3.0</td>\n      <td>3.0</td>\n      <td>-10.0</td>\n      <td>...</td>\n      <td>False</td>\n      <td>False</td>\n      <td>False</td>\n      <td>False</td>\n      <td>False</td>\n      <td>False</td>\n      <td>False</td>\n      <td>False</td>\n      <td>False</td>\n      <td>False</td>\n    </tr>\n  </tbody>\n</table>\n<p>100766 rows × 193 columns</p>\n</div>"
     },
     "execution_count": 14,
     "metadata": {},
     "output_type": "execute_result"
    }
   ],
   "source": [
    "test_df = test_df.drop(columns=['Diagnoses'])\n",
    "test_df = test_df.drop(columns=[f'Diagnoses - ICD10 - {i}' for i in range(100)])\n",
    "test_df"
   ],
   "metadata": {
    "collapsed": false,
    "ExecuteTime": {
     "end_time": "2024-07-29T07:17:43.236381Z",
     "start_time": "2024-07-29T07:17:42.926688Z"
    }
   },
   "id": "ce8c20797c2f4792",
   "execution_count": 14
  },
  {
   "cell_type": "code",
   "outputs": [
    {
     "name": "stderr",
     "output_type": "stream",
     "text": [
      "/tmp/ipykernel_1361831/1339815279.py:5: PerformanceWarning: DataFrame is highly fragmented.  This is usually the result of calling `frame.insert` many times, which has poor performance.  Consider joining all columns at once using pd.concat(axis=1) instead. To get a de-fragmented frame, use `newframe = frame.copy()`\n",
      "  test_df[f'Father has {disease}'] = classify_disease(father_diseases, disease_pattern)\n",
      "/tmp/ipykernel_1361831/1339815279.py:5: PerformanceWarning: DataFrame is highly fragmented.  This is usually the result of calling `frame.insert` many times, which has poor performance.  Consider joining all columns at once using pd.concat(axis=1) instead. To get a de-fragmented frame, use `newframe = frame.copy()`\n",
      "  test_df[f'Father has {disease}'] = classify_disease(father_diseases, disease_pattern)\n",
      "/tmp/ipykernel_1361831/1339815279.py:5: PerformanceWarning: DataFrame is highly fragmented.  This is usually the result of calling `frame.insert` many times, which has poor performance.  Consider joining all columns at once using pd.concat(axis=1) instead. To get a de-fragmented frame, use `newframe = frame.copy()`\n",
      "  test_df[f'Father has {disease}'] = classify_disease(father_diseases, disease_pattern)\n",
      "/tmp/ipykernel_1361831/1339815279.py:5: PerformanceWarning: DataFrame is highly fragmented.  This is usually the result of calling `frame.insert` many times, which has poor performance.  Consider joining all columns at once using pd.concat(axis=1) instead. To get a de-fragmented frame, use `newframe = frame.copy()`\n",
      "  test_df[f'Father has {disease}'] = classify_disease(father_diseases, disease_pattern)\n",
      "/tmp/ipykernel_1361831/1339815279.py:5: PerformanceWarning: DataFrame is highly fragmented.  This is usually the result of calling `frame.insert` many times, which has poor performance.  Consider joining all columns at once using pd.concat(axis=1) instead. To get a de-fragmented frame, use `newframe = frame.copy()`\n",
      "  test_df[f'Father has {disease}'] = classify_disease(father_diseases, disease_pattern)\n",
      "/tmp/ipykernel_1361831/1339815279.py:5: PerformanceWarning: DataFrame is highly fragmented.  This is usually the result of calling `frame.insert` many times, which has poor performance.  Consider joining all columns at once using pd.concat(axis=1) instead. To get a de-fragmented frame, use `newframe = frame.copy()`\n",
      "  test_df[f'Father has {disease}'] = classify_disease(father_diseases, disease_pattern)\n",
      "/tmp/ipykernel_1361831/1339815279.py:5: PerformanceWarning: DataFrame is highly fragmented.  This is usually the result of calling `frame.insert` many times, which has poor performance.  Consider joining all columns at once using pd.concat(axis=1) instead. To get a de-fragmented frame, use `newframe = frame.copy()`\n",
      "  test_df[f'Father has {disease}'] = classify_disease(father_diseases, disease_pattern)\n",
      "/tmp/ipykernel_1361831/1339815279.py:5: PerformanceWarning: DataFrame is highly fragmented.  This is usually the result of calling `frame.insert` many times, which has poor performance.  Consider joining all columns at once using pd.concat(axis=1) instead. To get a de-fragmented frame, use `newframe = frame.copy()`\n",
      "  test_df[f'Father has {disease}'] = classify_disease(father_diseases, disease_pattern)\n",
      "/tmp/ipykernel_1361831/1339815279.py:5: PerformanceWarning: DataFrame is highly fragmented.  This is usually the result of calling `frame.insert` many times, which has poor performance.  Consider joining all columns at once using pd.concat(axis=1) instead. To get a de-fragmented frame, use `newframe = frame.copy()`\n",
      "  test_df[f'Father has {disease}'] = classify_disease(father_diseases, disease_pattern)\n",
      "/tmp/ipykernel_1361831/1339815279.py:5: PerformanceWarning: DataFrame is highly fragmented.  This is usually the result of calling `frame.insert` many times, which has poor performance.  Consider joining all columns at once using pd.concat(axis=1) instead. To get a de-fragmented frame, use `newframe = frame.copy()`\n",
      "  test_df[f'Father has {disease}'] = classify_disease(father_diseases, disease_pattern)\n",
      "/tmp/ipykernel_1361831/1339815279.py:5: PerformanceWarning: DataFrame is highly fragmented.  This is usually the result of calling `frame.insert` many times, which has poor performance.  Consider joining all columns at once using pd.concat(axis=1) instead. To get a de-fragmented frame, use `newframe = frame.copy()`\n",
      "  test_df[f'Father has {disease}'] = classify_disease(father_diseases, disease_pattern)\n",
      "/tmp/ipykernel_1361831/1339815279.py:5: PerformanceWarning: DataFrame is highly fragmented.  This is usually the result of calling `frame.insert` many times, which has poor performance.  Consider joining all columns at once using pd.concat(axis=1) instead. To get a de-fragmented frame, use `newframe = frame.copy()`\n",
      "  test_df[f'Father has {disease}'] = classify_disease(father_diseases, disease_pattern)\n",
      "/tmp/ipykernel_1361831/1339815279.py:5: PerformanceWarning: DataFrame is highly fragmented.  This is usually the result of calling `frame.insert` many times, which has poor performance.  Consider joining all columns at once using pd.concat(axis=1) instead. To get a de-fragmented frame, use `newframe = frame.copy()`\n",
      "  test_df[f'Father has {disease}'] = classify_disease(father_diseases, disease_pattern)\n",
      "/tmp/ipykernel_1361831/1339815279.py:5: PerformanceWarning: DataFrame is highly fragmented.  This is usually the result of calling `frame.insert` many times, which has poor performance.  Consider joining all columns at once using pd.concat(axis=1) instead. To get a de-fragmented frame, use `newframe = frame.copy()`\n",
      "  test_df[f'Father has {disease}'] = classify_disease(father_diseases, disease_pattern)\n",
      "/tmp/ipykernel_1361831/1339815279.py:7: PerformanceWarning: DataFrame is highly fragmented.  This is usually the result of calling `frame.insert` many times, which has poor performance.  Consider joining all columns at once using pd.concat(axis=1) instead. To get a de-fragmented frame, use `newframe = frame.copy()`\n",
      "  test_df[f'Mother has {disease}'] = classify_disease(mother_diseases, disease_pattern)\n",
      "/tmp/ipykernel_1361831/1339815279.py:7: PerformanceWarning: DataFrame is highly fragmented.  This is usually the result of calling `frame.insert` many times, which has poor performance.  Consider joining all columns at once using pd.concat(axis=1) instead. To get a de-fragmented frame, use `newframe = frame.copy()`\n",
      "  test_df[f'Mother has {disease}'] = classify_disease(mother_diseases, disease_pattern)\n",
      "/tmp/ipykernel_1361831/1339815279.py:7: PerformanceWarning: DataFrame is highly fragmented.  This is usually the result of calling `frame.insert` many times, which has poor performance.  Consider joining all columns at once using pd.concat(axis=1) instead. To get a de-fragmented frame, use `newframe = frame.copy()`\n",
      "  test_df[f'Mother has {disease}'] = classify_disease(mother_diseases, disease_pattern)\n",
      "/tmp/ipykernel_1361831/1339815279.py:7: PerformanceWarning: DataFrame is highly fragmented.  This is usually the result of calling `frame.insert` many times, which has poor performance.  Consider joining all columns at once using pd.concat(axis=1) instead. To get a de-fragmented frame, use `newframe = frame.copy()`\n",
      "  test_df[f'Mother has {disease}'] = classify_disease(mother_diseases, disease_pattern)\n",
      "/tmp/ipykernel_1361831/1339815279.py:7: PerformanceWarning: DataFrame is highly fragmented.  This is usually the result of calling `frame.insert` many times, which has poor performance.  Consider joining all columns at once using pd.concat(axis=1) instead. To get a de-fragmented frame, use `newframe = frame.copy()`\n",
      "  test_df[f'Mother has {disease}'] = classify_disease(mother_diseases, disease_pattern)\n",
      "/tmp/ipykernel_1361831/1339815279.py:7: PerformanceWarning: DataFrame is highly fragmented.  This is usually the result of calling `frame.insert` many times, which has poor performance.  Consider joining all columns at once using pd.concat(axis=1) instead. To get a de-fragmented frame, use `newframe = frame.copy()`\n",
      "  test_df[f'Mother has {disease}'] = classify_disease(mother_diseases, disease_pattern)\n",
      "/tmp/ipykernel_1361831/1339815279.py:7: PerformanceWarning: DataFrame is highly fragmented.  This is usually the result of calling `frame.insert` many times, which has poor performance.  Consider joining all columns at once using pd.concat(axis=1) instead. To get a de-fragmented frame, use `newframe = frame.copy()`\n",
      "  test_df[f'Mother has {disease}'] = classify_disease(mother_diseases, disease_pattern)\n",
      "/tmp/ipykernel_1361831/1339815279.py:7: PerformanceWarning: DataFrame is highly fragmented.  This is usually the result of calling `frame.insert` many times, which has poor performance.  Consider joining all columns at once using pd.concat(axis=1) instead. To get a de-fragmented frame, use `newframe = frame.copy()`\n",
      "  test_df[f'Mother has {disease}'] = classify_disease(mother_diseases, disease_pattern)\n",
      "/tmp/ipykernel_1361831/1339815279.py:7: PerformanceWarning: DataFrame is highly fragmented.  This is usually the result of calling `frame.insert` many times, which has poor performance.  Consider joining all columns at once using pd.concat(axis=1) instead. To get a de-fragmented frame, use `newframe = frame.copy()`\n",
      "  test_df[f'Mother has {disease}'] = classify_disease(mother_diseases, disease_pattern)\n",
      "/tmp/ipykernel_1361831/1339815279.py:7: PerformanceWarning: DataFrame is highly fragmented.  This is usually the result of calling `frame.insert` many times, which has poor performance.  Consider joining all columns at once using pd.concat(axis=1) instead. To get a de-fragmented frame, use `newframe = frame.copy()`\n",
      "  test_df[f'Mother has {disease}'] = classify_disease(mother_diseases, disease_pattern)\n",
      "/tmp/ipykernel_1361831/1339815279.py:7: PerformanceWarning: DataFrame is highly fragmented.  This is usually the result of calling `frame.insert` many times, which has poor performance.  Consider joining all columns at once using pd.concat(axis=1) instead. To get a de-fragmented frame, use `newframe = frame.copy()`\n",
      "  test_df[f'Mother has {disease}'] = classify_disease(mother_diseases, disease_pattern)\n",
      "/tmp/ipykernel_1361831/1339815279.py:7: PerformanceWarning: DataFrame is highly fragmented.  This is usually the result of calling `frame.insert` many times, which has poor performance.  Consider joining all columns at once using pd.concat(axis=1) instead. To get a de-fragmented frame, use `newframe = frame.copy()`\n",
      "  test_df[f'Mother has {disease}'] = classify_disease(mother_diseases, disease_pattern)\n",
      "/tmp/ipykernel_1361831/1339815279.py:7: PerformanceWarning: DataFrame is highly fragmented.  This is usually the result of calling `frame.insert` many times, which has poor performance.  Consider joining all columns at once using pd.concat(axis=1) instead. To get a de-fragmented frame, use `newframe = frame.copy()`\n",
      "  test_df[f'Mother has {disease}'] = classify_disease(mother_diseases, disease_pattern)\n",
      "/tmp/ipykernel_1361831/1339815279.py:7: PerformanceWarning: DataFrame is highly fragmented.  This is usually the result of calling `frame.insert` many times, which has poor performance.  Consider joining all columns at once using pd.concat(axis=1) instead. To get a de-fragmented frame, use `newframe = frame.copy()`\n",
      "  test_df[f'Mother has {disease}'] = classify_disease(mother_diseases, disease_pattern)\n",
      "/tmp/ipykernel_1361831/1339815279.py:9: PerformanceWarning: DataFrame is highly fragmented.  This is usually the result of calling `frame.insert` many times, which has poor performance.  Consider joining all columns at once using pd.concat(axis=1) instead. To get a de-fragmented frame, use `newframe = frame.copy()`\n",
      "  test_df[f'Siblings have {disease}'] = classify_disease(siblings_diseases, disease_pattern)\n",
      "/tmp/ipykernel_1361831/1339815279.py:9: PerformanceWarning: DataFrame is highly fragmented.  This is usually the result of calling `frame.insert` many times, which has poor performance.  Consider joining all columns at once using pd.concat(axis=1) instead. To get a de-fragmented frame, use `newframe = frame.copy()`\n",
      "  test_df[f'Siblings have {disease}'] = classify_disease(siblings_diseases, disease_pattern)\n",
      "/tmp/ipykernel_1361831/1339815279.py:9: PerformanceWarning: DataFrame is highly fragmented.  This is usually the result of calling `frame.insert` many times, which has poor performance.  Consider joining all columns at once using pd.concat(axis=1) instead. To get a de-fragmented frame, use `newframe = frame.copy()`\n",
      "  test_df[f'Siblings have {disease}'] = classify_disease(siblings_diseases, disease_pattern)\n",
      "/tmp/ipykernel_1361831/1339815279.py:9: PerformanceWarning: DataFrame is highly fragmented.  This is usually the result of calling `frame.insert` many times, which has poor performance.  Consider joining all columns at once using pd.concat(axis=1) instead. To get a de-fragmented frame, use `newframe = frame.copy()`\n",
      "  test_df[f'Siblings have {disease}'] = classify_disease(siblings_diseases, disease_pattern)\n",
      "/tmp/ipykernel_1361831/1339815279.py:9: PerformanceWarning: DataFrame is highly fragmented.  This is usually the result of calling `frame.insert` many times, which has poor performance.  Consider joining all columns at once using pd.concat(axis=1) instead. To get a de-fragmented frame, use `newframe = frame.copy()`\n",
      "  test_df[f'Siblings have {disease}'] = classify_disease(siblings_diseases, disease_pattern)\n",
      "/tmp/ipykernel_1361831/1339815279.py:9: PerformanceWarning: DataFrame is highly fragmented.  This is usually the result of calling `frame.insert` many times, which has poor performance.  Consider joining all columns at once using pd.concat(axis=1) instead. To get a de-fragmented frame, use `newframe = frame.copy()`\n",
      "  test_df[f'Siblings have {disease}'] = classify_disease(siblings_diseases, disease_pattern)\n",
      "/tmp/ipykernel_1361831/1339815279.py:9: PerformanceWarning: DataFrame is highly fragmented.  This is usually the result of calling `frame.insert` many times, which has poor performance.  Consider joining all columns at once using pd.concat(axis=1) instead. To get a de-fragmented frame, use `newframe = frame.copy()`\n",
      "  test_df[f'Siblings have {disease}'] = classify_disease(siblings_diseases, disease_pattern)\n",
      "/tmp/ipykernel_1361831/1339815279.py:9: PerformanceWarning: DataFrame is highly fragmented.  This is usually the result of calling `frame.insert` many times, which has poor performance.  Consider joining all columns at once using pd.concat(axis=1) instead. To get a de-fragmented frame, use `newframe = frame.copy()`\n",
      "  test_df[f'Siblings have {disease}'] = classify_disease(siblings_diseases, disease_pattern)\n",
      "/tmp/ipykernel_1361831/1339815279.py:9: PerformanceWarning: DataFrame is highly fragmented.  This is usually the result of calling `frame.insert` many times, which has poor performance.  Consider joining all columns at once using pd.concat(axis=1) instead. To get a de-fragmented frame, use `newframe = frame.copy()`\n",
      "  test_df[f'Siblings have {disease}'] = classify_disease(siblings_diseases, disease_pattern)\n",
      "/tmp/ipykernel_1361831/1339815279.py:9: PerformanceWarning: DataFrame is highly fragmented.  This is usually the result of calling `frame.insert` many times, which has poor performance.  Consider joining all columns at once using pd.concat(axis=1) instead. To get a de-fragmented frame, use `newframe = frame.copy()`\n",
      "  test_df[f'Siblings have {disease}'] = classify_disease(siblings_diseases, disease_pattern)\n",
      "/tmp/ipykernel_1361831/1339815279.py:9: PerformanceWarning: DataFrame is highly fragmented.  This is usually the result of calling `frame.insert` many times, which has poor performance.  Consider joining all columns at once using pd.concat(axis=1) instead. To get a de-fragmented frame, use `newframe = frame.copy()`\n",
      "  test_df[f'Siblings have {disease}'] = classify_disease(siblings_diseases, disease_pattern)\n",
      "/tmp/ipykernel_1361831/1339815279.py:9: PerformanceWarning: DataFrame is highly fragmented.  This is usually the result of calling `frame.insert` many times, which has poor performance.  Consider joining all columns at once using pd.concat(axis=1) instead. To get a de-fragmented frame, use `newframe = frame.copy()`\n",
      "  test_df[f'Siblings have {disease}'] = classify_disease(siblings_diseases, disease_pattern)\n",
      "/tmp/ipykernel_1361831/1339815279.py:9: PerformanceWarning: DataFrame is highly fragmented.  This is usually the result of calling `frame.insert` many times, which has poor performance.  Consider joining all columns at once using pd.concat(axis=1) instead. To get a de-fragmented frame, use `newframe = frame.copy()`\n",
      "  test_df[f'Siblings have {disease}'] = classify_disease(siblings_diseases, disease_pattern)\n",
      "/tmp/ipykernel_1361831/1339815279.py:9: PerformanceWarning: DataFrame is highly fragmented.  This is usually the result of calling `frame.insert` many times, which has poor performance.  Consider joining all columns at once using pd.concat(axis=1) instead. To get a de-fragmented frame, use `newframe = frame.copy()`\n",
      "  test_df[f'Siblings have {disease}'] = classify_disease(siblings_diseases, disease_pattern)\n"
     ]
    }
   ],
   "source": [
    "father_diseases = test_df[father_diagnosis_codes].astype(str).agg(', '.join, axis=1)\n",
    "mother_diseases = test_df[mother_diagnosis_codes].astype(str).agg(', '.join, axis=1)\n",
    "siblings_diseases = test_df[siblings_diagnosis_codes].astype(str).agg(', '.join, axis=1)\n",
    "for disease, disease_pattern in diseases_patterns:\n",
    "    test_df[f'Father has {disease}'] = classify_disease(father_diseases, disease_pattern)\n",
    "for disease, disease_pattern in diseases_patterns:\n",
    "    test_df[f'Mother has {disease}'] = classify_disease(mother_diseases, disease_pattern)\n",
    "for disease, disease_pattern in diseases_patterns:\n",
    "    test_df[f'Siblings have {disease}'] = classify_disease(siblings_diseases, disease_pattern)\n",
    "test_df = test_df.drop(columns=(father_diagnosis_codes + mother_diagnosis_codes + siblings_diagnosis_codes))"
   ],
   "metadata": {
    "collapsed": false,
    "ExecuteTime": {
     "end_time": "2024-07-29T07:17:50.765013Z",
     "start_time": "2024-07-29T07:17:46.105781Z"
    }
   },
   "id": "d40627b9b9406e43",
   "execution_count": 15
  },
  {
   "cell_type": "code",
   "outputs": [],
   "source": [
    "one_hot_encoding = one_hot_encoder.transform(test_df[categorical_features])\n",
    "test_df = pd.concat([test_df, one_hot_encoding], axis=1)\n",
    "test_df = test_df.drop(columns=categorical_features)"
   ],
   "metadata": {
    "collapsed": false,
    "ExecuteTime": {
     "end_time": "2024-07-29T07:17:52.835647Z",
     "start_time": "2024-07-29T07:17:52.364417Z"
    }
   },
   "id": "dcffa0a1ed385cd4",
   "execution_count": 16
  },
  {
   "cell_type": "code",
   "outputs": [
    {
     "data": {
      "text/plain": "            eid  Year of birth - 0  Duration of walks - 0  \\\n0       1000048             1939.0               40.00000   \n1       1000123             1944.0               30.00000   \n2       1000131             1955.0               52.79135   \n3       1000219             1962.0               15.00000   \n4       1000238             1950.0               20.00000   \n...         ...                ...                    ...   \n100761  6023700             1958.0               30.00000   \n100762  6023778             1950.0               60.00000   \n100763  6023994             1965.0               20.00000   \n100764  6024004             1960.0               30.00000   \n100765  6024050             1948.0               30.00000   \n\n        Number of days/week of moderate physical activity 10+ minutes - 0  \\\n0                                                     7.0                   \n1                                                     0.0                   \n2                                                     0.0                   \n3                                                     0.0                   \n4                                                     1.0                   \n...                                                   ...                   \n100761                                                2.0                   \n100762                                                1.0                   \n100763                                                7.0                   \n100764                                                3.0                   \n100765                                                0.0                   \n\n        Duration of moderate activity - 0  \\\n0                               20.000000   \n1                               59.181126   \n2                               59.181126   \n3                               59.181126   \n4                               20.000000   \n...                                   ...   \n100761                          10.000000   \n100762                          20.000000   \n100763                          30.000000   \n100764                         300.000000   \n100765                          59.181126   \n\n        Number of days/week of vigorous physical activity 10+ minutes - 0  \\\n0                                                     1.0                   \n1                                                     0.0                   \n2                                                     0.0                   \n3                                                     0.0                   \n4                                                     0.0                   \n...                                                   ...                   \n100761                                                1.0                   \n100762                                                0.0                   \n100763                                                3.0                   \n100764                                                2.0                   \n100765                                                0.0                   \n\n        Duration of vigorous activity - 0  \\\n0                               60.000000   \n1                               40.099832   \n2                               40.099832   \n3                               40.099832   \n4                               40.099832   \n...                                   ...   \n100761                          -1.000000   \n100762                          40.099832   \n100763                          20.000000   \n100764                         120.000000   \n100765                          40.099832   \n\n        Time spent watching television (TV) - 0  \\\n0                                           2.0   \n1                                           4.0   \n2                                           4.0   \n3                                           2.0   \n4                                           3.0   \n...                                         ...   \n100761                                      0.0   \n100762                                      3.0   \n100763                                      2.0   \n100764                                      1.0   \n100765                                      3.0   \n\n        Time spent using computer - 0  Time spent driving - 0  ...  \\\n0                                 1.0                     0.0  ...   \n1                               -10.0                   -10.0  ...   \n2                                 2.0                     1.0  ...   \n3                               -10.0                   -10.0  ...   \n4                               -10.0                   -10.0  ...   \n...                               ...                     ...  ...   \n100761                            3.0                   -10.0  ...   \n100762                            1.0                   -10.0  ...   \n100763                            2.0                     1.0  ...   \n100764                            0.0                   -10.0  ...   \n100765                          -10.0                   -10.0  ...   \n\n        Processed meat intake - 0_-3.0  Processed meat intake - 0_-1.0  \\\n0                                  0.0                             0.0   \n1                                  0.0                             0.0   \n2                                  0.0                             0.0   \n3                                  0.0                             0.0   \n4                                  0.0                             0.0   \n...                                ...                             ...   \n100761                             0.0                             0.0   \n100762                             0.0                             0.0   \n100763                             0.0                             0.0   \n100764                             0.0                             0.0   \n100765                             0.0                             0.0   \n\n        Processed meat intake - 0_0.0  Processed meat intake - 0_1.0  \\\n0                                 1.0                            0.0   \n1                                 1.0                            0.0   \n2                                 0.0                            1.0   \n3                                 1.0                            0.0   \n4                                 0.0                            0.0   \n...                               ...                            ...   \n100761                            0.0                            0.0   \n100762                            0.0                            0.0   \n100763                            0.0                            0.0   \n100764                            0.0                            0.0   \n100765                            0.0                            0.0   \n\n        Processed meat intake - 0_2.0  Processed meat intake - 0_3.0  \\\n0                                 0.0                            0.0   \n1                                 0.0                            0.0   \n2                                 0.0                            0.0   \n3                                 0.0                            0.0   \n4                                 1.0                            0.0   \n...                               ...                            ...   \n100761                            1.0                            0.0   \n100762                            1.0                            0.0   \n100763                            1.0                            0.0   \n100764                            1.0                            0.0   \n100765                            0.0                            1.0   \n\n        Processed meat intake - 0_4.0  Processed meat intake - 0_5.0  \\\n0                                 0.0                            0.0   \n1                                 0.0                            0.0   \n2                                 0.0                            0.0   \n3                                 0.0                            0.0   \n4                                 0.0                            0.0   \n...                               ...                            ...   \n100761                            0.0                            0.0   \n100762                            0.0                            0.0   \n100763                            0.0                            0.0   \n100764                            0.0                            0.0   \n100765                            0.0                            0.0   \n\n        Antigen assay QC indicator - 0_1.0  Antigen assay QC indicator - 0_2.0  \n0                                      1.0                                 0.0  \n1                                      1.0                                 0.0  \n2                                      1.0                                 0.0  \n3                                      1.0                                 0.0  \n4                                      1.0                                 0.0  \n...                                    ...                                 ...  \n100761                                 1.0                                 0.0  \n100762                                 1.0                                 0.0  \n100763                                 1.0                                 0.0  \n100764                                 1.0                                 0.0  \n100765                                 1.0                                 0.0  \n\n[100766 rows x 270 columns]",
      "text/html": "<div>\n<style scoped>\n    .dataframe tbody tr th:only-of-type {\n        vertical-align: middle;\n    }\n\n    .dataframe tbody tr th {\n        vertical-align: top;\n    }\n\n    .dataframe thead th {\n        text-align: right;\n    }\n</style>\n<table border=\"1\" class=\"dataframe\">\n  <thead>\n    <tr style=\"text-align: right;\">\n      <th></th>\n      <th>eid</th>\n      <th>Year of birth - 0</th>\n      <th>Duration of walks - 0</th>\n      <th>Number of days/week of moderate physical activity 10+ minutes - 0</th>\n      <th>Duration of moderate activity - 0</th>\n      <th>Number of days/week of vigorous physical activity 10+ minutes - 0</th>\n      <th>Duration of vigorous activity - 0</th>\n      <th>Time spent watching television (TV) - 0</th>\n      <th>Time spent using computer - 0</th>\n      <th>Time spent driving - 0</th>\n      <th>...</th>\n      <th>Processed meat intake - 0_-3.0</th>\n      <th>Processed meat intake - 0_-1.0</th>\n      <th>Processed meat intake - 0_0.0</th>\n      <th>Processed meat intake - 0_1.0</th>\n      <th>Processed meat intake - 0_2.0</th>\n      <th>Processed meat intake - 0_3.0</th>\n      <th>Processed meat intake - 0_4.0</th>\n      <th>Processed meat intake - 0_5.0</th>\n      <th>Antigen assay QC indicator - 0_1.0</th>\n      <th>Antigen assay QC indicator - 0_2.0</th>\n    </tr>\n  </thead>\n  <tbody>\n    <tr>\n      <th>0</th>\n      <td>1000048</td>\n      <td>1939.0</td>\n      <td>40.00000</td>\n      <td>7.0</td>\n      <td>20.000000</td>\n      <td>1.0</td>\n      <td>60.000000</td>\n      <td>2.0</td>\n      <td>1.0</td>\n      <td>0.0</td>\n      <td>...</td>\n      <td>0.0</td>\n      <td>0.0</td>\n      <td>1.0</td>\n      <td>0.0</td>\n      <td>0.0</td>\n      <td>0.0</td>\n      <td>0.0</td>\n      <td>0.0</td>\n      <td>1.0</td>\n      <td>0.0</td>\n    </tr>\n    <tr>\n      <th>1</th>\n      <td>1000123</td>\n      <td>1944.0</td>\n      <td>30.00000</td>\n      <td>0.0</td>\n      <td>59.181126</td>\n      <td>0.0</td>\n      <td>40.099832</td>\n      <td>4.0</td>\n      <td>-10.0</td>\n      <td>-10.0</td>\n      <td>...</td>\n      <td>0.0</td>\n      <td>0.0</td>\n      <td>1.0</td>\n      <td>0.0</td>\n      <td>0.0</td>\n      <td>0.0</td>\n      <td>0.0</td>\n      <td>0.0</td>\n      <td>1.0</td>\n      <td>0.0</td>\n    </tr>\n    <tr>\n      <th>2</th>\n      <td>1000131</td>\n      <td>1955.0</td>\n      <td>52.79135</td>\n      <td>0.0</td>\n      <td>59.181126</td>\n      <td>0.0</td>\n      <td>40.099832</td>\n      <td>4.0</td>\n      <td>2.0</td>\n      <td>1.0</td>\n      <td>...</td>\n      <td>0.0</td>\n      <td>0.0</td>\n      <td>0.0</td>\n      <td>1.0</td>\n      <td>0.0</td>\n      <td>0.0</td>\n      <td>0.0</td>\n      <td>0.0</td>\n      <td>1.0</td>\n      <td>0.0</td>\n    </tr>\n    <tr>\n      <th>3</th>\n      <td>1000219</td>\n      <td>1962.0</td>\n      <td>15.00000</td>\n      <td>0.0</td>\n      <td>59.181126</td>\n      <td>0.0</td>\n      <td>40.099832</td>\n      <td>2.0</td>\n      <td>-10.0</td>\n      <td>-10.0</td>\n      <td>...</td>\n      <td>0.0</td>\n      <td>0.0</td>\n      <td>1.0</td>\n      <td>0.0</td>\n      <td>0.0</td>\n      <td>0.0</td>\n      <td>0.0</td>\n      <td>0.0</td>\n      <td>1.0</td>\n      <td>0.0</td>\n    </tr>\n    <tr>\n      <th>4</th>\n      <td>1000238</td>\n      <td>1950.0</td>\n      <td>20.00000</td>\n      <td>1.0</td>\n      <td>20.000000</td>\n      <td>0.0</td>\n      <td>40.099832</td>\n      <td>3.0</td>\n      <td>-10.0</td>\n      <td>-10.0</td>\n      <td>...</td>\n      <td>0.0</td>\n      <td>0.0</td>\n      <td>0.0</td>\n      <td>0.0</td>\n      <td>1.0</td>\n      <td>0.0</td>\n      <td>0.0</td>\n      <td>0.0</td>\n      <td>1.0</td>\n      <td>0.0</td>\n    </tr>\n    <tr>\n      <th>...</th>\n      <td>...</td>\n      <td>...</td>\n      <td>...</td>\n      <td>...</td>\n      <td>...</td>\n      <td>...</td>\n      <td>...</td>\n      <td>...</td>\n      <td>...</td>\n      <td>...</td>\n      <td>...</td>\n      <td>...</td>\n      <td>...</td>\n      <td>...</td>\n      <td>...</td>\n      <td>...</td>\n      <td>...</td>\n      <td>...</td>\n      <td>...</td>\n      <td>...</td>\n      <td>...</td>\n    </tr>\n    <tr>\n      <th>100761</th>\n      <td>6023700</td>\n      <td>1958.0</td>\n      <td>30.00000</td>\n      <td>2.0</td>\n      <td>10.000000</td>\n      <td>1.0</td>\n      <td>-1.000000</td>\n      <td>0.0</td>\n      <td>3.0</td>\n      <td>-10.0</td>\n      <td>...</td>\n      <td>0.0</td>\n      <td>0.0</td>\n      <td>0.0</td>\n      <td>0.0</td>\n      <td>1.0</td>\n      <td>0.0</td>\n      <td>0.0</td>\n      <td>0.0</td>\n      <td>1.0</td>\n      <td>0.0</td>\n    </tr>\n    <tr>\n      <th>100762</th>\n      <td>6023778</td>\n      <td>1950.0</td>\n      <td>60.00000</td>\n      <td>1.0</td>\n      <td>20.000000</td>\n      <td>0.0</td>\n      <td>40.099832</td>\n      <td>3.0</td>\n      <td>1.0</td>\n      <td>-10.0</td>\n      <td>...</td>\n      <td>0.0</td>\n      <td>0.0</td>\n      <td>0.0</td>\n      <td>0.0</td>\n      <td>1.0</td>\n      <td>0.0</td>\n      <td>0.0</td>\n      <td>0.0</td>\n      <td>1.0</td>\n      <td>0.0</td>\n    </tr>\n    <tr>\n      <th>100763</th>\n      <td>6023994</td>\n      <td>1965.0</td>\n      <td>20.00000</td>\n      <td>7.0</td>\n      <td>30.000000</td>\n      <td>3.0</td>\n      <td>20.000000</td>\n      <td>2.0</td>\n      <td>2.0</td>\n      <td>1.0</td>\n      <td>...</td>\n      <td>0.0</td>\n      <td>0.0</td>\n      <td>0.0</td>\n      <td>0.0</td>\n      <td>1.0</td>\n      <td>0.0</td>\n      <td>0.0</td>\n      <td>0.0</td>\n      <td>1.0</td>\n      <td>0.0</td>\n    </tr>\n    <tr>\n      <th>100764</th>\n      <td>6024004</td>\n      <td>1960.0</td>\n      <td>30.00000</td>\n      <td>3.0</td>\n      <td>300.000000</td>\n      <td>2.0</td>\n      <td>120.000000</td>\n      <td>1.0</td>\n      <td>0.0</td>\n      <td>-10.0</td>\n      <td>...</td>\n      <td>0.0</td>\n      <td>0.0</td>\n      <td>0.0</td>\n      <td>0.0</td>\n      <td>1.0</td>\n      <td>0.0</td>\n      <td>0.0</td>\n      <td>0.0</td>\n      <td>1.0</td>\n      <td>0.0</td>\n    </tr>\n    <tr>\n      <th>100765</th>\n      <td>6024050</td>\n      <td>1948.0</td>\n      <td>30.00000</td>\n      <td>0.0</td>\n      <td>59.181126</td>\n      <td>0.0</td>\n      <td>40.099832</td>\n      <td>3.0</td>\n      <td>-10.0</td>\n      <td>-10.0</td>\n      <td>...</td>\n      <td>0.0</td>\n      <td>0.0</td>\n      <td>0.0</td>\n      <td>0.0</td>\n      <td>0.0</td>\n      <td>1.0</td>\n      <td>0.0</td>\n      <td>0.0</td>\n      <td>1.0</td>\n      <td>0.0</td>\n    </tr>\n  </tbody>\n</table>\n<p>100766 rows × 270 columns</p>\n</div>"
     },
     "execution_count": 17,
     "metadata": {},
     "output_type": "execute_result"
    }
   ],
   "source": [
    "test_df"
   ],
   "metadata": {
    "collapsed": false,
    "ExecuteTime": {
     "end_time": "2024-07-29T07:17:54.817168Z",
     "start_time": "2024-07-29T07:17:54.768772Z"
    }
   },
   "id": "6a7440b1f491faff",
   "execution_count": 17
  },
  {
   "cell_type": "code",
   "outputs": [],
   "source": [
    "y_test = test_df['Label']\n",
    "x_test = test_df.drop(columns=['Label', 'eid'])"
   ],
   "metadata": {
    "collapsed": false,
    "ExecuteTime": {
     "end_time": "2024-07-29T07:17:58.380936Z",
     "start_time": "2024-07-29T07:17:58.307085Z"
    }
   },
   "id": "cb958b3bc7512005",
   "execution_count": 18
  },
  {
   "cell_type": "code",
   "outputs": [
    {
     "name": "stdout",
     "output_type": "stream",
     "text": [
      "RandomForestClassifier(bootstrap=False, max_depth=20, min_samples_split=5,\n",
      "                       n_estimators=300)\n"
     ]
    }
   ],
   "source": [
    "print(model)"
   ],
   "metadata": {
    "collapsed": false,
    "ExecuteTime": {
     "end_time": "2024-07-29T07:19:04.626989Z",
     "start_time": "2024-07-29T07:19:04.620566Z"
    }
   },
   "id": "1a3d8a1c5838eec1",
   "execution_count": 23
  },
  {
   "cell_type": "code",
   "outputs": [],
   "source": [
    "y_predictions = model.predict(x_test)"
   ],
   "metadata": {
    "collapsed": false,
    "ExecuteTime": {
     "end_time": "2024-07-29T07:18:11.798425Z",
     "start_time": "2024-07-29T07:17:59.609241Z"
    }
   },
   "id": "8ea1b43189ded549",
   "execution_count": 19
  },
  {
   "cell_type": "code",
   "outputs": [
    {
     "name": "stdout",
     "output_type": "stream",
     "text": [
      "Accuracy on test set: 0.8556953734394538\n"
     ]
    }
   ],
   "source": [
    "test_score = accuracy_score(y_test, y_predictions)\n",
    "print(f'Accuracy on test set: {test_score}')"
   ],
   "metadata": {
    "collapsed": false,
    "ExecuteTime": {
     "end_time": "2024-07-29T07:18:13.606201Z",
     "start_time": "2024-07-29T07:18:13.592506Z"
    }
   },
   "id": "378ded5967657d11",
   "execution_count": 20
  },
  {
   "cell_type": "code",
   "outputs": [
    {
     "name": "stdout",
     "output_type": "stream",
     "text": [
      "[[79070     0 12659]\n",
      " [  265     0   124]\n",
      " [ 1493     0  7155]]\n"
     ]
    }
   ],
   "source": [
    "confusion_matrix = confusion_matrix(y_test, y_predictions)\n",
    "print(confusion_matrix)"
   ],
   "metadata": {
    "collapsed": false,
    "ExecuteTime": {
     "end_time": "2024-07-29T07:18:16.086943Z",
     "start_time": "2024-07-29T07:18:16.057858Z"
    }
   },
   "id": "6ea88e6903e299f1",
   "execution_count": 21
  },
  {
   "cell_type": "code",
   "outputs": [
    {
     "name": "stdout",
     "output_type": "stream",
     "text": [
      "Classification Report:\n",
      "                    precision    recall  f1-score   support\n",
      "\n",
      "          Healthy       0.98      0.86      0.92     91729\n",
      "Pancreatic Cancer       0.00      0.00      0.00       389\n",
      "              T2D       0.36      0.83      0.50      8648\n",
      "\n",
      "         accuracy                           0.86    100766\n",
      "        macro avg       0.45      0.56      0.47    100766\n",
      "     weighted avg       0.92      0.86      0.88    100766\n"
     ]
    },
    {
     "name": "stderr",
     "output_type": "stream",
     "text": [
      "/home/ofeksh2@mta.ac.il/.virtualenvs/Final Project/lib/python3.10/site-packages/sklearn/metrics/_classification.py:1517: UndefinedMetricWarning: Precision is ill-defined and being set to 0.0 in labels with no predicted samples. Use `zero_division` parameter to control this behavior.\n",
      "  _warn_prf(average, modifier, f\"{metric.capitalize()} is\", len(result))\n",
      "/home/ofeksh2@mta.ac.il/.virtualenvs/Final Project/lib/python3.10/site-packages/sklearn/metrics/_classification.py:1517: UndefinedMetricWarning: Precision is ill-defined and being set to 0.0 in labels with no predicted samples. Use `zero_division` parameter to control this behavior.\n",
      "  _warn_prf(average, modifier, f\"{metric.capitalize()} is\", len(result))\n",
      "/home/ofeksh2@mta.ac.il/.virtualenvs/Final Project/lib/python3.10/site-packages/sklearn/metrics/_classification.py:1517: UndefinedMetricWarning: Precision is ill-defined and being set to 0.0 in labels with no predicted samples. Use `zero_division` parameter to control this behavior.\n",
      "  _warn_prf(average, modifier, f\"{metric.capitalize()} is\", len(result))\n"
     ]
    }
   ],
   "source": [
    "classification_report_str = classification_report(y_test, y_predictions, target_names=['Healthy', 'Pancreatic Cancer', 'T2D'])\n",
    "print(\"Classification Report:\\n\", classification_report_str)"
   ],
   "metadata": {
    "collapsed": false,
    "ExecuteTime": {
     "end_time": "2024-07-29T07:18:19.325894Z",
     "start_time": "2024-07-29T07:18:19.069681Z"
    }
   },
   "id": "cb78f42e391521ae",
   "execution_count": 22
  },
  {
   "cell_type": "code",
   "outputs": [],
   "source": [],
   "metadata": {
    "collapsed": false
   },
   "id": "74b9ebb9c6e29502"
  }
 ],
 "metadata": {
  "kernelspec": {
   "display_name": "Python 3",
   "language": "python",
   "name": "python3"
  },
  "language_info": {
   "codemirror_mode": {
    "name": "ipython",
    "version": 2
   },
   "file_extension": ".py",
   "mimetype": "text/x-python",
   "name": "python",
   "nbconvert_exporter": "python",
   "pygments_lexer": "ipython2",
   "version": "2.7.6"
  }
 },
 "nbformat": 4,
 "nbformat_minor": 5
}

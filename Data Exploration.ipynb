{
 "cells": [
  {
   "cell_type": "code",
   "id": "initial_id",
   "metadata": {
    "collapsed": true,
    "ExecuteTime": {
     "end_time": "2024-06-01T11:48:10.544172Z",
     "start_time": "2024-06-01T11:48:09.294389Z"
    }
   },
   "source": [
    "import pandas as pd\n",
    "import numpy as np\n",
    "import json\n",
    "import matplotlib.pyplot as plt\n",
    "import re"
   ],
   "outputs": [],
   "execution_count": 1
  },
  {
   "metadata": {},
   "cell_type": "markdown",
   "source": [
    "# DATA SET CREATION"
   ],
   "id": "2970a132e25d7dbb"
  },
  {
   "metadata": {},
   "cell_type": "markdown",
   "source": [
    "### 1. dataset extraction"
   ],
   "id": "fab2988244b5b60e"
  },
  {
   "metadata": {
    "ExecuteTime": {
     "end_time": "2024-06-01T11:48:28.462038Z",
     "start_time": "2024-06-01T11:48:28.457968Z"
    }
   },
   "cell_type": "code",
   "source": [
    "with open ('/home/ofeksh2@mta.ac.il/config.json', 'r', encoding='utf-8') as f:\n",
    "    config = json.load(f)\n",
    "\n",
    "biobank_path = config['biobank_path']\n",
    "features_code_list = config['features_code_list']\n",
    "features_name_list = config['features_name_list']"
   ],
   "id": "447a79c9ecd39274",
   "outputs": [],
   "execution_count": 4
  },
  {
   "cell_type": "code",
   "outputs": [],
   "source": [
    "diagnosises = ['eid', '31-0.0'] + [f'41270-0.{i}' for i in range(80)]"
   ],
   "metadata": {
    "collapsed": false,
    "ExecuteTime": {
     "end_time": "2024-05-26T08:34:19.180032Z",
     "start_time": "2024-05-26T08:34:19.175270Z"
    }
   },
   "id": "ac6425d72b8bc5bd",
   "execution_count": 32
  },
  {
   "metadata": {
    "ExecuteTime": {
     "end_time": "2024-05-26T08:41:03.617930Z",
     "start_time": "2024-05-26T08:34:21.532710Z"
    }
   },
   "cell_type": "code",
   "source": [
    "df = pd.read_csv(biobank_path, usecols=diagnosises)"
   ],
   "id": "4a4b7f4b19ee02c0",
   "outputs": [
    {
     "name": "stderr",
     "output_type": "stream",
     "text": [
      "/tmp/ipykernel_968599/3064090637.py:1: DtypeWarning: Columns (13626,13627,13628,13629,13630,13631,13632,13633,13634,13635,13636,13637,13638,13639,13640,13641,13642,13643,13644,13645,13646,13647,13648,13649,13650,13651,13652,13653,13654,13655,13656,13657,13658,13659,13660,13661,13662,13663,13664,13665,13666,13667,13668,13669,13670,13671,13672,13673,13674,13675,13676,13677,13678,13679,13680,13681,13682,13683,13684,13685,13686,13687,13688,13689,13690,13691,13692,13693,13694,13695,13696,13697,13698) have mixed types. Specify dtype option on import or set low_memory=False.\n",
      "  df = pd.read_csv(biobank_path, usecols=diagnosises)\n"
     ]
    }
   ],
   "execution_count": 33
  },
  {
   "metadata": {
    "ExecuteTime": {
     "end_time": "2024-05-20T15:47:54.303860Z",
     "start_time": "2024-05-20T15:47:54.296607Z"
    }
   },
   "cell_type": "code",
   "source": [
    "difference = set(features_code_list) - set(df.columns)\n",
    "features_dict = dict(zip(features_code_list, features_name_list))\n",
    "[features_dict[feature] for feature in difference if 'Cholesterol' not in feature]"
   ],
   "id": "e5903bd6e044ca0d",
   "outputs": [
    {
     "data": {
      "text/plain": [
       "['Free Cholesterol in Medium LDL',\n",
       " 'Cholesterol to Total Lipids in Small VLDL percentage',\n",
       " 'Number of times woke up in the night during the past month',\n",
       " 'Cholesterol to Total Lipids in Medium VLDL percentage',\n",
       " 'Free Cholesterol in Very Small VLDL',\n",
       " 'Cholesterol to Total Lipids in Very Small VLDL percentage',\n",
       " 'Tiredness, weariness or fatigue goes away when resting',\n",
       " 'Cholesterol to Total Lipids in Large HDL percentage',\n",
       " 'Cholesteryl Esters in Medium HDL',\n",
       " 'Free Cholesterol in Large HDL',\n",
       " 'Free Cholesterol to Total Lipids in Medium LDL percentage',\n",
       " 'Free Cholesterol in Very Large VLDL',\n",
       " 'Cholesteryl Esters in VLDL',\n",
       " 'Overall quality of sleep in past month',\n",
       " 'Cholesteryl Esters in Very Small VLDL',\n",
       " 'Free Cholesterol in LDL',\n",
       " 'Free Cholesterol to Total Lipids in Medium VLDL percentage',\n",
       " 'Free Cholesterol in VLDL',\n",
       " 'Standard PRS for type 2 diabetes (T2D)',\n",
       " 'Free Cholesterol to Total Lipids in Very Large HDL percentage',\n",
       " 'Cholesterol in Medium HDL',\n",
       " 'Cholesteryl Esters in Medium LDL',\n",
       " 'Cholesteryl Esters to Total Lipids in Small HDL percentage',\n",
       " 'Cholesterol in Small VLDL',\n",
       " 'Cholesterol in Large VLDL',\n",
       " 'Cholesteryl Esters in Very Large VLDL',\n",
       " 'Experienced episodes of overeating/binge eating during time(s) of low weight ?',\n",
       " 'Cholesteryl Esters in Very Large HDL',\n",
       " 'Free Cholesterol to Total Lipids in Small LDL percentage',\n",
       " 'Free Cholesterol in Chylomicrons and Extremely Large VLDL',\n",
       " 'Currently suffering from nausea and/or vomiting',\n",
       " 'Cholesteryl Esters to Total Lipids in IDL percentage',\n",
       " 'Free Cholesterol to Total Lipids in IDL percentage',\n",
       " 'Cholesteryl Esters in Large LDL',\n",
       " 'Cholesterol in Medium LDL',\n",
       " 'Cholesteryl Esters in Small VLDL',\n",
       " 'Cholesteryl Esters to Total Lipids in Small VLDL percentage',\n",
       " 'Free Cholesterol in Medium HDL',\n",
       " 'Free Cholesterol in Large LDL',\n",
       " 'Cholesterol in IDL',\n",
       " 'Cholesteryl Esters in Small LDL',\n",
       " 'Cholesteryl Esters to Total Lipids in Very Large VLDL percentage',\n",
       " 'Cholesterol to Total Lipids in Small HDL percentage',\n",
       " 'Free Cholesterol in IDL',\n",
       " 'Free Cholesterol to Total Lipids in Small HDL percentage',\n",
       " 'Cholesterol in Medium VLDL',\n",
       " 'HDL Cholesterol',\n",
       " 'Cholesteryl Esters to Total Lipids in Chylomicrons and Extremely Large VLDL percentage',\n",
       " 'Cholesterol to Total Lipids in Very Large VLDL percentage',\n",
       " 'Cholesteryl Esters in LDL',\n",
       " 'Cholesterol to Total Lipids in Medium HDL percentage',\n",
       " 'Free Cholesterol in HDL',\n",
       " 'Cholesterol in Large LDL',\n",
       " 'Tiredness after waking',\n",
       " 'Length of time suffering from abdominal pain/tummy ache ',\n",
       " 'Cholesterol in Very Large VLDL',\n",
       " 'Cholesterol to Total Lipids in Large LDL percentage',\n",
       " 'Cholesteryl Esters to Total Lipids in Medium LDL percentage',\n",
       " 'Cholesteryl Esters to Total Lipids in Large LDL percentage',\n",
       " 'Cholesteryl Esters in HDL',\n",
       " 'Cholesteryl Esters to Total Lipids in Very Large HDL percentage',\n",
       " 'Cholesteryl Esters in Medium VLDL',\n",
       " 'Cholesterol in Very Large HDL',\n",
       " 'Cholesteryl Esters in Large HDL',\n",
       " 'How many hours of actual sleep each night during the past month',\n",
       " 'Length of time to get to sleep during the past month',\n",
       " 'Free Cholesterol to Total Lipids in Small VLDL percentage',\n",
       " 'Free Cholesterol to Total Lipids in Very Small VLDL percentage',\n",
       " 'Free Cholesterol to Total Lipids in Large VLDL percentage',\n",
       " 'Free Cholesterol in Medium VLDL',\n",
       " 'Length of time suffering from severe fatigue',\n",
       " 'Cholesterol in Small LDL',\n",
       " 'Free Cholesterol in Small HDL',\n",
       " 'LDL Cholesterol',\n",
       " 'Cholesterol in Chylomicrons and Extremely Large VLDL',\n",
       " 'Cholesteryl Esters to Total Lipids in Very Small VLDL percentage',\n",
       " 'Free Cholesterol to Total Lipids in Medium HDL percentage',\n",
       " 'Cholesterol to Total Lipids in Chylomicrons and Extremely Large VLDL percentage',\n",
       " 'Cholesterol in Very Small VLDL',\n",
       " 'Cholesteryl Esters in IDL',\n",
       " 'Cholesteryl Esters to Total Lipids in Medium HDL percentage',\n",
       " 'Cholesterol to Total Lipids in IDL percentage',\n",
       " 'Enhanced PRS for type 2 diabetes (T2D)',\n",
       " 'Cholesteryl Esters to Total Lipids in Large VLDL percentage',\n",
       " 'Free Cholesterol in Very Large HDL',\n",
       " 'Free Cholesterol in Large VLDL',\n",
       " 'Cholesterol in Large HDL',\n",
       " 'Free Cholesterol to Total Lipids in Chylomicrons and Extremely Large VLDL percentage',\n",
       " 'Persistent or recurrent tiredness, weariness or fatigue that has lasted for at least 6 months',\n",
       " 'Trouble sleeping in past month as need to use the bathroom',\n",
       " 'Cholesterol to Total Lipids in Medium LDL percentage',\n",
       " 'Free Cholesterol in Small LDL',\n",
       " 'Cholesterol in Small HDL',\n",
       " 'Free Cholesterol to Total Lipids in Very Large VLDL percentage',\n",
       " 'Length of time suffering from mild fatigue',\n",
       " 'Free Cholesterol in Small VLDL',\n",
       " 'Cholesterol to Total Lipids in Very Large HDL percentage',\n",
       " 'Cholesterol to Total Lipids in Large VLDL percentage',\n",
       " 'Free Cholesterol to Total Lipids in Large LDL percentage',\n",
       " 'Length of time suffering from nausea and/or vomiting',\n",
       " 'Free Cholesterol to Total Lipids in Large HDL percentage',\n",
       " 'Cholesterol to Total Lipids in Small LDL percentage',\n",
       " 'Cholesteryl Esters to Total Lipids in Large HDL percentage',\n",
       " 'Cholesteryl Esters to Total Lipids in Medium VLDL percentage',\n",
       " 'Cholesteryl Esters to Total Lipids in Small LDL percentage',\n",
       " 'Cholesteryl Esters in Large VLDL',\n",
       " 'Cholesteryl Esters in Small HDL']"
      ]
     },
     "execution_count": 18,
     "metadata": {},
     "output_type": "execute_result"
    }
   ],
   "execution_count": 18
  },
  {
   "metadata": {
    "ExecuteTime": {
     "end_time": "2024-05-26T08:41:59.851344Z",
     "start_time": "2024-05-26T08:41:55.781643Z"
    }
   },
   "cell_type": "code",
   "source": [
    "df_filled = df.fillna('-1')"
   ],
   "id": "70756974bda5c359",
   "outputs": [],
   "execution_count": 34
  },
  {
   "cell_type": "code",
   "outputs": [
    {
     "data": {
      "text/plain": "            eid  31-0.0 41270-0.0 41270-0.1 41270-0.2 41270-0.3 41270-0.4  \\\n0       1000013       1      E669      E785      F171      I088      I211   \n1       1000024       1      E669      I081       I10      I272      I420   \n2       1000036       1      Z302        -1        -1        -1        -1   \n3       1000048       0      A099      A410      C504      C509      D059   \n4       1000055       0      D300      D509      E039       I10      I252   \n...         ...     ...       ...       ...       ...       ...       ...   \n502365  6024050       0      A099      C172      D123      D133      E875   \n502366  6024062       1      E780      H258      H269      H438      H521   \n502367  6024077       1      D122      D125      D128      F329      I849   \n502368  6024085       1      H020      K297      K635        -1        -1   \n502369  6024096       1      G562       I10      M179       R33      Y831   \n\n       41270-0.5 41270-0.6 41270-0.7  ... 41270-0.70 41270-0.71 41270-0.72  \\\n0           I251      I252      I253  ...         -1         -1         -1   \n1           I447      I509      I519  ...         -1         -1         -1   \n2             -1        -1        -1  ...         -1         -1         -1   \n3           D231      D649       D70  ...         -1         -1         -1   \n4           I429      I447       I48  ...         -1         -1         -1   \n...          ...       ...       ...  ...        ...        ...        ...   \n502365      H701       H71       I10  ...         -1         -1         -1   \n502366       I10      I209      I251  ...         -1         -1         -1   \n502367      K221      K573      K574  ...         -1         -1         -1   \n502368        -1        -1        -1  ...         -1         -1         -1   \n502369      Z907      Z966        -1  ...         -1         -1         -1   \n\n       41270-0.73 41270-0.74 41270-0.75 41270-0.76 41270-0.77 41270-0.78  \\\n0              -1         -1         -1         -1         -1         -1   \n1              -1         -1         -1         -1         -1         -1   \n2              -1         -1         -1         -1         -1         -1   \n3              -1         -1         -1         -1         -1         -1   \n4              -1         -1         -1         -1         -1         -1   \n...           ...        ...        ...        ...        ...        ...   \n502365         -1         -1         -1         -1         -1         -1   \n502366         -1         -1         -1         -1         -1         -1   \n502367         -1         -1         -1         -1         -1         -1   \n502368         -1         -1         -1         -1         -1         -1   \n502369         -1         -1         -1         -1         -1         -1   \n\n       41270-0.79  \n0              -1  \n1              -1  \n2              -1  \n3              -1  \n4              -1  \n...           ...  \n502365         -1  \n502366         -1  \n502367         -1  \n502368         -1  \n502369         -1  \n\n[502370 rows x 82 columns]",
      "text/html": "<div>\n<style scoped>\n    .dataframe tbody tr th:only-of-type {\n        vertical-align: middle;\n    }\n\n    .dataframe tbody tr th {\n        vertical-align: top;\n    }\n\n    .dataframe thead th {\n        text-align: right;\n    }\n</style>\n<table border=\"1\" class=\"dataframe\">\n  <thead>\n    <tr style=\"text-align: right;\">\n      <th></th>\n      <th>eid</th>\n      <th>31-0.0</th>\n      <th>41270-0.0</th>\n      <th>41270-0.1</th>\n      <th>41270-0.2</th>\n      <th>41270-0.3</th>\n      <th>41270-0.4</th>\n      <th>41270-0.5</th>\n      <th>41270-0.6</th>\n      <th>41270-0.7</th>\n      <th>...</th>\n      <th>41270-0.70</th>\n      <th>41270-0.71</th>\n      <th>41270-0.72</th>\n      <th>41270-0.73</th>\n      <th>41270-0.74</th>\n      <th>41270-0.75</th>\n      <th>41270-0.76</th>\n      <th>41270-0.77</th>\n      <th>41270-0.78</th>\n      <th>41270-0.79</th>\n    </tr>\n  </thead>\n  <tbody>\n    <tr>\n      <th>0</th>\n      <td>1000013</td>\n      <td>1</td>\n      <td>E669</td>\n      <td>E785</td>\n      <td>F171</td>\n      <td>I088</td>\n      <td>I211</td>\n      <td>I251</td>\n      <td>I252</td>\n      <td>I253</td>\n      <td>...</td>\n      <td>-1</td>\n      <td>-1</td>\n      <td>-1</td>\n      <td>-1</td>\n      <td>-1</td>\n      <td>-1</td>\n      <td>-1</td>\n      <td>-1</td>\n      <td>-1</td>\n      <td>-1</td>\n    </tr>\n    <tr>\n      <th>1</th>\n      <td>1000024</td>\n      <td>1</td>\n      <td>E669</td>\n      <td>I081</td>\n      <td>I10</td>\n      <td>I272</td>\n      <td>I420</td>\n      <td>I447</td>\n      <td>I509</td>\n      <td>I519</td>\n      <td>...</td>\n      <td>-1</td>\n      <td>-1</td>\n      <td>-1</td>\n      <td>-1</td>\n      <td>-1</td>\n      <td>-1</td>\n      <td>-1</td>\n      <td>-1</td>\n      <td>-1</td>\n      <td>-1</td>\n    </tr>\n    <tr>\n      <th>2</th>\n      <td>1000036</td>\n      <td>1</td>\n      <td>Z302</td>\n      <td>-1</td>\n      <td>-1</td>\n      <td>-1</td>\n      <td>-1</td>\n      <td>-1</td>\n      <td>-1</td>\n      <td>-1</td>\n      <td>...</td>\n      <td>-1</td>\n      <td>-1</td>\n      <td>-1</td>\n      <td>-1</td>\n      <td>-1</td>\n      <td>-1</td>\n      <td>-1</td>\n      <td>-1</td>\n      <td>-1</td>\n      <td>-1</td>\n    </tr>\n    <tr>\n      <th>3</th>\n      <td>1000048</td>\n      <td>0</td>\n      <td>A099</td>\n      <td>A410</td>\n      <td>C504</td>\n      <td>C509</td>\n      <td>D059</td>\n      <td>D231</td>\n      <td>D649</td>\n      <td>D70</td>\n      <td>...</td>\n      <td>-1</td>\n      <td>-1</td>\n      <td>-1</td>\n      <td>-1</td>\n      <td>-1</td>\n      <td>-1</td>\n      <td>-1</td>\n      <td>-1</td>\n      <td>-1</td>\n      <td>-1</td>\n    </tr>\n    <tr>\n      <th>4</th>\n      <td>1000055</td>\n      <td>0</td>\n      <td>D300</td>\n      <td>D509</td>\n      <td>E039</td>\n      <td>I10</td>\n      <td>I252</td>\n      <td>I429</td>\n      <td>I447</td>\n      <td>I48</td>\n      <td>...</td>\n      <td>-1</td>\n      <td>-1</td>\n      <td>-1</td>\n      <td>-1</td>\n      <td>-1</td>\n      <td>-1</td>\n      <td>-1</td>\n      <td>-1</td>\n      <td>-1</td>\n      <td>-1</td>\n    </tr>\n    <tr>\n      <th>...</th>\n      <td>...</td>\n      <td>...</td>\n      <td>...</td>\n      <td>...</td>\n      <td>...</td>\n      <td>...</td>\n      <td>...</td>\n      <td>...</td>\n      <td>...</td>\n      <td>...</td>\n      <td>...</td>\n      <td>...</td>\n      <td>...</td>\n      <td>...</td>\n      <td>...</td>\n      <td>...</td>\n      <td>...</td>\n      <td>...</td>\n      <td>...</td>\n      <td>...</td>\n      <td>...</td>\n    </tr>\n    <tr>\n      <th>502365</th>\n      <td>6024050</td>\n      <td>0</td>\n      <td>A099</td>\n      <td>C172</td>\n      <td>D123</td>\n      <td>D133</td>\n      <td>E875</td>\n      <td>H701</td>\n      <td>H71</td>\n      <td>I10</td>\n      <td>...</td>\n      <td>-1</td>\n      <td>-1</td>\n      <td>-1</td>\n      <td>-1</td>\n      <td>-1</td>\n      <td>-1</td>\n      <td>-1</td>\n      <td>-1</td>\n      <td>-1</td>\n      <td>-1</td>\n    </tr>\n    <tr>\n      <th>502366</th>\n      <td>6024062</td>\n      <td>1</td>\n      <td>E780</td>\n      <td>H258</td>\n      <td>H269</td>\n      <td>H438</td>\n      <td>H521</td>\n      <td>I10</td>\n      <td>I209</td>\n      <td>I251</td>\n      <td>...</td>\n      <td>-1</td>\n      <td>-1</td>\n      <td>-1</td>\n      <td>-1</td>\n      <td>-1</td>\n      <td>-1</td>\n      <td>-1</td>\n      <td>-1</td>\n      <td>-1</td>\n      <td>-1</td>\n    </tr>\n    <tr>\n      <th>502367</th>\n      <td>6024077</td>\n      <td>1</td>\n      <td>D122</td>\n      <td>D125</td>\n      <td>D128</td>\n      <td>F329</td>\n      <td>I849</td>\n      <td>K221</td>\n      <td>K573</td>\n      <td>K574</td>\n      <td>...</td>\n      <td>-1</td>\n      <td>-1</td>\n      <td>-1</td>\n      <td>-1</td>\n      <td>-1</td>\n      <td>-1</td>\n      <td>-1</td>\n      <td>-1</td>\n      <td>-1</td>\n      <td>-1</td>\n    </tr>\n    <tr>\n      <th>502368</th>\n      <td>6024085</td>\n      <td>1</td>\n      <td>H020</td>\n      <td>K297</td>\n      <td>K635</td>\n      <td>-1</td>\n      <td>-1</td>\n      <td>-1</td>\n      <td>-1</td>\n      <td>-1</td>\n      <td>...</td>\n      <td>-1</td>\n      <td>-1</td>\n      <td>-1</td>\n      <td>-1</td>\n      <td>-1</td>\n      <td>-1</td>\n      <td>-1</td>\n      <td>-1</td>\n      <td>-1</td>\n      <td>-1</td>\n    </tr>\n    <tr>\n      <th>502369</th>\n      <td>6024096</td>\n      <td>1</td>\n      <td>G562</td>\n      <td>I10</td>\n      <td>M179</td>\n      <td>R33</td>\n      <td>Y831</td>\n      <td>Z907</td>\n      <td>Z966</td>\n      <td>-1</td>\n      <td>...</td>\n      <td>-1</td>\n      <td>-1</td>\n      <td>-1</td>\n      <td>-1</td>\n      <td>-1</td>\n      <td>-1</td>\n      <td>-1</td>\n      <td>-1</td>\n      <td>-1</td>\n      <td>-1</td>\n    </tr>\n  </tbody>\n</table>\n<p>502370 rows × 82 columns</p>\n</div>"
     },
     "execution_count": 35,
     "metadata": {},
     "output_type": "execute_result"
    }
   ],
   "source": [
    "df_filled"
   ],
   "metadata": {
    "collapsed": false,
    "ExecuteTime": {
     "end_time": "2024-05-26T08:42:03.473038Z",
     "start_time": "2024-05-26T08:42:02.836191Z"
    }
   },
   "id": "22067f383d10610a",
   "execution_count": 35
  },
  {
   "metadata": {
    "ExecuteTime": {
     "end_time": "2024-05-26T08:42:19.641292Z",
     "start_time": "2024-05-26T08:42:12.785364Z"
    }
   },
   "cell_type": "code",
   "outputs": [],
   "execution_count": 36,
   "source": [
    "all_diseased_column = df_filled.drop(['eid', '31-0.0'], axis=1).agg(', '.join, axis=1)"
   ],
   "id": "d51653216cc1834b"
  },
  {
   "cell_type": "code",
   "outputs": [],
   "source": [
    "all_diseased_column"
   ],
   "metadata": {
    "collapsed": false
   },
   "id": "da65f4a671b7411c"
  },
  {
   "cell_type": "markdown",
   "source": [
    "###     1.1 Get diabetes dataset"
   ],
   "metadata": {
    "collapsed": false
   },
   "id": "d55d0846461b2dc8"
  },
  {
   "cell_type": "code",
   "outputs": [],
   "source": [
    "def get_people_with_disease(df, all_diseased_column, disease_code_pattern):\n",
    "    people_with_disease_df = df[all_diseased_column.str.contains(disease_code_pattern)]\n",
    "\n",
    "    return people_with_disease_df"
   ],
   "metadata": {
    "collapsed": false,
    "ExecuteTime": {
     "end_time": "2024-05-26T08:42:32.313032Z",
     "start_time": "2024-05-26T08:42:32.309118Z"
    }
   },
   "id": "c36b216b797c20a9",
   "execution_count": 38
  },
  {
   "metadata": {
    "ExecuteTime": {
     "end_time": "2024-05-26T08:44:59.684129Z",
     "start_time": "2024-05-26T08:44:56.615665Z"
    }
   },
   "cell_type": "code",
   "source": [
    "diabetes_pattern = r'E11'\n",
    "people_with_diabetes_df = get_people_with_disease(df_filled, all_diseased_column, diabetes_pattern)\n",
    "people_with_diabetes_df.shape"
   ],
   "id": "cba3fa7cd20e6179",
   "outputs": [
    {
     "data": {
      "text/plain": "52177"
     },
     "execution_count": 40,
     "metadata": {},
     "output_type": "execute_result"
    }
   ],
   "execution_count": 40
  },
  {
   "metadata": {},
   "cell_type": "markdown",
   "source": [
    "###    1.2 Get pancreatic cancer dataset"
   ],
   "id": "995fb2acfe53d4ac"
  },
  {
   "metadata": {},
   "cell_type": "code",
   "outputs": [],
   "execution_count": 4,
   "source": [
    "def get_people_with_2_diseases(df, first_disease_code_pattern, second_disease_code_pattern):\n",
    "    people_with_disease_df = df[df['41202-0.0'].str.contains(first_disease_code_pattern) & df['41204-0.0'].str.contains(second_disease_code_pattern)]\n",
    "    people_with_disease_df = pd.concat([people_with_disease_df, df[df['41204-0.0'].str.contains(first_disease_code_pattern) & df['41202-0.0'].str.contains(second_disease_code_pattern)]])\n",
    "\n",
    "    return people_with_disease_df"
   ],
   "id": "70613461aa8cbc20"
  },
  {
   "metadata": {
    "ExecuteTime": {
     "end_time": "2024-05-26T08:56:57.480608Z",
     "start_time": "2024-05-26T08:56:54.757291Z"
    }
   },
   "cell_type": "code",
   "source": [
    "sum = 0\n",
    "for num in range(10):\n",
    "    pancreatic_cancer_pattern = r'C25' + re.escape(str(num))\n",
    "    people_with_pancreatic_cancer_df = get_people_with_disease(df_filled, all_diseased_column,pancreatic_cancer_pattern)\n",
    "    sum += people_with_pancreatic_cancer_df.shape[0]\n",
    "sum"
   ],
   "id": "40c8e9d7c967695f",
   "outputs": [
    {
     "data": {
      "text/plain": "2851"
     },
     "execution_count": 61,
     "metadata": {},
     "output_type": "execute_result"
    }
   ],
   "execution_count": 61
  },
  {
   "metadata": {},
   "cell_type": "markdown",
   "source": [
    "###    1.3 Get patients with both diabetes and pancreatic cancer dataset"
   ],
   "id": "23a630c8995fee40"
  },
  {
   "metadata": {
    "jupyter": {
     "is_executing": true
    }
   },
   "cell_type": "code",
   "source": [
    "poeple_with_both_diseases = pd.merge([people_with_diabetes_df, people_with_pancreatic_cancer_df], how='inner')"
   ],
   "id": "b90c9e0ff66b20ad",
   "outputs": [],
   "execution_count": null
  },
  {
   "metadata": {},
   "cell_type": "markdown",
   "source": [],
   "id": "b6b3e05d097afefe"
  },
  {
   "metadata": {},
   "cell_type": "markdown",
   "source": [
    "###    1.4 Get test group dataset"
   ],
   "id": "bb89ccbd7ede55a8"
  },
  {
   "cell_type": "code",
   "outputs": [],
   "source": [
    "test_group_df = df.sample(n=100000)\n",
    "train_group_df = df.drop(test_group_df.index)"
   ],
   "metadata": {
    "collapsed": false
   },
   "id": "a24ef82efa4654cb"
  },
  {
   "metadata": {
    "ExecuteTime": {
     "end_time": "2024-05-26T08:52:33.767542Z",
     "start_time": "2024-05-26T08:52:33.144427Z"
    }
   },
   "cell_type": "code",
   "outputs": [
    {
     "name": "stderr",
     "output_type": "stream",
     "text": [
      "/tmp/ipykernel_968599/2877151384.py:2: UserWarning: Boolean Series key will be reindexed to match DataFrame index.\n",
      "  people_with_disease_df = df[all_diseased_column.str.contains(disease_code_pattern)]\n"
     ]
    },
    {
     "name": "stdout",
     "output_type": "stream",
     "text": [
      "(8651, 82)\n"
     ]
    },
    {
     "name": "stderr",
     "output_type": "stream",
     "text": [
      "/tmp/ipykernel_968599/2877151384.py:2: UserWarning: Boolean Series key will be reindexed to match DataFrame index.\n",
      "  people_with_disease_df = df[all_diseased_column.str.contains(disease_code_pattern)]\n"
     ]
    },
    {
     "data": {
      "text/plain": "(382, 82)"
     },
     "execution_count": 59,
     "metadata": {},
     "output_type": "execute_result"
    }
   ],
   "execution_count": 59,
   "source": [
    "diabetes_pattern = r'E11'\n",
    "people_with_diabetes_df = get_people_with_disease(test_group_df, all_diseased_column, diabetes_pattern)\n",
    "print(people_with_diabetes_df.shape)"
   ],
   "id": "7d98f1699859677a"
  },
  {
   "cell_type": "code",
   "outputs": [],
   "source": [
    "pancreatic_cancer_pattern = r'C25'\n",
    "people_with_pancreatic_cancer_df = get_people_with_disease(test_group_df, all_diseased_column,pancreatic_cancer_pattern)\n",
    "people_with_pancreatic_cancer_df.shape"
   ],
   "metadata": {
    "collapsed": false
   },
   "id": "3b44fb27749d68de"
  },
  {
   "cell_type": "code",
   "outputs": [],
   "source": [],
   "metadata": {
    "collapsed": false
   },
   "id": "1814fd40755d310"
  },
  {
   "metadata": {},
   "cell_type": "markdown",
   "source": [
    "###    1.5 Merge and label datasets"
   ],
   "id": "f8adc64e7e0a494"
  },
  {
   "metadata": {
    "ExecuteTime": {
     "end_time": "2024-05-17T13:16:39.252883Z",
     "start_time": "2024-05-17T13:16:39.178205Z"
    }
   },
   "cell_type": "code",
   "source": [
    "people_with_diabetes_df['label'] = 1\n",
    "people_with_pancreatic_cancer_df['label'] = 2\n",
    "people_with_both_diseases['label'] = 3"
   ],
   "id": "4d4da612391c527",
   "outputs": [
    {
     "ename": "KeyError",
     "evalue": "'20116-0.0'",
     "output_type": "error",
     "traceback": [
      "\u001B[0;31m---------------------------------------------------------------------------\u001B[0m",
      "\u001B[0;31mKeyError\u001B[0m                                  Traceback (most recent call last)",
      "File \u001B[0;32m~/.virtualenvs/Final Project/lib/python3.10/site-packages/pandas/core/indexes/base.py:3805\u001B[0m, in \u001B[0;36mIndex.get_loc\u001B[0;34m(self, key)\u001B[0m\n\u001B[1;32m   3804\u001B[0m \u001B[38;5;28;01mtry\u001B[39;00m:\n\u001B[0;32m-> 3805\u001B[0m     \u001B[38;5;28;01mreturn\u001B[39;00m \u001B[38;5;28;43mself\u001B[39;49m\u001B[38;5;241;43m.\u001B[39;49m\u001B[43m_engine\u001B[49m\u001B[38;5;241;43m.\u001B[39;49m\u001B[43mget_loc\u001B[49m\u001B[43m(\u001B[49m\u001B[43mcasted_key\u001B[49m\u001B[43m)\u001B[49m\n\u001B[1;32m   3806\u001B[0m \u001B[38;5;28;01mexcept\u001B[39;00m \u001B[38;5;167;01mKeyError\u001B[39;00m \u001B[38;5;28;01mas\u001B[39;00m err:\n",
      "File \u001B[0;32mindex.pyx:167\u001B[0m, in \u001B[0;36mpandas._libs.index.IndexEngine.get_loc\u001B[0;34m()\u001B[0m\n",
      "File \u001B[0;32mindex.pyx:196\u001B[0m, in \u001B[0;36mpandas._libs.index.IndexEngine.get_loc\u001B[0;34m()\u001B[0m\n",
      "File \u001B[0;32mpandas/_libs/hashtable_class_helper.pxi:7081\u001B[0m, in \u001B[0;36mpandas._libs.hashtable.PyObjectHashTable.get_item\u001B[0;34m()\u001B[0m\n",
      "File \u001B[0;32mpandas/_libs/hashtable_class_helper.pxi:7089\u001B[0m, in \u001B[0;36mpandas._libs.hashtable.PyObjectHashTable.get_item\u001B[0;34m()\u001B[0m\n",
      "\u001B[0;31mKeyError\u001B[0m: '20116-0.0'",
      "\nThe above exception was the direct cause of the following exception:\n",
      "\u001B[0;31mKeyError\u001B[0m                                  Traceback (most recent call last)",
      "Cell \u001B[0;32mIn[55], line 4\u001B[0m\n\u001B[1;32m      1\u001B[0m diabetes_smoking \u001B[38;5;241m=\u001B[39m people_with_diabetes_df[\u001B[38;5;124m'\u001B[39m\u001B[38;5;124m20116-0.0\u001B[39m\u001B[38;5;124m'\u001B[39m]\u001B[38;5;241m.\u001B[39mvalue_counts()\n\u001B[1;32m      2\u001B[0m pancreatic_cancer_smoking \u001B[38;5;241m=\u001B[39m people_with_pancreatic_cancer_df[\u001B[38;5;124m'\u001B[39m\u001B[38;5;124m20116-0.0\u001B[39m\u001B[38;5;124m'\u001B[39m]\u001B[38;5;241m.\u001B[39mvalue_counts()\n\u001B[0;32m----> 4\u001B[0m x_axis \u001B[38;5;241m=\u001B[39m np\u001B[38;5;241m.\u001B[39marange(\u001B[38;5;28mlen\u001B[39m(\u001B[43mdiabetes_smoking\u001B[49m\u001B[43m[\u001B[49m\u001B[38;5;124;43m'\u001B[39;49m\u001B[38;5;124;43m20116-0.0\u001B[39;49m\u001B[38;5;124;43m'\u001B[39;49m\u001B[43m]\u001B[49m))\n\u001B[1;32m      6\u001B[0m plt\u001B[38;5;241m.\u001B[39mbar(x_axis \u001B[38;5;241m-\u001B[39m \u001B[38;5;241m0.2\u001B[39m, diabetes_smoking[\u001B[38;5;124m'\u001B[39m\u001B[38;5;124mcounts\u001B[39m\u001B[38;5;124m'\u001B[39m], \u001B[38;5;241m0.4\u001B[39m, label\u001B[38;5;241m=\u001B[39m\u001B[38;5;124m'\u001B[39m\u001B[38;5;124mdiabetes\u001B[39m\u001B[38;5;124m'\u001B[39m)\n\u001B[1;32m      7\u001B[0m plt\u001B[38;5;241m.\u001B[39mbar(x_axis \u001B[38;5;241m+\u001B[39m \u001B[38;5;241m0.2\u001B[39m, pancreatic_cancer_smoking[\u001B[38;5;124m'\u001B[39m\u001B[38;5;124mcounts\u001B[39m\u001B[38;5;124m'\u001B[39m], \u001B[38;5;241m0.4\u001B[39m, label\u001B[38;5;241m=\u001B[39m\u001B[38;5;124m'\u001B[39m\u001B[38;5;124mpancreatic cancer\u001B[39m\u001B[38;5;124m'\u001B[39m)\n",
      "File \u001B[0;32m~/.virtualenvs/Final Project/lib/python3.10/site-packages/pandas/core/series.py:1121\u001B[0m, in \u001B[0;36mSeries.__getitem__\u001B[0;34m(self, key)\u001B[0m\n\u001B[1;32m   1118\u001B[0m     \u001B[38;5;28;01mreturn\u001B[39;00m \u001B[38;5;28mself\u001B[39m\u001B[38;5;241m.\u001B[39m_values[key]\n\u001B[1;32m   1120\u001B[0m \u001B[38;5;28;01melif\u001B[39;00m key_is_scalar:\n\u001B[0;32m-> 1121\u001B[0m     \u001B[38;5;28;01mreturn\u001B[39;00m \u001B[38;5;28;43mself\u001B[39;49m\u001B[38;5;241;43m.\u001B[39;49m\u001B[43m_get_value\u001B[49m\u001B[43m(\u001B[49m\u001B[43mkey\u001B[49m\u001B[43m)\u001B[49m\n\u001B[1;32m   1123\u001B[0m \u001B[38;5;66;03m# Convert generator to list before going through hashable part\u001B[39;00m\n\u001B[1;32m   1124\u001B[0m \u001B[38;5;66;03m# (We will iterate through the generator there to check for slices)\u001B[39;00m\n\u001B[1;32m   1125\u001B[0m \u001B[38;5;28;01mif\u001B[39;00m is_iterator(key):\n",
      "File \u001B[0;32m~/.virtualenvs/Final Project/lib/python3.10/site-packages/pandas/core/series.py:1237\u001B[0m, in \u001B[0;36mSeries._get_value\u001B[0;34m(self, label, takeable)\u001B[0m\n\u001B[1;32m   1234\u001B[0m     \u001B[38;5;28;01mreturn\u001B[39;00m \u001B[38;5;28mself\u001B[39m\u001B[38;5;241m.\u001B[39m_values[label]\n\u001B[1;32m   1236\u001B[0m \u001B[38;5;66;03m# Similar to Index.get_value, but we do not fall back to positional\u001B[39;00m\n\u001B[0;32m-> 1237\u001B[0m loc \u001B[38;5;241m=\u001B[39m \u001B[38;5;28;43mself\u001B[39;49m\u001B[38;5;241;43m.\u001B[39;49m\u001B[43mindex\u001B[49m\u001B[38;5;241;43m.\u001B[39;49m\u001B[43mget_loc\u001B[49m\u001B[43m(\u001B[49m\u001B[43mlabel\u001B[49m\u001B[43m)\u001B[49m\n\u001B[1;32m   1239\u001B[0m \u001B[38;5;28;01mif\u001B[39;00m is_integer(loc):\n\u001B[1;32m   1240\u001B[0m     \u001B[38;5;28;01mreturn\u001B[39;00m \u001B[38;5;28mself\u001B[39m\u001B[38;5;241m.\u001B[39m_values[loc]\n",
      "File \u001B[0;32m~/.virtualenvs/Final Project/lib/python3.10/site-packages/pandas/core/indexes/base.py:3812\u001B[0m, in \u001B[0;36mIndex.get_loc\u001B[0;34m(self, key)\u001B[0m\n\u001B[1;32m   3807\u001B[0m     \u001B[38;5;28;01mif\u001B[39;00m \u001B[38;5;28misinstance\u001B[39m(casted_key, \u001B[38;5;28mslice\u001B[39m) \u001B[38;5;129;01mor\u001B[39;00m (\n\u001B[1;32m   3808\u001B[0m         \u001B[38;5;28misinstance\u001B[39m(casted_key, abc\u001B[38;5;241m.\u001B[39mIterable)\n\u001B[1;32m   3809\u001B[0m         \u001B[38;5;129;01mand\u001B[39;00m \u001B[38;5;28many\u001B[39m(\u001B[38;5;28misinstance\u001B[39m(x, \u001B[38;5;28mslice\u001B[39m) \u001B[38;5;28;01mfor\u001B[39;00m x \u001B[38;5;129;01min\u001B[39;00m casted_key)\n\u001B[1;32m   3810\u001B[0m     ):\n\u001B[1;32m   3811\u001B[0m         \u001B[38;5;28;01mraise\u001B[39;00m InvalidIndexError(key)\n\u001B[0;32m-> 3812\u001B[0m     \u001B[38;5;28;01mraise\u001B[39;00m \u001B[38;5;167;01mKeyError\u001B[39;00m(key) \u001B[38;5;28;01mfrom\u001B[39;00m \u001B[38;5;21;01merr\u001B[39;00m\n\u001B[1;32m   3813\u001B[0m \u001B[38;5;28;01mexcept\u001B[39;00m \u001B[38;5;167;01mTypeError\u001B[39;00m:\n\u001B[1;32m   3814\u001B[0m     \u001B[38;5;66;03m# If we have a listlike key, _check_indexing_error will raise\u001B[39;00m\n\u001B[1;32m   3815\u001B[0m     \u001B[38;5;66;03m#  InvalidIndexError. Otherwise we fall through and re-raise\u001B[39;00m\n\u001B[1;32m   3816\u001B[0m     \u001B[38;5;66;03m#  the TypeError.\u001B[39;00m\n\u001B[1;32m   3817\u001B[0m     \u001B[38;5;28mself\u001B[39m\u001B[38;5;241m.\u001B[39m_check_indexing_error(key)\n",
      "\u001B[0;31mKeyError\u001B[0m: '20116-0.0'"
     ]
    }
   ],
   "execution_count": 55
  },
  {
   "cell_type": "markdown",
   "source": [
    "# 2. FEATURE REPRESENTATION"
   ],
   "metadata": {
    "collapsed": false
   },
   "id": "54dad3ac744e65f6"
  },
  {
   "cell_type": "markdown",
   "source": [
    "### 2.1 Feature Preprocessing\n",
    "\n",
    "todo!!"
   ],
   "metadata": {
    "collapsed": false
   },
   "id": "f3a558f8fe827665"
  },
  {
   "cell_type": "markdown",
   "source": [
    "### 2.2 Feature analysis"
   ],
   "metadata": {
    "collapsed": false
   },
   "id": "2365c99ecdecf980"
  },
  {
   "metadata": {},
   "cell_type": "code",
   "outputs": [],
   "execution_count": null,
   "source": [
    "diabetes_smoking = people_with_diabetes_df['20116-0.0'].value_counts()\n",
    "pancreatic_cancer_smoking = people_with_pancreatic_cancer_df['20116-0.0'].value_counts()\n",
    "\n",
    "x_axis = np.arange(len(diabetes_smoking['20116-0.0']))\n",
    "\n",
    "plt.bar(x_axis - 0.2, diabetes_smoking['counts'], 0.4, label='diabetes')\n",
    "plt.bar(x_axis + 0.2, pancreatic_cancer_smoking['counts'], 0.4, label='pancreatic cancer')\n",
    "\n",
    "plt.show()"
   ],
   "id": "358a2adb0c2726ea"
  },
  {
   "cell_type": "code",
   "outputs": [],
   "source": [
    "people_with_diabetes_df['20116-0.0'].value_counts().plot(kind='bar')\n",
    "plt.show()\n",
    "people_with_pancreatic_cancer_df['20116-0.0'].value_counts().plot(kind='bar')\n",
    "plt.show()"
   ],
   "metadata": {
    "collapsed": false
   },
   "id": "f6fc2335b3b3b6b5"
  },
  {
   "cell_type": "code",
   "outputs": [],
   "source": [
    "people_with_diabetes_and_pancreatic_cancer_df = get_people_with_2_diseases(df_filled, diabetes_pattern, pancreatic_cancer_pattern)\n",
    "people_with_diabetes_and_pancreatic_cancer_df"
   ],
   "metadata": {
    "collapsed": false
   },
   "id": "6f56ee151fbb970f"
  },
  {
   "cell_type": "code",
   "outputs": [],
   "source": [
    "temp = pd.read_csv(biobank_path, usecols=features_code_list)"
   ],
   "metadata": {
    "collapsed": false
   },
   "id": "7c1a17a196ce0b50"
  },
  {
   "cell_type": "code",
   "outputs": [],
   "source": [],
   "metadata": {
    "collapsed": false
   },
   "id": "26da83fb50c40a49"
  }
 ],
 "metadata": {
  "kernelspec": {
   "display_name": "Python 3",
   "language": "python",
   "name": "python3"
  },
  "language_info": {
   "codemirror_mode": {
    "name": "ipython",
    "version": 2
   },
   "file_extension": ".py",
   "mimetype": "text/x-python",
   "name": "python",
   "nbconvert_exporter": "python",
   "pygments_lexer": "ipython2",
   "version": "2.7.6"
  }
 },
 "nbformat": 4,
 "nbformat_minor": 5
}

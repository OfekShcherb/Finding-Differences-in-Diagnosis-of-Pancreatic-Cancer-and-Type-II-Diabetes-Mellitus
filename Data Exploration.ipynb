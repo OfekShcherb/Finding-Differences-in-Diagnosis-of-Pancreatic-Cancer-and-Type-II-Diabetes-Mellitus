{
 "cells": [
  {
   "cell_type": "code",
   "id": "initial_id",
   "metadata": {
    "collapsed": true,
    "ExecuteTime": {
     "end_time": "2024-05-17T13:15:12.841213Z",
     "start_time": "2024-05-17T13:15:12.836873Z"
    }
   },
   "source": [
    "import pandas as pd\n",
    "import numpy as np\n",
    "import json\n",
    "import matplotlib.pyplot as plt"
   ],
   "outputs": [],
   "execution_count": 51
  },
  {
   "metadata": {
    "ExecuteTime": {
     "end_time": "2024-05-17T12:34:00.531704Z",
     "start_time": "2024-05-17T12:34:00.527668Z"
    }
   },
   "cell_type": "code",
   "source": [
    "def get_people_with_disease(df, both_diseased_column,disease_code_pattern):\n",
    "    people_with_disease_df = df[both_diseased_column.str.contains(disease_code_pattern)]\n",
    "\n",
    "    return people_with_disease_df"
   ],
   "id": "1c3d24dc2584a390",
   "outputs": [],
   "execution_count": 3
  },
  {
   "metadata": {
    "ExecuteTime": {
     "end_time": "2024-05-17T12:34:01.588151Z",
     "start_time": "2024-05-17T12:34:01.583970Z"
    }
   },
   "cell_type": "code",
   "source": [
    "def get_people_with_2_diseases(df, first_disease_code_pattern, second_disease_code_pattern):\n",
    "    people_with_disease_df = df[df['41202-0.0'].str.contains(first_disease_code_pattern) & df['41204-0.0'].str.contains(second_disease_code_pattern)]\n",
    "    people_with_disease_df = pd.concat([people_with_disease_df, df[df['41204-0.0'].str.contains(first_disease_code_pattern) & df['41202-0.0'].str.contains(second_disease_code_pattern)]])\n",
    "\n",
    "    return people_with_disease_df"
   ],
   "id": "70613461aa8cbc20",
   "outputs": [],
   "execution_count": 4
  },
  {
   "metadata": {
    "ExecuteTime": {
     "end_time": "2024-05-17T12:34:03.986292Z",
     "start_time": "2024-05-17T12:34:03.982769Z"
    }
   },
   "cell_type": "code",
   "source": [
    "biobank_path = '/home/ofeksh2@mta.ac.il/biobank/ukb672220.csv'\n",
    "fields = ['eid', '41202-0.0', '41204-0.0']"
   ],
   "id": "197482bb1be93e39",
   "outputs": [],
   "execution_count": 6
  },
  {
   "metadata": {},
   "cell_type": "code",
   "outputs": [
    {
     "ename": "SyntaxError",
     "evalue": "invalid syntax (2048802365.py, line 2)",
     "output_type": "error",
     "traceback": [
      "\u001B[0;36m  Cell \u001B[0;32mIn[5], line 2\u001B[0;36m\u001B[0m\n\u001B[0;31m    df.apply(lambda x: 0 if )\u001B[0m\n\u001B[0m                            ^\u001B[0m\n\u001B[0;31mSyntaxError\u001B[0m\u001B[0;31m:\u001B[0m invalid syntax\n"
     ]
    }
   ],
   "execution_count": 5,
   "source": [
    "def label_patients(both_diseased_column, df_first_disease_code_pattern, second_disease_code_pattern):\n",
    "    labels = df.apply(lambda x: 1 if )\n",
    "    return labels"
   ],
   "id": "a1de35e0df7a9c1"
  },
  {
   "metadata": {
    "ExecuteTime": {
     "end_time": "2024-05-17T12:44:40.640285Z",
     "start_time": "2024-05-17T12:44:40.635753Z"
    }
   },
   "cell_type": "code",
   "source": [
    "with open ('/home/ofeksh2@mta.ac.il/config.json', 'r', encoding='utf-8') as f:\n",
    "    config = json.load(f)\n",
    "\n",
    "biobank_path = config['biobank_path']\n",
    "fields = config['fields']"
   ],
   "id": "447a79c9ecd39274",
   "outputs": [],
   "execution_count": 13
  },
  {
   "metadata": {
    "ExecuteTime": {
     "end_time": "2024-05-17T12:50:26.920237Z",
     "start_time": "2024-05-17T12:44:42.239233Z"
    }
   },
   "cell_type": "code",
   "source": "df = pd.read_csv(biobank_path, usecols=fields)",
   "id": "4a4b7f4b19ee02c0",
   "outputs": [],
   "execution_count": 14
  },
  {
   "metadata": {
    "ExecuteTime": {
     "end_time": "2024-05-17T12:54:12.065458Z",
     "start_time": "2024-05-17T12:54:12.048246Z"
    }
   },
   "cell_type": "code",
   "source": "",
   "id": "e5b14766172538d6",
   "outputs": [
    {
     "data": {
      "text/plain": [
       "20116-0.0\n",
       " 0.0    273449\n",
       " 1.0    173010\n",
       " 2.0     52961\n",
       "-3.0      2057\n",
       "Name: count, dtype: int64"
      ]
     },
     "execution_count": 20,
     "metadata": {},
     "output_type": "execute_result"
    }
   ],
   "execution_count": 20
  },
  {
   "metadata": {
    "ExecuteTime": {
     "end_time": "2024-05-17T12:59:26.792585Z",
     "start_time": "2024-05-17T12:59:26.579820Z"
    }
   },
   "cell_type": "code",
   "source": "df_filled = df.fillna('-1')",
   "id": "70756974bda5c359",
   "outputs": [],
   "execution_count": 32
  },
  {
   "metadata": {
    "ExecuteTime": {
     "end_time": "2024-05-17T12:59:36.843709Z",
     "start_time": "2024-05-17T12:59:36.734764Z"
    }
   },
   "cell_type": "code",
   "source": [
    "both_diseased_column = df_filled['41202-0.0'] + ', ' + df_filled['41204-0.0']\n",
    "both_diseased_column"
   ],
   "id": "b9a89a9b6d44ac3e",
   "outputs": [
    {
     "data": {
      "text/plain": [
       "0         I211, E669\n",
       "1         I447, E669\n",
       "2           Z302, -1\n",
       "3         A410, A099\n",
       "4         D300, E039\n",
       "             ...    \n",
       "502365    C172, A099\n",
       "502366    H258, E780\n",
       "502367    D122, D128\n",
       "502368    H020, K297\n",
       "502369     G562, I10\n",
       "Length: 502370, dtype: object"
      ]
     },
     "execution_count": 33,
     "metadata": {},
     "output_type": "execute_result"
    }
   ],
   "execution_count": 33
  },
  {
   "metadata": {
    "ExecuteTime": {
     "end_time": "2024-05-17T12:59:44.001091Z",
     "start_time": "2024-05-17T12:59:43.824408Z"
    }
   },
   "cell_type": "code",
   "source": [
    "diabetes_pattern = r'E1[0-4]'\n",
    "people_with_diabetes_df = get_people_with_disease(df_filled, both_diseased_column, diabetes_pattern)\n",
    "print(people_with_diabetes_df)"
   ],
   "id": "cba3fa7cd20e6179",
   "outputs": [
    {
     "name": "stdout",
     "output_type": "stream",
     "text": [
      "            eid  34-0.0 20116-0.0 41202-0.0 41204-0.0\n",
      "51      1000521  1955.0       1.0      H251      E113\n",
      "54      1000550  1953.0       1.0      C509      E119\n",
      "111     1001127  1957.0       1.0      H250      E119\n",
      "173     1001745  1947.0       1.0      M224      E119\n",
      "174     1001752  1949.0       0.0       C61      E109\n",
      "...         ...     ...       ...       ...       ...\n",
      "502282  6023225  1940.0       1.0      D126      E119\n",
      "502295  6023351  1954.0       1.0     S6260      E109\n",
      "502300  6023402  1955.0       0.0      I209      E109\n",
      "502326  6023669  1957.0       0.0       A09      E119\n",
      "502335  6023754  1951.0       0.0      K580      E119\n",
      "\n",
      "[20389 rows x 5 columns]\n"
     ]
    }
   ],
   "execution_count": 34
  },
  {
   "metadata": {
    "ExecuteTime": {
     "end_time": "2024-05-17T12:59:44.500316Z",
     "start_time": "2024-05-17T12:59:44.340745Z"
    }
   },
   "cell_type": "code",
   "source": [
    "pancreatic_cancer_pattern = r'C25'\n",
    "people_with_pancreatic_cancer_df = get_people_with_disease(df_filled, both_diseased_column,pancreatic_cancer_pattern)\n",
    "people_with_pancreatic_cancer_df"
   ],
   "id": "40c8e9d7c967695f",
   "outputs": [
    {
     "data": {
      "text/plain": [
       "            eid  34-0.0 20116-0.0 41202-0.0 41204-0.0\n",
       "255     1002563  1945.0       0.0      C252      C786\n",
       "1067    1010680  1945.0       0.0      C259      C259\n",
       "1167    1011689  1947.0       0.0      C252      C252\n",
       "1644    1016452  1945.0       1.0      C250      A099\n",
       "1685    1016868  1942.0       0.0      C250       I10\n",
       "...         ...     ...       ...       ...       ...\n",
       "499139  5991799  1950.0       1.0      C259      C259\n",
       "499886  5999261  1952.0       1.0      C259      C259\n",
       "500100  6001401  1938.0       2.0      C252      C787\n",
       "501131  6011714  1948.0       0.0      C786      C252\n",
       "502267  6023072  1949.0       1.0      C251      C780\n",
       "\n",
       "[1478 rows x 5 columns]"
      ],
      "text/html": [
       "<div>\n",
       "<style scoped>\n",
       "    .dataframe tbody tr th:only-of-type {\n",
       "        vertical-align: middle;\n",
       "    }\n",
       "\n",
       "    .dataframe tbody tr th {\n",
       "        vertical-align: top;\n",
       "    }\n",
       "\n",
       "    .dataframe thead th {\n",
       "        text-align: right;\n",
       "    }\n",
       "</style>\n",
       "<table border=\"1\" class=\"dataframe\">\n",
       "  <thead>\n",
       "    <tr style=\"text-align: right;\">\n",
       "      <th></th>\n",
       "      <th>eid</th>\n",
       "      <th>34-0.0</th>\n",
       "      <th>20116-0.0</th>\n",
       "      <th>41202-0.0</th>\n",
       "      <th>41204-0.0</th>\n",
       "    </tr>\n",
       "  </thead>\n",
       "  <tbody>\n",
       "    <tr>\n",
       "      <th>255</th>\n",
       "      <td>1002563</td>\n",
       "      <td>1945.0</td>\n",
       "      <td>0.0</td>\n",
       "      <td>C252</td>\n",
       "      <td>C786</td>\n",
       "    </tr>\n",
       "    <tr>\n",
       "      <th>1067</th>\n",
       "      <td>1010680</td>\n",
       "      <td>1945.0</td>\n",
       "      <td>0.0</td>\n",
       "      <td>C259</td>\n",
       "      <td>C259</td>\n",
       "    </tr>\n",
       "    <tr>\n",
       "      <th>1167</th>\n",
       "      <td>1011689</td>\n",
       "      <td>1947.0</td>\n",
       "      <td>0.0</td>\n",
       "      <td>C252</td>\n",
       "      <td>C252</td>\n",
       "    </tr>\n",
       "    <tr>\n",
       "      <th>1644</th>\n",
       "      <td>1016452</td>\n",
       "      <td>1945.0</td>\n",
       "      <td>1.0</td>\n",
       "      <td>C250</td>\n",
       "      <td>A099</td>\n",
       "    </tr>\n",
       "    <tr>\n",
       "      <th>1685</th>\n",
       "      <td>1016868</td>\n",
       "      <td>1942.0</td>\n",
       "      <td>0.0</td>\n",
       "      <td>C250</td>\n",
       "      <td>I10</td>\n",
       "    </tr>\n",
       "    <tr>\n",
       "      <th>...</th>\n",
       "      <td>...</td>\n",
       "      <td>...</td>\n",
       "      <td>...</td>\n",
       "      <td>...</td>\n",
       "      <td>...</td>\n",
       "    </tr>\n",
       "    <tr>\n",
       "      <th>499139</th>\n",
       "      <td>5991799</td>\n",
       "      <td>1950.0</td>\n",
       "      <td>1.0</td>\n",
       "      <td>C259</td>\n",
       "      <td>C259</td>\n",
       "    </tr>\n",
       "    <tr>\n",
       "      <th>499886</th>\n",
       "      <td>5999261</td>\n",
       "      <td>1952.0</td>\n",
       "      <td>1.0</td>\n",
       "      <td>C259</td>\n",
       "      <td>C259</td>\n",
       "    </tr>\n",
       "    <tr>\n",
       "      <th>500100</th>\n",
       "      <td>6001401</td>\n",
       "      <td>1938.0</td>\n",
       "      <td>2.0</td>\n",
       "      <td>C252</td>\n",
       "      <td>C787</td>\n",
       "    </tr>\n",
       "    <tr>\n",
       "      <th>501131</th>\n",
       "      <td>6011714</td>\n",
       "      <td>1948.0</td>\n",
       "      <td>0.0</td>\n",
       "      <td>C786</td>\n",
       "      <td>C252</td>\n",
       "    </tr>\n",
       "    <tr>\n",
       "      <th>502267</th>\n",
       "      <td>6023072</td>\n",
       "      <td>1949.0</td>\n",
       "      <td>1.0</td>\n",
       "      <td>C251</td>\n",
       "      <td>C780</td>\n",
       "    </tr>\n",
       "  </tbody>\n",
       "</table>\n",
       "<p>1478 rows × 5 columns</p>\n",
       "</div>"
      ]
     },
     "execution_count": 35,
     "metadata": {},
     "output_type": "execute_result"
    }
   ],
   "execution_count": 35
  },
  {
   "metadata": {
    "ExecuteTime": {
     "end_time": "2024-05-17T13:16:39.252883Z",
     "start_time": "2024-05-17T13:16:39.178205Z"
    }
   },
   "cell_type": "code",
   "source": [
    "diabetes_smoking = people_with_diabetes_df['20116-0.0'].value_counts()\n",
    "pancreatic_cancer_smoking = people_with_pancreatic_cancer_df['20116-0.0'].value_counts()\n",
    "\n",
    "x_axis = np.arange(len(diabetes_smoking['20116-0.0']))\n",
    "\n",
    "plt.bar(x_axis - 0.2, diabetes_smoking['counts'], 0.4, label='diabetes')\n",
    "plt.bar(x_axis + 0.2, pancreatic_cancer_smoking['counts'], 0.4, label='pancreatic cancer')\n",
    "\n",
    "plt.show()"
   ],
   "id": "4d4da612391c527",
   "outputs": [
    {
     "ename": "KeyError",
     "evalue": "'20116-0.0'",
     "output_type": "error",
     "traceback": [
      "\u001B[0;31m---------------------------------------------------------------------------\u001B[0m",
      "\u001B[0;31mKeyError\u001B[0m                                  Traceback (most recent call last)",
      "File \u001B[0;32m~/.virtualenvs/Final Project/lib/python3.10/site-packages/pandas/core/indexes/base.py:3805\u001B[0m, in \u001B[0;36mIndex.get_loc\u001B[0;34m(self, key)\u001B[0m\n\u001B[1;32m   3804\u001B[0m \u001B[38;5;28;01mtry\u001B[39;00m:\n\u001B[0;32m-> 3805\u001B[0m     \u001B[38;5;28;01mreturn\u001B[39;00m \u001B[38;5;28;43mself\u001B[39;49m\u001B[38;5;241;43m.\u001B[39;49m\u001B[43m_engine\u001B[49m\u001B[38;5;241;43m.\u001B[39;49m\u001B[43mget_loc\u001B[49m\u001B[43m(\u001B[49m\u001B[43mcasted_key\u001B[49m\u001B[43m)\u001B[49m\n\u001B[1;32m   3806\u001B[0m \u001B[38;5;28;01mexcept\u001B[39;00m \u001B[38;5;167;01mKeyError\u001B[39;00m \u001B[38;5;28;01mas\u001B[39;00m err:\n",
      "File \u001B[0;32mindex.pyx:167\u001B[0m, in \u001B[0;36mpandas._libs.index.IndexEngine.get_loc\u001B[0;34m()\u001B[0m\n",
      "File \u001B[0;32mindex.pyx:196\u001B[0m, in \u001B[0;36mpandas._libs.index.IndexEngine.get_loc\u001B[0;34m()\u001B[0m\n",
      "File \u001B[0;32mpandas/_libs/hashtable_class_helper.pxi:7081\u001B[0m, in \u001B[0;36mpandas._libs.hashtable.PyObjectHashTable.get_item\u001B[0;34m()\u001B[0m\n",
      "File \u001B[0;32mpandas/_libs/hashtable_class_helper.pxi:7089\u001B[0m, in \u001B[0;36mpandas._libs.hashtable.PyObjectHashTable.get_item\u001B[0;34m()\u001B[0m\n",
      "\u001B[0;31mKeyError\u001B[0m: '20116-0.0'",
      "\nThe above exception was the direct cause of the following exception:\n",
      "\u001B[0;31mKeyError\u001B[0m                                  Traceback (most recent call last)",
      "Cell \u001B[0;32mIn[55], line 4\u001B[0m\n\u001B[1;32m      1\u001B[0m diabetes_smoking \u001B[38;5;241m=\u001B[39m people_with_diabetes_df[\u001B[38;5;124m'\u001B[39m\u001B[38;5;124m20116-0.0\u001B[39m\u001B[38;5;124m'\u001B[39m]\u001B[38;5;241m.\u001B[39mvalue_counts()\n\u001B[1;32m      2\u001B[0m pancreatic_cancer_smoking \u001B[38;5;241m=\u001B[39m people_with_pancreatic_cancer_df[\u001B[38;5;124m'\u001B[39m\u001B[38;5;124m20116-0.0\u001B[39m\u001B[38;5;124m'\u001B[39m]\u001B[38;5;241m.\u001B[39mvalue_counts()\n\u001B[0;32m----> 4\u001B[0m x_axis \u001B[38;5;241m=\u001B[39m np\u001B[38;5;241m.\u001B[39marange(\u001B[38;5;28mlen\u001B[39m(\u001B[43mdiabetes_smoking\u001B[49m\u001B[43m[\u001B[49m\u001B[38;5;124;43m'\u001B[39;49m\u001B[38;5;124;43m20116-0.0\u001B[39;49m\u001B[38;5;124;43m'\u001B[39;49m\u001B[43m]\u001B[49m))\n\u001B[1;32m      6\u001B[0m plt\u001B[38;5;241m.\u001B[39mbar(x_axis \u001B[38;5;241m-\u001B[39m \u001B[38;5;241m0.2\u001B[39m, diabetes_smoking[\u001B[38;5;124m'\u001B[39m\u001B[38;5;124mcounts\u001B[39m\u001B[38;5;124m'\u001B[39m], \u001B[38;5;241m0.4\u001B[39m, label\u001B[38;5;241m=\u001B[39m\u001B[38;5;124m'\u001B[39m\u001B[38;5;124mdiabetes\u001B[39m\u001B[38;5;124m'\u001B[39m)\n\u001B[1;32m      7\u001B[0m plt\u001B[38;5;241m.\u001B[39mbar(x_axis \u001B[38;5;241m+\u001B[39m \u001B[38;5;241m0.2\u001B[39m, pancreatic_cancer_smoking[\u001B[38;5;124m'\u001B[39m\u001B[38;5;124mcounts\u001B[39m\u001B[38;5;124m'\u001B[39m], \u001B[38;5;241m0.4\u001B[39m, label\u001B[38;5;241m=\u001B[39m\u001B[38;5;124m'\u001B[39m\u001B[38;5;124mpancreatic cancer\u001B[39m\u001B[38;5;124m'\u001B[39m)\n",
      "File \u001B[0;32m~/.virtualenvs/Final Project/lib/python3.10/site-packages/pandas/core/series.py:1121\u001B[0m, in \u001B[0;36mSeries.__getitem__\u001B[0;34m(self, key)\u001B[0m\n\u001B[1;32m   1118\u001B[0m     \u001B[38;5;28;01mreturn\u001B[39;00m \u001B[38;5;28mself\u001B[39m\u001B[38;5;241m.\u001B[39m_values[key]\n\u001B[1;32m   1120\u001B[0m \u001B[38;5;28;01melif\u001B[39;00m key_is_scalar:\n\u001B[0;32m-> 1121\u001B[0m     \u001B[38;5;28;01mreturn\u001B[39;00m \u001B[38;5;28;43mself\u001B[39;49m\u001B[38;5;241;43m.\u001B[39;49m\u001B[43m_get_value\u001B[49m\u001B[43m(\u001B[49m\u001B[43mkey\u001B[49m\u001B[43m)\u001B[49m\n\u001B[1;32m   1123\u001B[0m \u001B[38;5;66;03m# Convert generator to list before going through hashable part\u001B[39;00m\n\u001B[1;32m   1124\u001B[0m \u001B[38;5;66;03m# (We will iterate through the generator there to check for slices)\u001B[39;00m\n\u001B[1;32m   1125\u001B[0m \u001B[38;5;28;01mif\u001B[39;00m is_iterator(key):\n",
      "File \u001B[0;32m~/.virtualenvs/Final Project/lib/python3.10/site-packages/pandas/core/series.py:1237\u001B[0m, in \u001B[0;36mSeries._get_value\u001B[0;34m(self, label, takeable)\u001B[0m\n\u001B[1;32m   1234\u001B[0m     \u001B[38;5;28;01mreturn\u001B[39;00m \u001B[38;5;28mself\u001B[39m\u001B[38;5;241m.\u001B[39m_values[label]\n\u001B[1;32m   1236\u001B[0m \u001B[38;5;66;03m# Similar to Index.get_value, but we do not fall back to positional\u001B[39;00m\n\u001B[0;32m-> 1237\u001B[0m loc \u001B[38;5;241m=\u001B[39m \u001B[38;5;28;43mself\u001B[39;49m\u001B[38;5;241;43m.\u001B[39;49m\u001B[43mindex\u001B[49m\u001B[38;5;241;43m.\u001B[39;49m\u001B[43mget_loc\u001B[49m\u001B[43m(\u001B[49m\u001B[43mlabel\u001B[49m\u001B[43m)\u001B[49m\n\u001B[1;32m   1239\u001B[0m \u001B[38;5;28;01mif\u001B[39;00m is_integer(loc):\n\u001B[1;32m   1240\u001B[0m     \u001B[38;5;28;01mreturn\u001B[39;00m \u001B[38;5;28mself\u001B[39m\u001B[38;5;241m.\u001B[39m_values[loc]\n",
      "File \u001B[0;32m~/.virtualenvs/Final Project/lib/python3.10/site-packages/pandas/core/indexes/base.py:3812\u001B[0m, in \u001B[0;36mIndex.get_loc\u001B[0;34m(self, key)\u001B[0m\n\u001B[1;32m   3807\u001B[0m     \u001B[38;5;28;01mif\u001B[39;00m \u001B[38;5;28misinstance\u001B[39m(casted_key, \u001B[38;5;28mslice\u001B[39m) \u001B[38;5;129;01mor\u001B[39;00m (\n\u001B[1;32m   3808\u001B[0m         \u001B[38;5;28misinstance\u001B[39m(casted_key, abc\u001B[38;5;241m.\u001B[39mIterable)\n\u001B[1;32m   3809\u001B[0m         \u001B[38;5;129;01mand\u001B[39;00m \u001B[38;5;28many\u001B[39m(\u001B[38;5;28misinstance\u001B[39m(x, \u001B[38;5;28mslice\u001B[39m) \u001B[38;5;28;01mfor\u001B[39;00m x \u001B[38;5;129;01min\u001B[39;00m casted_key)\n\u001B[1;32m   3810\u001B[0m     ):\n\u001B[1;32m   3811\u001B[0m         \u001B[38;5;28;01mraise\u001B[39;00m InvalidIndexError(key)\n\u001B[0;32m-> 3812\u001B[0m     \u001B[38;5;28;01mraise\u001B[39;00m \u001B[38;5;167;01mKeyError\u001B[39;00m(key) \u001B[38;5;28;01mfrom\u001B[39;00m \u001B[38;5;21;01merr\u001B[39;00m\n\u001B[1;32m   3813\u001B[0m \u001B[38;5;28;01mexcept\u001B[39;00m \u001B[38;5;167;01mTypeError\u001B[39;00m:\n\u001B[1;32m   3814\u001B[0m     \u001B[38;5;66;03m# If we have a listlike key, _check_indexing_error will raise\u001B[39;00m\n\u001B[1;32m   3815\u001B[0m     \u001B[38;5;66;03m#  InvalidIndexError. Otherwise we fall through and re-raise\u001B[39;00m\n\u001B[1;32m   3816\u001B[0m     \u001B[38;5;66;03m#  the TypeError.\u001B[39;00m\n\u001B[1;32m   3817\u001B[0m     \u001B[38;5;28mself\u001B[39m\u001B[38;5;241m.\u001B[39m_check_indexing_error(key)\n",
      "\u001B[0;31mKeyError\u001B[0m: '20116-0.0'"
     ]
    }
   ],
   "execution_count": 55
  },
  {
   "metadata": {
    "ExecuteTime": {
     "end_time": "2024-05-17T13:19:55.664014Z",
     "start_time": "2024-05-17T13:19:55.438120Z"
    }
   },
   "cell_type": "code",
   "source": [
    "people_with_diabetes_df['20116-0.0'].value_counts().plot(kind='bar')\n",
    "plt.show()\n",
    "people_with_pancreatic_cancer_df['20116-0.0'].value_counts().plot(kind='bar')\n",
    "plt.show()"
   ],
   "id": "242a8f30f3bdedce",
   "outputs": [
    {
     "data": {
      "text/plain": [
       "<Figure size 640x480 with 1 Axes>"
      ],
      "image/png": "[encoded data removed]"
     },
     "metadata": {},
     "output_type": "display_data"
    },
    {
     "data": {
      "text/plain": [
       "<Figure size 640x480 with 1 Axes>"
      ],
      "image/png": "[encoded data removed]"
     },
     "metadata": {},
     "output_type": "display_data"
    }
   ],
   "execution_count": 62
  },
  {
   "metadata": {
    "ExecuteTime": {
     "end_time": "2024-05-17T11:28:04.203625Z",
     "start_time": "2024-05-17T11:28:03.746906Z"
    }
   },
   "cell_type": "code",
   "source": [
    "people_with_diabetes_and_pancreatic_cancer_df = get_people_with_2_diseases(df_filled, diabetes_pattern, pancreatic_cancer_pattern)\n",
    "people_with_diabetes_and_pancreatic_cancer_df"
   ],
   "id": "85f7ff3c848836d4",
   "outputs": [
    {
     "data": {
      "text/plain": [
       "            eid 41202-0.0 41204-0.0\n",
       "259788  3598057      E119      C259\n",
       "35733   1357358      C250      E119\n",
       "49505   1495072      C250      E119\n",
       "52013   1520159      C259      E119\n",
       "122483  2224919      C250      E115\n",
       "132170  2321809      C250      E119\n",
       "138710  2387207      C259      E119\n",
       "151286  2512965      C259      E109\n",
       "182137  2821479      C250      E119\n",
       "218560  3185749      C252      E119\n",
       "219791  3198068      C259      E119\n",
       "220584  3205994      C251      E113\n",
       "245407  3454241      C254      E149\n",
       "249171  3491882      C259      E119\n",
       "256756  3567730      C259      E119\n",
       "294623  3946426      C250      E111\n",
       "328448  4284737      C251      E119\n",
       "329908  4299333      C259      E119\n",
       "341891  4419185      C251      E110\n",
       "373862  4738908      C251      E119\n",
       "389481  4895113      C259      E119\n",
       "393383  4934133      C250      E119\n",
       "402325  5023559      C251      E119\n",
       "441063  5411002      C251      E119\n",
       "445017  5450544      C250      E119\n",
       "446063  5461005      C259      E119\n",
       "448666  5487055      C251      E109\n",
       "472097  5721366      C259      E119\n",
       "491416  5914559      C252      E113"
      ],
      "text/html": [
       "<div>\n",
       "<style scoped>\n",
       "    .dataframe tbody tr th:only-of-type {\n",
       "        vertical-align: middle;\n",
       "    }\n",
       "\n",
       "    .dataframe tbody tr th {\n",
       "        vertical-align: top;\n",
       "    }\n",
       "\n",
       "    .dataframe thead th {\n",
       "        text-align: right;\n",
       "    }\n",
       "</style>\n",
       "<table border=\"1\" class=\"dataframe\">\n",
       "  <thead>\n",
       "    <tr style=\"text-align: right;\">\n",
       "      <th></th>\n",
       "      <th>eid</th>\n",
       "      <th>41202-0.0</th>\n",
       "      <th>41204-0.0</th>\n",
       "    </tr>\n",
       "  </thead>\n",
       "  <tbody>\n",
       "    <tr>\n",
       "      <th>259788</th>\n",
       "      <td>3598057</td>\n",
       "      <td>E119</td>\n",
       "      <td>C259</td>\n",
       "    </tr>\n",
       "    <tr>\n",
       "      <th>35733</th>\n",
       "      <td>1357358</td>\n",
       "      <td>C250</td>\n",
       "      <td>E119</td>\n",
       "    </tr>\n",
       "    <tr>\n",
       "      <th>49505</th>\n",
       "      <td>1495072</td>\n",
       "      <td>C250</td>\n",
       "      <td>E119</td>\n",
       "    </tr>\n",
       "    <tr>\n",
       "      <th>52013</th>\n",
       "      <td>1520159</td>\n",
       "      <td>C259</td>\n",
       "      <td>E119</td>\n",
       "    </tr>\n",
       "    <tr>\n",
       "      <th>122483</th>\n",
       "      <td>2224919</td>\n",
       "      <td>C250</td>\n",
       "      <td>E115</td>\n",
       "    </tr>\n",
       "    <tr>\n",
       "      <th>132170</th>\n",
       "      <td>2321809</td>\n",
       "      <td>C250</td>\n",
       "      <td>E119</td>\n",
       "    </tr>\n",
       "    <tr>\n",
       "      <th>138710</th>\n",
       "      <td>2387207</td>\n",
       "      <td>C259</td>\n",
       "      <td>E119</td>\n",
       "    </tr>\n",
       "    <tr>\n",
       "      <th>151286</th>\n",
       "      <td>2512965</td>\n",
       "      <td>C259</td>\n",
       "      <td>E109</td>\n",
       "    </tr>\n",
       "    <tr>\n",
       "      <th>182137</th>\n",
       "      <td>2821479</td>\n",
       "      <td>C250</td>\n",
       "      <td>E119</td>\n",
       "    </tr>\n",
       "    <tr>\n",
       "      <th>218560</th>\n",
       "      <td>3185749</td>\n",
       "      <td>C252</td>\n",
       "      <td>E119</td>\n",
       "    </tr>\n",
       "    <tr>\n",
       "      <th>219791</th>\n",
       "      <td>3198068</td>\n",
       "      <td>C259</td>\n",
       "      <td>E119</td>\n",
       "    </tr>\n",
       "    <tr>\n",
       "      <th>220584</th>\n",
       "      <td>3205994</td>\n",
       "      <td>C251</td>\n",
       "      <td>E113</td>\n",
       "    </tr>\n",
       "    <tr>\n",
       "      <th>245407</th>\n",
       "      <td>3454241</td>\n",
       "      <td>C254</td>\n",
       "      <td>E149</td>\n",
       "    </tr>\n",
       "    <tr>\n",
       "      <th>249171</th>\n",
       "      <td>3491882</td>\n",
       "      <td>C259</td>\n",
       "      <td>E119</td>\n",
       "    </tr>\n",
       "    <tr>\n",
       "      <th>256756</th>\n",
       "      <td>3567730</td>\n",
       "      <td>C259</td>\n",
       "      <td>E119</td>\n",
       "    </tr>\n",
       "    <tr>\n",
       "      <th>294623</th>\n",
       "      <td>3946426</td>\n",
       "      <td>C250</td>\n",
       "      <td>E111</td>\n",
       "    </tr>\n",
       "    <tr>\n",
       "      <th>328448</th>\n",
       "      <td>4284737</td>\n",
       "      <td>C251</td>\n",
       "      <td>E119</td>\n",
       "    </tr>\n",
       "    <tr>\n",
       "      <th>329908</th>\n",
       "      <td>4299333</td>\n",
       "      <td>C259</td>\n",
       "      <td>E119</td>\n",
       "    </tr>\n",
       "    <tr>\n",
       "      <th>341891</th>\n",
       "      <td>4419185</td>\n",
       "      <td>C251</td>\n",
       "      <td>E110</td>\n",
       "    </tr>\n",
       "    <tr>\n",
       "      <th>373862</th>\n",
       "      <td>4738908</td>\n",
       "      <td>C251</td>\n",
       "      <td>E119</td>\n",
       "    </tr>\n",
       "    <tr>\n",
       "      <th>389481</th>\n",
       "      <td>4895113</td>\n",
       "      <td>C259</td>\n",
       "      <td>E119</td>\n",
       "    </tr>\n",
       "    <tr>\n",
       "      <th>393383</th>\n",
       "      <td>4934133</td>\n",
       "      <td>C250</td>\n",
       "      <td>E119</td>\n",
       "    </tr>\n",
       "    <tr>\n",
       "      <th>402325</th>\n",
       "      <td>5023559</td>\n",
       "      <td>C251</td>\n",
       "      <td>E119</td>\n",
       "    </tr>\n",
       "    <tr>\n",
       "      <th>441063</th>\n",
       "      <td>5411002</td>\n",
       "      <td>C251</td>\n",
       "      <td>E119</td>\n",
       "    </tr>\n",
       "    <tr>\n",
       "      <th>445017</th>\n",
       "      <td>5450544</td>\n",
       "      <td>C250</td>\n",
       "      <td>E119</td>\n",
       "    </tr>\n",
       "    <tr>\n",
       "      <th>446063</th>\n",
       "      <td>5461005</td>\n",
       "      <td>C259</td>\n",
       "      <td>E119</td>\n",
       "    </tr>\n",
       "    <tr>\n",
       "      <th>448666</th>\n",
       "      <td>5487055</td>\n",
       "      <td>C251</td>\n",
       "      <td>E109</td>\n",
       "    </tr>\n",
       "    <tr>\n",
       "      <th>472097</th>\n",
       "      <td>5721366</td>\n",
       "      <td>C259</td>\n",
       "      <td>E119</td>\n",
       "    </tr>\n",
       "    <tr>\n",
       "      <th>491416</th>\n",
       "      <td>5914559</td>\n",
       "      <td>C252</td>\n",
       "      <td>E113</td>\n",
       "    </tr>\n",
       "  </tbody>\n",
       "</table>\n",
       "</div>"
      ]
     },
     "execution_count": 15,
     "metadata": {},
     "output_type": "execute_result"
    }
   ],
   "execution_count": 15
  }
 ],
 "metadata": {
  "kernelspec": {
   "display_name": "Python 3",
   "language": "python",
   "name": "python3"
  },
  "language_info": {
   "codemirror_mode": {
    "name": "ipython",
    "version": 2
   },
   "file_extension": ".py",
   "mimetype": "text/x-python",
   "name": "python",
   "nbconvert_exporter": "python",
   "pygments_lexer": "ipython2",
   "version": "2.7.6"
  }
 },
 "nbformat": 4,
 "nbformat_minor": 5
}

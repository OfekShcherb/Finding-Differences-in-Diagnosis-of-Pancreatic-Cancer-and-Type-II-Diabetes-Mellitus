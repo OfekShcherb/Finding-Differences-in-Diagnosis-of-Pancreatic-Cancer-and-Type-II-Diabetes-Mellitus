{
 "cells": [
  {
   "cell_type": "code",
   "execution_count": 1,
   "id": "initial_id",
   "metadata": {
    "collapsed": true,
    "ExecuteTime": {
     "end_time": "2024-06-05T20:10:22.336564Z",
     "start_time": "2024-06-05T20:10:22.000656Z"
    }
   },
   "source": [
    "import pandas as pd\n",
    "import json"
   ],
   "outputs": []
  },
  {
   "cell_type": "code",
   "source": [
    "with open('/tmp/pycharm_project_366/config.json') as f:\n",
    "    config = json.load(f)"
   ],
   "metadata": {
    "collapsed": false,
    "ExecuteTime": {
     "end_time": "2024-06-05T20:12:20.845349Z",
     "start_time": "2024-06-05T20:12:20.841528Z"
    }
   },
   "id": "7b52aad6570b039c",
   "execution_count": 9,
   "outputs": []
  },
  {
   "cell_type": "code",
   "source": [
    "def get_people_with_disease(df, all_diseased_column, disease_code_pattern):\n",
    "    people_with_disease_df = df[all_diseased_column.str.contains(disease_code_pattern)]\n",
    "\n",
    "    return people_with_disease_df"
   ],
   "metadata": {
    "collapsed": false,
    "ExecuteTime": {
     "end_time": "2024-06-05T18:44:55.010159Z",
     "start_time": "2024-06-05T18:44:55.005471Z"
    }
   },
   "id": "a27075aff0c14088",
   "execution_count": 18,
   "outputs": []
  },
  {
   "cell_type": "code",
   "source": [
    "test_group_df = pd.read_csv(config['test_path'], low_memory=False)\n",
    "test_group_df"
   ],
   "metadata": {
    "collapsed": false,
    "ExecuteTime": {
     "end_time": "2024-06-05T20:12:33.526161Z",
     "start_time": "2024-06-05T20:12:23.323863Z"
    }
   },
   "id": "a42a25186edb94e7",
   "execution_count": 10,
   "outputs": [
    {
     "data": {
      "text/plain": "            eid  34-0.0 84-0.0 874-0.0 884-0.0 894-0.0 904-0.0 914-0.0  \\\n0       1002706  1961.0    NaN    45.0     0.0     NaN     0.0     NaN   \n1       1060573  1940.0    NaN   240.0     7.0   180.0     3.0   120.0   \n2       1053496  1940.0    NaN    30.0     4.0    60.0     0.0     NaN   \n3       1069209  1945.0    NaN    60.0     1.0    60.0     0.0     NaN   \n4       1064821  1946.0    NaN    15.0     3.0    60.0     3.0    10.0   \n...         ...     ...    ...     ...     ...     ...     ...     ...   \n100519  6003239    1968    NaN    15.0     4.0    45.0     4.0    45.0   \n100520  6002899    1960    NaN    30.0     2.0    30.0     2.0    30.0   \n100521  6013344    1956    NaN   120.0     7.0    60.0     7.0   240.0   \n100522  6001796    1941    NaN    50.0    -1.0     NaN    -1.0     NaN   \n100523  6017621    1955    NaN   420.0     0.0     NaN     0.0     NaN   \n\n       1001-0.0 1070-0.0  ... 23417-0.0 23418-0.0 23420-0.0 23421-0.0  \\\n0           NaN      4.0  ...       NaN       NaN       NaN       NaN   \n1           NaN      3.0  ...    1.6842    1.5641   0.28381   0.67221   \n2           NaN      5.0  ...    1.3799   0.74993   0.28523    0.5423   \n3           NaN      1.0  ...    1.6023    1.3042   0.25467   0.64997   \n4           NaN      5.0  ...    1.2505    1.0868    0.2947   0.44826   \n...         ...      ...  ...       ...       ...       ...       ...   \n100519      NaN      2.0  ...       NaN       NaN       NaN       NaN   \n100520      NaN      2.0  ...    1.0722    1.0485   0.23734   0.39342   \n100521      NaN      4.0  ...       NaN       NaN       NaN       NaN   \n100522      NaN      3.0  ...       NaN       NaN       NaN       NaN   \n100523      NaN      3.0  ...     1.493   0.76664   0.36358   0.57544   \n\n       23422-0.0 23526-0.0 23527-0.0 23528-0.0  \\\n0            NaN       NaN       NaN       NaN   \n1        0.47619    1.2646   0.92185   0.34273   \n2         0.2195   0.95396   0.70152   0.25244   \n3        0.36911    1.1623    0.8618   0.30051   \n4        0.32233   0.86331    0.6464   0.21691   \n...          ...       ...       ...       ...   \n100519       NaN       NaN       NaN       NaN   \n100520   0.28537   0.75261   0.54702   0.20559   \n100521       NaN       NaN       NaN       NaN   \n100522       NaN       NaN       NaN       NaN   \n100523   0.22913   0.98356   0.70561   0.27795   \n\n                                                Diagnoses Label  \n0       G551, M511, M519, M545, M5457, M7915, N920, Z5...     0  \n1       G551, H268, H919, I10, K579, K623, K628, K635,...     0  \n2       D128, E780, I48, I639, K621, K635, -1, -1, -1,...     0  \n3       H258, K439, K590, R194, -1, -1, -1, -1, -1, -1...     0  \n4       F419, H409, K219, K590, M1300, M139, M169, M20...     0  \n...                                                   ...   ...  \n100519  -1, -1, -1, -1, -1, -1, -1, -1, -1, -1, -1, -1...     0  \n100520  H026, -1, -1, -1, -1, -1, -1, -1, -1, -1, -1, ...     0  \n100521  E119, E669, H023, I10, I252, I259, R060, R072,...     2  \n100522  H269, J181, J22, J439, J440, J441, J841, J920,...     0  \n100523  K929, S670, X599, Z530, -1, -1, -1, -1, -1, -1...     0  \n\n[100524 rows x 284 columns]",
      "text/html": "<div>\n<style scoped>\n    .dataframe tbody tr th:only-of-type {\n        vertical-align: middle;\n    }\n\n    .dataframe tbody tr th {\n        vertical-align: top;\n    }\n\n    .dataframe thead th {\n        text-align: right;\n    }\n</style>\n<table border=\"1\" class=\"dataframe\">\n  <thead>\n    <tr style=\"text-align: right;\">\n      <th></th>\n      <th>eid</th>\n      <th>34-0.0</th>\n      <th>84-0.0</th>\n      <th>874-0.0</th>\n      <th>884-0.0</th>\n      <th>894-0.0</th>\n      <th>904-0.0</th>\n      <th>914-0.0</th>\n      <th>1001-0.0</th>\n      <th>1070-0.0</th>\n      <th>...</th>\n      <th>23417-0.0</th>\n      <th>23418-0.0</th>\n      <th>23420-0.0</th>\n      <th>23421-0.0</th>\n      <th>23422-0.0</th>\n      <th>23526-0.0</th>\n      <th>23527-0.0</th>\n      <th>23528-0.0</th>\n      <th>Diagnoses</th>\n      <th>Label</th>\n    </tr>\n  </thead>\n  <tbody>\n    <tr>\n      <th>0</th>\n      <td>1002706</td>\n      <td>1961.0</td>\n      <td>NaN</td>\n      <td>45.0</td>\n      <td>0.0</td>\n      <td>NaN</td>\n      <td>0.0</td>\n      <td>NaN</td>\n      <td>NaN</td>\n      <td>4.0</td>\n      <td>...</td>\n      <td>NaN</td>\n      <td>NaN</td>\n      <td>NaN</td>\n      <td>NaN</td>\n      <td>NaN</td>\n      <td>NaN</td>\n      <td>NaN</td>\n      <td>NaN</td>\n      <td>G551, M511, M519, M545, M5457, M7915, N920, Z5...</td>\n      <td>0</td>\n    </tr>\n    <tr>\n      <th>1</th>\n      <td>1060573</td>\n      <td>1940.0</td>\n      <td>NaN</td>\n      <td>240.0</td>\n      <td>7.0</td>\n      <td>180.0</td>\n      <td>3.0</td>\n      <td>120.0</td>\n      <td>NaN</td>\n      <td>3.0</td>\n      <td>...</td>\n      <td>1.6842</td>\n      <td>1.5641</td>\n      <td>0.28381</td>\n      <td>0.67221</td>\n      <td>0.47619</td>\n      <td>1.2646</td>\n      <td>0.92185</td>\n      <td>0.34273</td>\n      <td>G551, H268, H919, I10, K579, K623, K628, K635,...</td>\n      <td>0</td>\n    </tr>\n    <tr>\n      <th>2</th>\n      <td>1053496</td>\n      <td>1940.0</td>\n      <td>NaN</td>\n      <td>30.0</td>\n      <td>4.0</td>\n      <td>60.0</td>\n      <td>0.0</td>\n      <td>NaN</td>\n      <td>NaN</td>\n      <td>5.0</td>\n      <td>...</td>\n      <td>1.3799</td>\n      <td>0.74993</td>\n      <td>0.28523</td>\n      <td>0.5423</td>\n      <td>0.2195</td>\n      <td>0.95396</td>\n      <td>0.70152</td>\n      <td>0.25244</td>\n      <td>D128, E780, I48, I639, K621, K635, -1, -1, -1,...</td>\n      <td>0</td>\n    </tr>\n    <tr>\n      <th>3</th>\n      <td>1069209</td>\n      <td>1945.0</td>\n      <td>NaN</td>\n      <td>60.0</td>\n      <td>1.0</td>\n      <td>60.0</td>\n      <td>0.0</td>\n      <td>NaN</td>\n      <td>NaN</td>\n      <td>1.0</td>\n      <td>...</td>\n      <td>1.6023</td>\n      <td>1.3042</td>\n      <td>0.25467</td>\n      <td>0.64997</td>\n      <td>0.36911</td>\n      <td>1.1623</td>\n      <td>0.8618</td>\n      <td>0.30051</td>\n      <td>H258, K439, K590, R194, -1, -1, -1, -1, -1, -1...</td>\n      <td>0</td>\n    </tr>\n    <tr>\n      <th>4</th>\n      <td>1064821</td>\n      <td>1946.0</td>\n      <td>NaN</td>\n      <td>15.0</td>\n      <td>3.0</td>\n      <td>60.0</td>\n      <td>3.0</td>\n      <td>10.0</td>\n      <td>NaN</td>\n      <td>5.0</td>\n      <td>...</td>\n      <td>1.2505</td>\n      <td>1.0868</td>\n      <td>0.2947</td>\n      <td>0.44826</td>\n      <td>0.32233</td>\n      <td>0.86331</td>\n      <td>0.6464</td>\n      <td>0.21691</td>\n      <td>F419, H409, K219, K590, M1300, M139, M169, M20...</td>\n      <td>0</td>\n    </tr>\n    <tr>\n      <th>...</th>\n      <td>...</td>\n      <td>...</td>\n      <td>...</td>\n      <td>...</td>\n      <td>...</td>\n      <td>...</td>\n      <td>...</td>\n      <td>...</td>\n      <td>...</td>\n      <td>...</td>\n      <td>...</td>\n      <td>...</td>\n      <td>...</td>\n      <td>...</td>\n      <td>...</td>\n      <td>...</td>\n      <td>...</td>\n      <td>...</td>\n      <td>...</td>\n      <td>...</td>\n      <td>...</td>\n    </tr>\n    <tr>\n      <th>100519</th>\n      <td>6003239</td>\n      <td>1968</td>\n      <td>NaN</td>\n      <td>15.0</td>\n      <td>4.0</td>\n      <td>45.0</td>\n      <td>4.0</td>\n      <td>45.0</td>\n      <td>NaN</td>\n      <td>2.0</td>\n      <td>...</td>\n      <td>NaN</td>\n      <td>NaN</td>\n      <td>NaN</td>\n      <td>NaN</td>\n      <td>NaN</td>\n      <td>NaN</td>\n      <td>NaN</td>\n      <td>NaN</td>\n      <td>-1, -1, -1, -1, -1, -1, -1, -1, -1, -1, -1, -1...</td>\n      <td>0</td>\n    </tr>\n    <tr>\n      <th>100520</th>\n      <td>6002899</td>\n      <td>1960</td>\n      <td>NaN</td>\n      <td>30.0</td>\n      <td>2.0</td>\n      <td>30.0</td>\n      <td>2.0</td>\n      <td>30.0</td>\n      <td>NaN</td>\n      <td>2.0</td>\n      <td>...</td>\n      <td>1.0722</td>\n      <td>1.0485</td>\n      <td>0.23734</td>\n      <td>0.39342</td>\n      <td>0.28537</td>\n      <td>0.75261</td>\n      <td>0.54702</td>\n      <td>0.20559</td>\n      <td>H026, -1, -1, -1, -1, -1, -1, -1, -1, -1, -1, ...</td>\n      <td>0</td>\n    </tr>\n    <tr>\n      <th>100521</th>\n      <td>6013344</td>\n      <td>1956</td>\n      <td>NaN</td>\n      <td>120.0</td>\n      <td>7.0</td>\n      <td>60.0</td>\n      <td>7.0</td>\n      <td>240.0</td>\n      <td>NaN</td>\n      <td>4.0</td>\n      <td>...</td>\n      <td>NaN</td>\n      <td>NaN</td>\n      <td>NaN</td>\n      <td>NaN</td>\n      <td>NaN</td>\n      <td>NaN</td>\n      <td>NaN</td>\n      <td>NaN</td>\n      <td>E119, E669, H023, I10, I252, I259, R060, R072,...</td>\n      <td>2</td>\n    </tr>\n    <tr>\n      <th>100522</th>\n      <td>6001796</td>\n      <td>1941</td>\n      <td>NaN</td>\n      <td>50.0</td>\n      <td>-1.0</td>\n      <td>NaN</td>\n      <td>-1.0</td>\n      <td>NaN</td>\n      <td>NaN</td>\n      <td>3.0</td>\n      <td>...</td>\n      <td>NaN</td>\n      <td>NaN</td>\n      <td>NaN</td>\n      <td>NaN</td>\n      <td>NaN</td>\n      <td>NaN</td>\n      <td>NaN</td>\n      <td>NaN</td>\n      <td>H269, J181, J22, J439, J440, J441, J841, J920,...</td>\n      <td>0</td>\n    </tr>\n    <tr>\n      <th>100523</th>\n      <td>6017621</td>\n      <td>1955</td>\n      <td>NaN</td>\n      <td>420.0</td>\n      <td>0.0</td>\n      <td>NaN</td>\n      <td>0.0</td>\n      <td>NaN</td>\n      <td>NaN</td>\n      <td>3.0</td>\n      <td>...</td>\n      <td>1.493</td>\n      <td>0.76664</td>\n      <td>0.36358</td>\n      <td>0.57544</td>\n      <td>0.22913</td>\n      <td>0.98356</td>\n      <td>0.70561</td>\n      <td>0.27795</td>\n      <td>K929, S670, X599, Z530, -1, -1, -1, -1, -1, -1...</td>\n      <td>0</td>\n    </tr>\n  </tbody>\n</table>\n<p>100524 rows × 284 columns</p>\n</div>"
     },
     "execution_count": 10,
     "metadata": {},
     "output_type": "execute_result"
    }
   ]
  },
  {
   "cell_type": "code",
   "source": [
    "train_group_df = pd.read_csv(config['train_path'], low_memory=False)\n",
    "train_group_df"
   ],
   "metadata": {
    "collapsed": false,
    "ExecuteTime": {
     "end_time": "2024-06-05T20:14:20.285201Z",
     "start_time": "2024-06-05T20:14:14.346862Z"
    }
   },
   "id": "8ef4dbe312848fb2",
   "execution_count": 13,
   "outputs": [
    {
     "data": {
      "text/plain": "           eid  34-0.0  84-0.0 874-0.0 884-0.0 894-0.0 904-0.0 914-0.0  \\\n0      1042612  1948.0     NaN    30.0     7.0    60.0     4.0    30.0   \n1      1085780  1943.0  2008.0    20.0     0.0     NaN     0.0     NaN   \n2      1056843  1965.0     NaN    15.0     3.0    20.0     3.0    10.0   \n3      1020608  1944.0     NaN    30.0     3.0    10.0     5.0    10.0   \n4      1033909  1947.0     NaN     NaN     3.0    30.0     0.0     NaN   \n...        ...     ...     ...     ...     ...     ...     ...     ...   \n72459  6023669    1957     NaN    10.0     2.0    10.0     3.0    10.0   \n72460  6023754    1951     NaN    45.0     0.0     NaN     0.0     NaN   \n72461  6001401    1938  1999.0    15.0     4.0    45.0     0.0     NaN   \n72462  6003146    1942     NaN    15.0     0.0     NaN     0.0     NaN   \n72463  6023072    1949     NaN    15.0     7.0    10.0     2.0    10.0   \n\n      1001-0.0 1070-0.0  ... 23417-0.0 23418-0.0 23420-0.0 23421-0.0  \\\n0          NaN      5.0  ...       NaN       NaN       NaN       NaN   \n1          NaN      1.0  ...       NaN       NaN       NaN       NaN   \n2          NaN      0.0  ...       NaN       NaN       NaN       NaN   \n3          NaN      2.0  ...    1.3961    2.0498   0.25361   0.53007   \n4          NaN      3.0  ...       NaN       NaN       NaN       NaN   \n...        ...      ...  ...       ...       ...       ...       ...   \n72459      NaN      3.0  ...     1.117    1.2532   0.21467   0.41503   \n72460      NaN      4.0  ...       NaN       NaN       NaN       NaN   \n72461      NaN      4.0  ...       NaN       NaN       NaN       NaN   \n72462      NaN      4.0  ...    1.1325    1.3802   0.19679   0.40907   \n72463      3.0      3.0  ...       NaN       NaN       NaN       NaN   \n\n      23422-0.0 23526-0.0 23527-0.0 23528-0.0  \\\n0           NaN       NaN       NaN       NaN   \n1           NaN       NaN       NaN       NaN   \n2           NaN       NaN       NaN       NaN   \n3       0.65695    1.2128   0.89636   0.31648   \n4           NaN       NaN       NaN       NaN   \n...         ...       ...       ...       ...   \n72459   0.36378   0.91329   0.70299    0.2103   \n72460       NaN       NaN       NaN       NaN   \n72461       NaN       NaN       NaN       NaN   \n72462    0.3865   0.74372   0.55458   0.18913   \n72463       NaN       NaN       NaN       NaN   \n\n                                               Diagnoses Label  \n0      E039, E669, H400, I48, I481, M159, M2322, -1, ...     0  \n1      E039, E871, I10, R55, R730, Y543, Z602, Z922, ...     0  \n2      B977, D071, F329, K628, N908, Z090, Z532, Z860...     0  \n3      I10, K221, K317, K449, -1, -1, -1, -1, -1, -1,...     0  \n4      E039, R590, -1, -1, -1, -1, -1, -1, -1, -1, -1...     0  \n...                                                  ...   ...  \n72459  A09, D481, E119, E780, I10, I639, L721, Z867, ...     2  \n72460  E119, E780, I10, K580, R194, R55, Z538, -1, -1...     2  \n72461  C252, C509, C787, E039, E042, E059, E119, E222...     1  \n72462  B356, B972, B99, C259, D136, D225, D350, D377,...     1  \n72463  C251, C780, C787, C800, K221, K227, K868, Z092...     1  \n\n[72464 rows x 284 columns]",
      "text/html": "<div>\n<style scoped>\n    .dataframe tbody tr th:only-of-type {\n        vertical-align: middle;\n    }\n\n    .dataframe tbody tr th {\n        vertical-align: top;\n    }\n\n    .dataframe thead th {\n        text-align: right;\n    }\n</style>\n<table border=\"1\" class=\"dataframe\">\n  <thead>\n    <tr style=\"text-align: right;\">\n      <th></th>\n      <th>eid</th>\n      <th>34-0.0</th>\n      <th>84-0.0</th>\n      <th>874-0.0</th>\n      <th>884-0.0</th>\n      <th>894-0.0</th>\n      <th>904-0.0</th>\n      <th>914-0.0</th>\n      <th>1001-0.0</th>\n      <th>1070-0.0</th>\n      <th>...</th>\n      <th>23417-0.0</th>\n      <th>23418-0.0</th>\n      <th>23420-0.0</th>\n      <th>23421-0.0</th>\n      <th>23422-0.0</th>\n      <th>23526-0.0</th>\n      <th>23527-0.0</th>\n      <th>23528-0.0</th>\n      <th>Diagnoses</th>\n      <th>Label</th>\n    </tr>\n  </thead>\n  <tbody>\n    <tr>\n      <th>0</th>\n      <td>1042612</td>\n      <td>1948.0</td>\n      <td>NaN</td>\n      <td>30.0</td>\n      <td>7.0</td>\n      <td>60.0</td>\n      <td>4.0</td>\n      <td>30.0</td>\n      <td>NaN</td>\n      <td>5.0</td>\n      <td>...</td>\n      <td>NaN</td>\n      <td>NaN</td>\n      <td>NaN</td>\n      <td>NaN</td>\n      <td>NaN</td>\n      <td>NaN</td>\n      <td>NaN</td>\n      <td>NaN</td>\n      <td>E039, E669, H400, I48, I481, M159, M2322, -1, ...</td>\n      <td>0</td>\n    </tr>\n    <tr>\n      <th>1</th>\n      <td>1085780</td>\n      <td>1943.0</td>\n      <td>2008.0</td>\n      <td>20.0</td>\n      <td>0.0</td>\n      <td>NaN</td>\n      <td>0.0</td>\n      <td>NaN</td>\n      <td>NaN</td>\n      <td>1.0</td>\n      <td>...</td>\n      <td>NaN</td>\n      <td>NaN</td>\n      <td>NaN</td>\n      <td>NaN</td>\n      <td>NaN</td>\n      <td>NaN</td>\n      <td>NaN</td>\n      <td>NaN</td>\n      <td>E039, E871, I10, R55, R730, Y543, Z602, Z922, ...</td>\n      <td>0</td>\n    </tr>\n    <tr>\n      <th>2</th>\n      <td>1056843</td>\n      <td>1965.0</td>\n      <td>NaN</td>\n      <td>15.0</td>\n      <td>3.0</td>\n      <td>20.0</td>\n      <td>3.0</td>\n      <td>10.0</td>\n      <td>NaN</td>\n      <td>0.0</td>\n      <td>...</td>\n      <td>NaN</td>\n      <td>NaN</td>\n      <td>NaN</td>\n      <td>NaN</td>\n      <td>NaN</td>\n      <td>NaN</td>\n      <td>NaN</td>\n      <td>NaN</td>\n      <td>B977, D071, F329, K628, N908, Z090, Z532, Z860...</td>\n      <td>0</td>\n    </tr>\n    <tr>\n      <th>3</th>\n      <td>1020608</td>\n      <td>1944.0</td>\n      <td>NaN</td>\n      <td>30.0</td>\n      <td>3.0</td>\n      <td>10.0</td>\n      <td>5.0</td>\n      <td>10.0</td>\n      <td>NaN</td>\n      <td>2.0</td>\n      <td>...</td>\n      <td>1.3961</td>\n      <td>2.0498</td>\n      <td>0.25361</td>\n      <td>0.53007</td>\n      <td>0.65695</td>\n      <td>1.2128</td>\n      <td>0.89636</td>\n      <td>0.31648</td>\n      <td>I10, K221, K317, K449, -1, -1, -1, -1, -1, -1,...</td>\n      <td>0</td>\n    </tr>\n    <tr>\n      <th>4</th>\n      <td>1033909</td>\n      <td>1947.0</td>\n      <td>NaN</td>\n      <td>NaN</td>\n      <td>3.0</td>\n      <td>30.0</td>\n      <td>0.0</td>\n      <td>NaN</td>\n      <td>NaN</td>\n      <td>3.0</td>\n      <td>...</td>\n      <td>NaN</td>\n      <td>NaN</td>\n      <td>NaN</td>\n      <td>NaN</td>\n      <td>NaN</td>\n      <td>NaN</td>\n      <td>NaN</td>\n      <td>NaN</td>\n      <td>E039, R590, -1, -1, -1, -1, -1, -1, -1, -1, -1...</td>\n      <td>0</td>\n    </tr>\n    <tr>\n      <th>...</th>\n      <td>...</td>\n      <td>...</td>\n      <td>...</td>\n      <td>...</td>\n      <td>...</td>\n      <td>...</td>\n      <td>...</td>\n      <td>...</td>\n      <td>...</td>\n      <td>...</td>\n      <td>...</td>\n      <td>...</td>\n      <td>...</td>\n      <td>...</td>\n      <td>...</td>\n      <td>...</td>\n      <td>...</td>\n      <td>...</td>\n      <td>...</td>\n      <td>...</td>\n      <td>...</td>\n    </tr>\n    <tr>\n      <th>72459</th>\n      <td>6023669</td>\n      <td>1957</td>\n      <td>NaN</td>\n      <td>10.0</td>\n      <td>2.0</td>\n      <td>10.0</td>\n      <td>3.0</td>\n      <td>10.0</td>\n      <td>NaN</td>\n      <td>3.0</td>\n      <td>...</td>\n      <td>1.117</td>\n      <td>1.2532</td>\n      <td>0.21467</td>\n      <td>0.41503</td>\n      <td>0.36378</td>\n      <td>0.91329</td>\n      <td>0.70299</td>\n      <td>0.2103</td>\n      <td>A09, D481, E119, E780, I10, I639, L721, Z867, ...</td>\n      <td>2</td>\n    </tr>\n    <tr>\n      <th>72460</th>\n      <td>6023754</td>\n      <td>1951</td>\n      <td>NaN</td>\n      <td>45.0</td>\n      <td>0.0</td>\n      <td>NaN</td>\n      <td>0.0</td>\n      <td>NaN</td>\n      <td>NaN</td>\n      <td>4.0</td>\n      <td>...</td>\n      <td>NaN</td>\n      <td>NaN</td>\n      <td>NaN</td>\n      <td>NaN</td>\n      <td>NaN</td>\n      <td>NaN</td>\n      <td>NaN</td>\n      <td>NaN</td>\n      <td>E119, E780, I10, K580, R194, R55, Z538, -1, -1...</td>\n      <td>2</td>\n    </tr>\n    <tr>\n      <th>72461</th>\n      <td>6001401</td>\n      <td>1938</td>\n      <td>1999.0</td>\n      <td>15.0</td>\n      <td>4.0</td>\n      <td>45.0</td>\n      <td>0.0</td>\n      <td>NaN</td>\n      <td>NaN</td>\n      <td>4.0</td>\n      <td>...</td>\n      <td>NaN</td>\n      <td>NaN</td>\n      <td>NaN</td>\n      <td>NaN</td>\n      <td>NaN</td>\n      <td>NaN</td>\n      <td>NaN</td>\n      <td>NaN</td>\n      <td>C252, C509, C787, E039, E042, E059, E119, E222...</td>\n      <td>1</td>\n    </tr>\n    <tr>\n      <th>72462</th>\n      <td>6003146</td>\n      <td>1942</td>\n      <td>NaN</td>\n      <td>15.0</td>\n      <td>0.0</td>\n      <td>NaN</td>\n      <td>0.0</td>\n      <td>NaN</td>\n      <td>NaN</td>\n      <td>4.0</td>\n      <td>...</td>\n      <td>1.1325</td>\n      <td>1.3802</td>\n      <td>0.19679</td>\n      <td>0.40907</td>\n      <td>0.3865</td>\n      <td>0.74372</td>\n      <td>0.55458</td>\n      <td>0.18913</td>\n      <td>B356, B972, B99, C259, D136, D225, D350, D377,...</td>\n      <td>1</td>\n    </tr>\n    <tr>\n      <th>72463</th>\n      <td>6023072</td>\n      <td>1949</td>\n      <td>NaN</td>\n      <td>15.0</td>\n      <td>7.0</td>\n      <td>10.0</td>\n      <td>2.0</td>\n      <td>10.0</td>\n      <td>3.0</td>\n      <td>3.0</td>\n      <td>...</td>\n      <td>NaN</td>\n      <td>NaN</td>\n      <td>NaN</td>\n      <td>NaN</td>\n      <td>NaN</td>\n      <td>NaN</td>\n      <td>NaN</td>\n      <td>NaN</td>\n      <td>C251, C780, C787, C800, K221, K227, K868, Z092...</td>\n      <td>1</td>\n    </tr>\n  </tbody>\n</table>\n<p>72464 rows × 284 columns</p>\n</div>"
     },
     "execution_count": 13,
     "metadata": {},
     "output_type": "execute_result"
    }
   ]
  },
  {
   "cell_type": "code",
   "source": [
    "total_people_in_train = train_group_df.shape[0]\n",
    "people_with_pancreatic_cancer_in_train = train_group_df[train_group_df['Label'] == '1'].shape[0]\n",
    "people_with_diabetes_in_train = train_group_df[train_group_df['Label'] == '2'].shape[0]\n",
    "total_people_in_test = test_group_df.shape[0]\n",
    "people_with_pancreatic_cancer_in_test = test_group_df[test_group_df['Label'] == '1'].shape[0]\n",
    "people_with_diabetes_in_test = test_group_df[test_group_df['Label'] == '2'].shape[0]\n",
    "print(f'Total people in train: {total_people_in_train}')\n",
    "print(f'Number of people with diabetes in train: {people_with_diabetes_in_train}')\n",
    "print(f'Number of people with pancreatic cancer in train: {people_with_pancreatic_cancer_in_train}')\n",
    "print(f'Total people in test: {total_people_in_test}')\n",
    "print(f'Number of people with diabetes in test: {people_with_diabetes_in_test}')\n",
    "print(f'Number of people with pancreatic cancer in test: {people_with_pancreatic_cancer_in_test}')"
   ],
   "metadata": {
    "collapsed": false,
    "ExecuteTime": {
     "end_time": "2024-06-05T20:12:53.177681Z",
     "start_time": "2024-06-05T20:12:52.938432Z"
    }
   },
   "id": "71e8fbe3b532b1e4",
   "execution_count": 12,
   "outputs": [
    {
     "name": "stdout",
     "output_type": "stream",
     "text": [
      "Total people in train: 72464\n",
      "Number of people with diabetes in train: 35246\n",
      "Number of people with pancreatic cancer in train: 1613\n",
      "Total people in test: 100524\n",
      "Number of people with diabetes in test: 8470\n",
      "Number of people with pancreatic cancer in test: 391\n"
     ]
    }
   ]
  },
  {
   "cell_type": "code",
   "source": [
    "df_test.iloc[:,270]"
   ],
   "metadata": {
    "collapsed": false,
    "ExecuteTime": {
     "end_time": "2024-05-31T10:24:13.237357Z",
     "start_time": "2024-05-31T10:24:13.230865Z"
    }
   },
   "id": "b0d1a0fb32616de1",
   "execution_count": 5,
   "outputs": []
  },
  {
   "cell_type": "code",
   "source": [
    "df_train = pd.read_csv('/tmp/pycharm_project_366/train_data.csv')\n",
    "df_train"
   ],
   "metadata": {
    "collapsed": false,
    "ExecuteTime": {
     "end_time": "2024-05-29T21:26:25.720507Z",
     "start_time": "2024-05-29T21:26:25.604865Z"
    }
   },
   "id": "de6a51dc1527a09a",
   "execution_count": 10,
   "outputs": []
  },
  {
   "cell_type": "code",
   "source": [
    "set(df_test.columns) - set(config['features_code_list'])"
   ],
   "metadata": {
    "collapsed": false,
    "ExecuteTime": {
     "end_time": "2024-05-31T10:24:51.776431Z",
     "start_time": "2024-05-31T10:24:51.769449Z"
    }
   },
   "id": "86fb9b6631908b16",
   "execution_count": 9,
   "outputs": []
  },
  {
   "cell_type": "code",
   "source": [
    "'41270-0.99.1' in config['features_code_list']"
   ],
   "metadata": {
    "collapsed": false,
    "ExecuteTime": {
     "end_time": "2024-05-31T10:24:57.230545Z",
     "start_time": "2024-05-31T10:24:57.225010Z"
    }
   },
   "id": "581224555d0becd8",
   "execution_count": 10,
   "outputs": []
  },
  {
   "cell_type": "code",
   "source": [
    "features = pd.read_csv('/home/ofeksh2@mta.ac.il/biobank/fields672220.ukb')"
   ],
   "metadata": {
    "collapsed": false,
    "ExecuteTime": {
     "end_time": "2024-05-31T10:25:01.836555Z",
     "start_time": "2024-05-31T10:25:01.830831Z"
    }
   },
   "id": "44cd84c08d619dc4",
   "execution_count": 11,
   "outputs": []
  },
  {
   "cell_type": "code",
   "source": [
    "'21028-0.0.1' in config['features_code_list']"
   ],
   "metadata": {
    "collapsed": false,
    "ExecuteTime": {
     "end_time": "2024-05-29T21:34:57.793695Z",
     "start_time": "2024-05-29T21:34:57.788008Z"
    }
   },
   "id": "dad96b5e4a3b24de",
   "execution_count": 21,
   "outputs": []
  },
  {
   "cell_type": "code",
   "source": [],
   "metadata": {
    "collapsed": false
   },
   "id": "3837df2132d39003",
   "execution_count": null,
   "outputs": []
  }
 ],
 "metadata": {
  "kernelspec": {
   "display_name": "Python 3",
   "language": "python",
   "name": "python3"
  },
  "language_info": {
   "codemirror_mode": {
    "name": "ipython",
    "version": 2
   },
   "file_extension": ".py",
   "mimetype": "text/x-python",
   "name": "python",
   "nbconvert_exporter": "python",
   "pygments_lexer": "ipython2",
   "version": "2.7.6"
  }
 },
 "nbformat": 4,
 "nbformat_minor": 5
}

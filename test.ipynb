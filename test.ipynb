{
 "cells": [
  {
   "cell_type": "code",
   "execution_count": 1,
   "id": "initial_id",
   "metadata": {
    "collapsed": true,
    "ExecuteTime": {
     "end_time": "2024-06-01T12:19:16.392777Z",
     "start_time": "2024-06-01T12:19:15.884604Z"
    }
   },
   "outputs": [],
   "source": [
    "import pandas as pd\n",
    "import json"
   ]
  },
  {
   "cell_type": "code",
   "outputs": [],
   "source": [
    "with open('/tmp/pycharm_project_366/config.json') as f:\n",
    "    config = json.load(f)"
   ],
   "metadata": {
    "collapsed": false,
    "ExecuteTime": {
     "end_time": "2024-06-01T12:19:22.353702Z",
     "start_time": "2024-06-01T12:19:22.350004Z"
    }
   },
   "id": "7b52aad6570b039c",
   "execution_count": 2
  },
  {
   "cell_type": "code",
   "outputs": [],
   "source": [
    "def get_people_with_disease(df, all_diseased_column, disease_code_pattern):\n",
    "    people_with_disease_df = df[all_diseased_column.str.contains(disease_code_pattern)]\n",
    "\n",
    "    return people_with_disease_df"
   ],
   "metadata": {
    "collapsed": false,
    "ExecuteTime": {
     "end_time": "2024-06-01T12:19:23.246489Z",
     "start_time": "2024-06-01T12:19:23.242570Z"
    }
   },
   "id": "a27075aff0c14088",
   "execution_count": 3
  },
  {
   "cell_type": "code",
   "outputs": [
    {
     "data": {
      "text/plain": "        34-0.0 874-0.0 884-0.0 894-0.0 904-0.0 914-0.0 1001-0.0 1070-0.0  \\\n0       1938.0    60.0     0.0     NaN     0.0     NaN      NaN      3.0   \n1       1966.0    30.0     1.0    10.0     2.0    -1.0      NaN      3.0   \n2       1955.0   600.0     7.0   120.0     4.0    30.0      NaN      4.0   \n3       1956.0    10.0     0.0     NaN     0.0     NaN      NaN      1.0   \n4       1957.0    30.0     2.0    10.0     7.0    10.0      NaN      6.0   \n...        ...     ...     ...     ...     ...     ...      ...      ...   \n100519    1957    60.0     2.0    10.0     0.0     NaN      NaN      2.0   \n100520    1957   390.0     3.0   180.0     4.0    60.0      4.0      3.0   \n100521    1951    30.0     5.0    20.0     2.0    10.0      NaN      3.0   \n100522    1966    20.0    -1.0     NaN     5.0    10.0      NaN      3.0   \n100523    1964    10.0     2.0    60.0     2.0    60.0      NaN      0.0   \n\n       1080-0.0 1090-0.0  ... 23406-0.0 23416-0.0 23417-0.0 23418-0.0  \\\n0           0.0      0.0  ...     1.619   0.37033     1.099    1.2524   \n1           1.0      1.0  ...    1.3151   0.25913   0.82489    1.0258   \n2           0.0      4.0  ...       NaN       NaN       NaN       NaN   \n3           0.0     -1.0  ...       NaN       NaN       NaN       NaN   \n4           0.0      0.0  ...    1.0513   0.38842    1.1722   0.83203   \n...         ...      ...  ...       ...       ...       ...       ...   \n100519      1.0      1.0  ...    1.3341   0.51043    1.4787    1.0531   \n100520    -10.0      2.0  ...       NaN       NaN       NaN       NaN   \n100521      0.0      0.0  ...    1.8446   0.23061    1.0139    1.4491   \n100522    -10.0      2.0  ...       NaN       NaN       NaN       NaN   \n100523    -10.0    -10.0  ...     1.013   0.61821    1.6529   0.77324   \n\n       23420-0.0 23421-0.0 23422-0.0 23526-0.0 23527-0.0 23528-0.0  \n0        0.22023   0.39086   0.36664   0.77218   0.56309   0.20909  \n1        0.15592   0.32634   0.28932   0.63172   0.46325   0.16847  \n2            NaN       NaN       NaN       NaN       NaN       NaN  \n3            NaN       NaN       NaN       NaN       NaN       NaN  \n4        0.24096   0.46034   0.21924    0.7635   0.55524   0.20826  \n...          ...       ...       ...       ...       ...       ...  \n100519   0.31117   0.57317   0.28103    1.0032   0.73686   0.26631  \n100520       NaN       NaN       NaN       NaN       NaN       NaN  \n100521   0.12985   0.43197   0.39544   0.79603   0.59467   0.20137  \n100522       NaN       NaN       NaN       NaN       NaN       NaN  \n100523   0.45263    0.5778   0.23972    0.9885   0.71662   0.27188  \n\n[100524 rows x 283 columns]",
      "text/html": "<div>\n<style scoped>\n    .dataframe tbody tr th:only-of-type {\n        vertical-align: middle;\n    }\n\n    .dataframe tbody tr th {\n        vertical-align: top;\n    }\n\n    .dataframe thead th {\n        text-align: right;\n    }\n</style>\n<table border=\"1\" class=\"dataframe\">\n  <thead>\n    <tr style=\"text-align: right;\">\n      <th></th>\n      <th>34-0.0</th>\n      <th>874-0.0</th>\n      <th>884-0.0</th>\n      <th>894-0.0</th>\n      <th>904-0.0</th>\n      <th>914-0.0</th>\n      <th>1001-0.0</th>\n      <th>1070-0.0</th>\n      <th>1080-0.0</th>\n      <th>1090-0.0</th>\n      <th>...</th>\n      <th>23406-0.0</th>\n      <th>23416-0.0</th>\n      <th>23417-0.0</th>\n      <th>23418-0.0</th>\n      <th>23420-0.0</th>\n      <th>23421-0.0</th>\n      <th>23422-0.0</th>\n      <th>23526-0.0</th>\n      <th>23527-0.0</th>\n      <th>23528-0.0</th>\n    </tr>\n  </thead>\n  <tbody>\n    <tr>\n      <th>0</th>\n      <td>1938.0</td>\n      <td>60.0</td>\n      <td>0.0</td>\n      <td>NaN</td>\n      <td>0.0</td>\n      <td>NaN</td>\n      <td>NaN</td>\n      <td>3.0</td>\n      <td>0.0</td>\n      <td>0.0</td>\n      <td>...</td>\n      <td>1.619</td>\n      <td>0.37033</td>\n      <td>1.099</td>\n      <td>1.2524</td>\n      <td>0.22023</td>\n      <td>0.39086</td>\n      <td>0.36664</td>\n      <td>0.77218</td>\n      <td>0.56309</td>\n      <td>0.20909</td>\n    </tr>\n    <tr>\n      <th>1</th>\n      <td>1966.0</td>\n      <td>30.0</td>\n      <td>1.0</td>\n      <td>10.0</td>\n      <td>2.0</td>\n      <td>-1.0</td>\n      <td>NaN</td>\n      <td>3.0</td>\n      <td>1.0</td>\n      <td>1.0</td>\n      <td>...</td>\n      <td>1.3151</td>\n      <td>0.25913</td>\n      <td>0.82489</td>\n      <td>1.0258</td>\n      <td>0.15592</td>\n      <td>0.32634</td>\n      <td>0.28932</td>\n      <td>0.63172</td>\n      <td>0.46325</td>\n      <td>0.16847</td>\n    </tr>\n    <tr>\n      <th>2</th>\n      <td>1955.0</td>\n      <td>600.0</td>\n      <td>7.0</td>\n      <td>120.0</td>\n      <td>4.0</td>\n      <td>30.0</td>\n      <td>NaN</td>\n      <td>4.0</td>\n      <td>0.0</td>\n      <td>4.0</td>\n      <td>...</td>\n      <td>NaN</td>\n      <td>NaN</td>\n      <td>NaN</td>\n      <td>NaN</td>\n      <td>NaN</td>\n      <td>NaN</td>\n      <td>NaN</td>\n      <td>NaN</td>\n      <td>NaN</td>\n      <td>NaN</td>\n    </tr>\n    <tr>\n      <th>3</th>\n      <td>1956.0</td>\n      <td>10.0</td>\n      <td>0.0</td>\n      <td>NaN</td>\n      <td>0.0</td>\n      <td>NaN</td>\n      <td>NaN</td>\n      <td>1.0</td>\n      <td>0.0</td>\n      <td>-1.0</td>\n      <td>...</td>\n      <td>NaN</td>\n      <td>NaN</td>\n      <td>NaN</td>\n      <td>NaN</td>\n      <td>NaN</td>\n      <td>NaN</td>\n      <td>NaN</td>\n      <td>NaN</td>\n      <td>NaN</td>\n      <td>NaN</td>\n    </tr>\n    <tr>\n      <th>4</th>\n      <td>1957.0</td>\n      <td>30.0</td>\n      <td>2.0</td>\n      <td>10.0</td>\n      <td>7.0</td>\n      <td>10.0</td>\n      <td>NaN</td>\n      <td>6.0</td>\n      <td>0.0</td>\n      <td>0.0</td>\n      <td>...</td>\n      <td>1.0513</td>\n      <td>0.38842</td>\n      <td>1.1722</td>\n      <td>0.83203</td>\n      <td>0.24096</td>\n      <td>0.46034</td>\n      <td>0.21924</td>\n      <td>0.7635</td>\n      <td>0.55524</td>\n      <td>0.20826</td>\n    </tr>\n    <tr>\n      <th>...</th>\n      <td>...</td>\n      <td>...</td>\n      <td>...</td>\n      <td>...</td>\n      <td>...</td>\n      <td>...</td>\n      <td>...</td>\n      <td>...</td>\n      <td>...</td>\n      <td>...</td>\n      <td>...</td>\n      <td>...</td>\n      <td>...</td>\n      <td>...</td>\n      <td>...</td>\n      <td>...</td>\n      <td>...</td>\n      <td>...</td>\n      <td>...</td>\n      <td>...</td>\n      <td>...</td>\n    </tr>\n    <tr>\n      <th>100519</th>\n      <td>1957</td>\n      <td>60.0</td>\n      <td>2.0</td>\n      <td>10.0</td>\n      <td>0.0</td>\n      <td>NaN</td>\n      <td>NaN</td>\n      <td>2.0</td>\n      <td>1.0</td>\n      <td>1.0</td>\n      <td>...</td>\n      <td>1.3341</td>\n      <td>0.51043</td>\n      <td>1.4787</td>\n      <td>1.0531</td>\n      <td>0.31117</td>\n      <td>0.57317</td>\n      <td>0.28103</td>\n      <td>1.0032</td>\n      <td>0.73686</td>\n      <td>0.26631</td>\n    </tr>\n    <tr>\n      <th>100520</th>\n      <td>1957</td>\n      <td>390.0</td>\n      <td>3.0</td>\n      <td>180.0</td>\n      <td>4.0</td>\n      <td>60.0</td>\n      <td>4.0</td>\n      <td>3.0</td>\n      <td>-10.0</td>\n      <td>2.0</td>\n      <td>...</td>\n      <td>NaN</td>\n      <td>NaN</td>\n      <td>NaN</td>\n      <td>NaN</td>\n      <td>NaN</td>\n      <td>NaN</td>\n      <td>NaN</td>\n      <td>NaN</td>\n      <td>NaN</td>\n      <td>NaN</td>\n    </tr>\n    <tr>\n      <th>100521</th>\n      <td>1951</td>\n      <td>30.0</td>\n      <td>5.0</td>\n      <td>20.0</td>\n      <td>2.0</td>\n      <td>10.0</td>\n      <td>NaN</td>\n      <td>3.0</td>\n      <td>0.0</td>\n      <td>0.0</td>\n      <td>...</td>\n      <td>1.8446</td>\n      <td>0.23061</td>\n      <td>1.0139</td>\n      <td>1.4491</td>\n      <td>0.12985</td>\n      <td>0.43197</td>\n      <td>0.39544</td>\n      <td>0.79603</td>\n      <td>0.59467</td>\n      <td>0.20137</td>\n    </tr>\n    <tr>\n      <th>100522</th>\n      <td>1966</td>\n      <td>20.0</td>\n      <td>-1.0</td>\n      <td>NaN</td>\n      <td>5.0</td>\n      <td>10.0</td>\n      <td>NaN</td>\n      <td>3.0</td>\n      <td>-10.0</td>\n      <td>2.0</td>\n      <td>...</td>\n      <td>NaN</td>\n      <td>NaN</td>\n      <td>NaN</td>\n      <td>NaN</td>\n      <td>NaN</td>\n      <td>NaN</td>\n      <td>NaN</td>\n      <td>NaN</td>\n      <td>NaN</td>\n      <td>NaN</td>\n    </tr>\n    <tr>\n      <th>100523</th>\n      <td>1964</td>\n      <td>10.0</td>\n      <td>2.0</td>\n      <td>60.0</td>\n      <td>2.0</td>\n      <td>60.0</td>\n      <td>NaN</td>\n      <td>0.0</td>\n      <td>-10.0</td>\n      <td>-10.0</td>\n      <td>...</td>\n      <td>1.013</td>\n      <td>0.61821</td>\n      <td>1.6529</td>\n      <td>0.77324</td>\n      <td>0.45263</td>\n      <td>0.5778</td>\n      <td>0.23972</td>\n      <td>0.9885</td>\n      <td>0.71662</td>\n      <td>0.27188</td>\n    </tr>\n  </tbody>\n</table>\n<p>100524 rows × 283 columns</p>\n</div>"
     },
     "execution_count": 6,
     "metadata": {},
     "output_type": "execute_result"
    }
   ],
   "source": [
    "test_group_df = pd.read_csv('/tmp/pycharm_project_366/test_data.csv', low_memory=False)\n",
    "test_group_df"
   ],
   "metadata": {
    "collapsed": false,
    "ExecuteTime": {
     "end_time": "2024-06-01T12:22:48.185115Z",
     "start_time": "2024-06-01T12:22:39.873476Z"
    }
   },
   "id": "a42a25186edb94e7",
   "execution_count": 6
  },
  {
   "cell_type": "code",
   "outputs": [
    {
     "name": "stdout",
     "output_type": "stream",
     "text": [
      "people with diabetes: 8737, people with cancer: 395\n"
     ]
    }
   ],
   "source": [
    "diabetes_pattern = r'E11'\n",
    "pancreatic_cancer_pattern = r'C25'\n",
    "all_diseased_column = test_group_df[[f'41270-0.{i}' for i in range(100)]].agg(', '.join, axis=1)\n",
    "people_with_diabetes_in_test_df = get_people_with_disease(test_group_df, all_diseased_column, diabetes_pattern)\n",
    "people_with_pancreatic_cancer_in_test_df = get_people_with_disease(test_group_df, all_diseased_column, pancreatic_cancer_pattern)\n",
    "print(f'people with diabetes: {people_with_diabetes_in_test_df.shape[0]}, people with cancer: {people_with_pancreatic_cancer_in_test_df.shape[0]}')"
   ],
   "metadata": {
    "collapsed": false,
    "ExecuteTime": {
     "end_time": "2024-06-01T12:23:36.111547Z",
     "start_time": "2024-06-01T12:23:34.247611Z"
    }
   },
   "id": "67fd627bb5964e2c",
   "execution_count": 8
  },
  {
   "cell_type": "code",
   "outputs": [
    {
     "data": {
      "text/plain": "       34-0.0 874-0.0 884-0.0 894-0.0 904-0.0 914-0.0 1001-0.0 1070-0.0  \\\n0      1959.0    20.0     3.0    15.0     2.0    15.0      NaN      1.0   \n1      1944.0    40.0     0.0     NaN     0.0     NaN      NaN      3.0   \n2      1962.0     NaN     3.0    60.0     3.0   120.0      6.0    -10.0   \n3      1947.0    -1.0     7.0    90.0     1.0    10.0      NaN      2.0   \n4      1954.0    -1.0     5.0    -1.0     0.0     NaN      NaN      5.0   \n...       ...     ...     ...     ...     ...     ...      ...      ...   \n72957    1951    45.0     0.0     NaN     0.0     NaN      NaN      4.0   \n72958    1938    15.0     4.0    45.0     0.0     NaN      NaN      4.0   \n72959    1942    15.0     0.0     NaN     0.0     NaN      NaN      4.0   \n72960    1948    20.0     1.0    10.0     0.0     NaN      NaN      3.0   \n72961    1949    15.0     7.0    10.0     2.0    10.0      3.0      3.0   \n\n      1080-0.0 1090-0.0  ... 23406-0.0 23416-0.0 23417-0.0 23418-0.0  \\\n0          6.0      1.0  ...    1.2502    0.1842   0.93059    1.0044   \n1          2.0      1.0  ...       NaN       NaN       NaN       NaN   \n2          1.0      2.0  ...    1.3008   0.21047   0.83098    1.0273   \n3          0.0    -10.0  ...       NaN       NaN       NaN       NaN   \n4          1.0      7.0  ...       NaN       NaN       NaN       NaN   \n...        ...      ...  ...       ...       ...       ...       ...   \n72957    -10.0      0.0  ...       NaN       NaN       NaN       NaN   \n72958      0.0      0.0  ...       NaN       NaN       NaN       NaN   \n72959    -10.0    -10.0  ...    1.7667   0.30586    1.1325    1.3802   \n72960      1.0      1.0  ...    1.5814   0.53924    1.5525    1.2399   \n72961      1.0    -10.0  ...       NaN       NaN       NaN       NaN   \n\n      23420-0.0 23421-0.0 23422-0.0 23526-0.0 23527-0.0 23528-0.0  \n0       0.10728   0.37528   0.24585   0.54713   0.39634   0.15079  \n1           NaN       NaN       NaN       NaN       NaN       NaN  \n2       0.18401   0.29571   0.27352   0.50973   0.38622   0.12351  \n3           NaN       NaN       NaN       NaN       NaN       NaN  \n4           NaN       NaN       NaN       NaN       NaN       NaN  \n...         ...       ...       ...       ...       ...       ...  \n72957       NaN       NaN       NaN       NaN       NaN       NaN  \n72958       NaN       NaN       NaN       NaN       NaN       NaN  \n72959   0.19679   0.40907    0.3865   0.74372   0.55458   0.18913  \n72960   0.33745   0.60051   0.34152    1.1471   0.86682   0.28026  \n72961       NaN       NaN       NaN       NaN       NaN       NaN  \n\n[72962 rows x 283 columns]",
      "text/html": "<div>\n<style scoped>\n    .dataframe tbody tr th:only-of-type {\n        vertical-align: middle;\n    }\n\n    .dataframe tbody tr th {\n        vertical-align: top;\n    }\n\n    .dataframe thead th {\n        text-align: right;\n    }\n</style>\n<table border=\"1\" class=\"dataframe\">\n  <thead>\n    <tr style=\"text-align: right;\">\n      <th></th>\n      <th>34-0.0</th>\n      <th>874-0.0</th>\n      <th>884-0.0</th>\n      <th>894-0.0</th>\n      <th>904-0.0</th>\n      <th>914-0.0</th>\n      <th>1001-0.0</th>\n      <th>1070-0.0</th>\n      <th>1080-0.0</th>\n      <th>1090-0.0</th>\n      <th>...</th>\n      <th>23406-0.0</th>\n      <th>23416-0.0</th>\n      <th>23417-0.0</th>\n      <th>23418-0.0</th>\n      <th>23420-0.0</th>\n      <th>23421-0.0</th>\n      <th>23422-0.0</th>\n      <th>23526-0.0</th>\n      <th>23527-0.0</th>\n      <th>23528-0.0</th>\n    </tr>\n  </thead>\n  <tbody>\n    <tr>\n      <th>0</th>\n      <td>1959.0</td>\n      <td>20.0</td>\n      <td>3.0</td>\n      <td>15.0</td>\n      <td>2.0</td>\n      <td>15.0</td>\n      <td>NaN</td>\n      <td>1.0</td>\n      <td>6.0</td>\n      <td>1.0</td>\n      <td>...</td>\n      <td>1.2502</td>\n      <td>0.1842</td>\n      <td>0.93059</td>\n      <td>1.0044</td>\n      <td>0.10728</td>\n      <td>0.37528</td>\n      <td>0.24585</td>\n      <td>0.54713</td>\n      <td>0.39634</td>\n      <td>0.15079</td>\n    </tr>\n    <tr>\n      <th>1</th>\n      <td>1944.0</td>\n      <td>40.0</td>\n      <td>0.0</td>\n      <td>NaN</td>\n      <td>0.0</td>\n      <td>NaN</td>\n      <td>NaN</td>\n      <td>3.0</td>\n      <td>2.0</td>\n      <td>1.0</td>\n      <td>...</td>\n      <td>NaN</td>\n      <td>NaN</td>\n      <td>NaN</td>\n      <td>NaN</td>\n      <td>NaN</td>\n      <td>NaN</td>\n      <td>NaN</td>\n      <td>NaN</td>\n      <td>NaN</td>\n      <td>NaN</td>\n    </tr>\n    <tr>\n      <th>2</th>\n      <td>1962.0</td>\n      <td>NaN</td>\n      <td>3.0</td>\n      <td>60.0</td>\n      <td>3.0</td>\n      <td>120.0</td>\n      <td>6.0</td>\n      <td>-10.0</td>\n      <td>1.0</td>\n      <td>2.0</td>\n      <td>...</td>\n      <td>1.3008</td>\n      <td>0.21047</td>\n      <td>0.83098</td>\n      <td>1.0273</td>\n      <td>0.18401</td>\n      <td>0.29571</td>\n      <td>0.27352</td>\n      <td>0.50973</td>\n      <td>0.38622</td>\n      <td>0.12351</td>\n    </tr>\n    <tr>\n      <th>3</th>\n      <td>1947.0</td>\n      <td>-1.0</td>\n      <td>7.0</td>\n      <td>90.0</td>\n      <td>1.0</td>\n      <td>10.0</td>\n      <td>NaN</td>\n      <td>2.0</td>\n      <td>0.0</td>\n      <td>-10.0</td>\n      <td>...</td>\n      <td>NaN</td>\n      <td>NaN</td>\n      <td>NaN</td>\n      <td>NaN</td>\n      <td>NaN</td>\n      <td>NaN</td>\n      <td>NaN</td>\n      <td>NaN</td>\n      <td>NaN</td>\n      <td>NaN</td>\n    </tr>\n    <tr>\n      <th>4</th>\n      <td>1954.0</td>\n      <td>-1.0</td>\n      <td>5.0</td>\n      <td>-1.0</td>\n      <td>0.0</td>\n      <td>NaN</td>\n      <td>NaN</td>\n      <td>5.0</td>\n      <td>1.0</td>\n      <td>7.0</td>\n      <td>...</td>\n      <td>NaN</td>\n      <td>NaN</td>\n      <td>NaN</td>\n      <td>NaN</td>\n      <td>NaN</td>\n      <td>NaN</td>\n      <td>NaN</td>\n      <td>NaN</td>\n      <td>NaN</td>\n      <td>NaN</td>\n    </tr>\n    <tr>\n      <th>...</th>\n      <td>...</td>\n      <td>...</td>\n      <td>...</td>\n      <td>...</td>\n      <td>...</td>\n      <td>...</td>\n      <td>...</td>\n      <td>...</td>\n      <td>...</td>\n      <td>...</td>\n      <td>...</td>\n      <td>...</td>\n      <td>...</td>\n      <td>...</td>\n      <td>...</td>\n      <td>...</td>\n      <td>...</td>\n      <td>...</td>\n      <td>...</td>\n      <td>...</td>\n      <td>...</td>\n    </tr>\n    <tr>\n      <th>72957</th>\n      <td>1951</td>\n      <td>45.0</td>\n      <td>0.0</td>\n      <td>NaN</td>\n      <td>0.0</td>\n      <td>NaN</td>\n      <td>NaN</td>\n      <td>4.0</td>\n      <td>-10.0</td>\n      <td>0.0</td>\n      <td>...</td>\n      <td>NaN</td>\n      <td>NaN</td>\n      <td>NaN</td>\n      <td>NaN</td>\n      <td>NaN</td>\n      <td>NaN</td>\n      <td>NaN</td>\n      <td>NaN</td>\n      <td>NaN</td>\n      <td>NaN</td>\n    </tr>\n    <tr>\n      <th>72958</th>\n      <td>1938</td>\n      <td>15.0</td>\n      <td>4.0</td>\n      <td>45.0</td>\n      <td>0.0</td>\n      <td>NaN</td>\n      <td>NaN</td>\n      <td>4.0</td>\n      <td>0.0</td>\n      <td>0.0</td>\n      <td>...</td>\n      <td>NaN</td>\n      <td>NaN</td>\n      <td>NaN</td>\n      <td>NaN</td>\n      <td>NaN</td>\n      <td>NaN</td>\n      <td>NaN</td>\n      <td>NaN</td>\n      <td>NaN</td>\n      <td>NaN</td>\n    </tr>\n    <tr>\n      <th>72959</th>\n      <td>1942</td>\n      <td>15.0</td>\n      <td>0.0</td>\n      <td>NaN</td>\n      <td>0.0</td>\n      <td>NaN</td>\n      <td>NaN</td>\n      <td>4.0</td>\n      <td>-10.0</td>\n      <td>-10.0</td>\n      <td>...</td>\n      <td>1.7667</td>\n      <td>0.30586</td>\n      <td>1.1325</td>\n      <td>1.3802</td>\n      <td>0.19679</td>\n      <td>0.40907</td>\n      <td>0.3865</td>\n      <td>0.74372</td>\n      <td>0.55458</td>\n      <td>0.18913</td>\n    </tr>\n    <tr>\n      <th>72960</th>\n      <td>1948</td>\n      <td>20.0</td>\n      <td>1.0</td>\n      <td>10.0</td>\n      <td>0.0</td>\n      <td>NaN</td>\n      <td>NaN</td>\n      <td>3.0</td>\n      <td>1.0</td>\n      <td>1.0</td>\n      <td>...</td>\n      <td>1.5814</td>\n      <td>0.53924</td>\n      <td>1.5525</td>\n      <td>1.2399</td>\n      <td>0.33745</td>\n      <td>0.60051</td>\n      <td>0.34152</td>\n      <td>1.1471</td>\n      <td>0.86682</td>\n      <td>0.28026</td>\n    </tr>\n    <tr>\n      <th>72961</th>\n      <td>1949</td>\n      <td>15.0</td>\n      <td>7.0</td>\n      <td>10.0</td>\n      <td>2.0</td>\n      <td>10.0</td>\n      <td>3.0</td>\n      <td>3.0</td>\n      <td>1.0</td>\n      <td>-10.0</td>\n      <td>...</td>\n      <td>NaN</td>\n      <td>NaN</td>\n      <td>NaN</td>\n      <td>NaN</td>\n      <td>NaN</td>\n      <td>NaN</td>\n      <td>NaN</td>\n      <td>NaN</td>\n      <td>NaN</td>\n      <td>NaN</td>\n    </tr>\n  </tbody>\n</table>\n<p>72962 rows × 283 columns</p>\n</div>"
     },
     "execution_count": 9,
     "metadata": {},
     "output_type": "execute_result"
    }
   ],
   "source": [
    "train_group_df = pd.read_csv('/tmp/pycharm_project_366/train_data.csv', low_memory=False)\n",
    "train_group_df"
   ],
   "metadata": {
    "collapsed": false,
    "ExecuteTime": {
     "end_time": "2024-06-01T12:23:58.184625Z",
     "start_time": "2024-06-01T12:23:51.925804Z"
    }
   },
   "id": "8ef4dbe312848fb2",
   "execution_count": 9
  },
  {
   "cell_type": "code",
   "outputs": [
    {
     "name": "stdout",
     "output_type": "stream",
     "text": [
      "people with diabetes: 38516, people with cancer: 2130\n"
     ]
    }
   ],
   "source": [
    "diabetes_pattern = r'E11'\n",
    "pancreatic_cancer_pattern = r'C25'\n",
    "all_diseased_column = train_group_df[[f'41270-0.{i}' for i in range(100)]].agg(', '.join, axis=1)\n",
    "people_with_diabetes_in_train_df = get_people_with_disease(train_group_df, all_diseased_column, diabetes_pattern)\n",
    "people_with_pancreatic_cancer_in_train_df = get_people_with_disease(train_group_df, all_diseased_column, pancreatic_cancer_pattern)\n",
    "print(f'people with diabetes: {people_with_diabetes_in_train_df.shape[0]}, people with cancer: {people_with_pancreatic_cancer_in_train_df.shape[0]}')"
   ],
   "metadata": {
    "collapsed": false,
    "ExecuteTime": {
     "end_time": "2024-06-01T12:24:39.136638Z",
     "start_time": "2024-06-01T12:24:37.693165Z"
    }
   },
   "id": "71e8fbe3b532b1e4",
   "execution_count": 10
  },
  {
   "cell_type": "code",
   "outputs": [
    {
     "data": {
      "text/plain": "0    NaN\n1    NaN\n2    NaN\n3    NaN\n4    NaN\n      ..\n95   NaN\n96   NaN\n97   NaN\n98   NaN\n99   NaN\nName: 2966-0.0.1, Length: 100, dtype: float64"
     },
     "execution_count": 5,
     "metadata": {},
     "output_type": "execute_result"
    }
   ],
   "source": [
    "df_test.iloc[:,270]"
   ],
   "metadata": {
    "collapsed": false,
    "ExecuteTime": {
     "end_time": "2024-05-31T10:24:13.237357Z",
     "start_time": "2024-05-31T10:24:13.230865Z"
    }
   },
   "id": "b0d1a0fb32616de1",
   "execution_count": 5
  },
  {
   "cell_type": "code",
   "outputs": [
    {
     "data": {
      "text/plain": "     34-0.0  874-0.0  884-0.0  894-0.0  904-0.0  914-0.0  1001-0.0  1070-0.0  \\\n0      1946     10.0      5.0     10.0      0.0      NaN       NaN      10.0   \n1      1940     15.0      3.0     20.0      3.0     15.0       4.0       4.0   \n2      1948     30.0      4.0     60.0      2.0     60.0       NaN       2.0   \n3      1966     20.0      0.0      NaN      0.0      NaN       NaN       3.0   \n4      1964     60.0      0.0      NaN      0.0      NaN       NaN       6.0   \n..      ...      ...      ...      ...      ...      ...       ...       ...   \n155    1941     -1.0      6.0     -1.0     -1.0      NaN       NaN       4.0   \n156    1961     20.0      3.0     20.0      3.0     20.0       NaN       3.0   \n157    1948     -1.0      7.0     -1.0      2.0     60.0       NaN       6.0   \n158    1941     30.0      5.0     60.0      4.0    120.0       NaN       2.0   \n159    1945     15.0      0.0      NaN      0.0      NaN       NaN       5.0   \n\n     1080-0.0  1090-0.0  ...  23406-0.0  23416-0.0  23417-0.0  23418-0.0  \\\n0         0.0       2.0  ...    1.34990    0.24027    0.90368    1.05600   \n1         2.0       2.0  ...    0.88873    0.48712    1.20370    0.67542   \n2         0.0     -10.0  ...        NaN        NaN        NaN        NaN   \n3       -10.0       8.0  ...        NaN        NaN        NaN        NaN   \n4         3.0       1.0  ...        NaN        NaN        NaN        NaN   \n..        ...       ...  ...        ...        ...        ...        ...   \n155      -3.0       3.0  ...        NaN        NaN        NaN        NaN   \n156     -10.0     -10.0  ...    1.17720    0.48938    1.32690    0.91121   \n157       0.0     -10.0  ...        NaN        NaN        NaN        NaN   \n158     -10.0       1.0  ...    0.89740    0.36525    0.92724    0.70587   \n159       2.0     -10.0  ...        NaN        NaN        NaN        NaN   \n\n     23420-0.0  23421-0.0  23422-0.0  23526-0.0  23527-0.0  23528-0.0  \n0      0.13301    0.39050    0.29392    0.77305    0.55852    0.21454  \n1      0.33583    0.44486    0.21330    0.88604    0.65199    0.23404  \n2          NaN        NaN        NaN        NaN        NaN        NaN  \n3          NaN        NaN        NaN        NaN        NaN        NaN  \n4          NaN        NaN        NaN        NaN        NaN        NaN  \n..         ...        ...        ...        ...        ...        ...  \n155        NaN        NaN        NaN        NaN        NaN        NaN  \n156    0.30140    0.49085    0.26603    0.90651    0.66889    0.23762  \n157        NaN        NaN        NaN        NaN        NaN        NaN  \n158    0.24805    0.32404    0.19153    0.52305    0.37279    0.15026  \n159        NaN        NaN        NaN        NaN        NaN        NaN  \n\n[160 rows x 465 columns]",
      "text/html": "<div>\n<style scoped>\n    .dataframe tbody tr th:only-of-type {\n        vertical-align: middle;\n    }\n\n    .dataframe tbody tr th {\n        vertical-align: top;\n    }\n\n    .dataframe thead th {\n        text-align: right;\n    }\n</style>\n<table border=\"1\" class=\"dataframe\">\n  <thead>\n    <tr style=\"text-align: right;\">\n      <th></th>\n      <th>34-0.0</th>\n      <th>874-0.0</th>\n      <th>884-0.0</th>\n      <th>894-0.0</th>\n      <th>904-0.0</th>\n      <th>914-0.0</th>\n      <th>1001-0.0</th>\n      <th>1070-0.0</th>\n      <th>1080-0.0</th>\n      <th>1090-0.0</th>\n      <th>...</th>\n      <th>23406-0.0</th>\n      <th>23416-0.0</th>\n      <th>23417-0.0</th>\n      <th>23418-0.0</th>\n      <th>23420-0.0</th>\n      <th>23421-0.0</th>\n      <th>23422-0.0</th>\n      <th>23526-0.0</th>\n      <th>23527-0.0</th>\n      <th>23528-0.0</th>\n    </tr>\n  </thead>\n  <tbody>\n    <tr>\n      <th>0</th>\n      <td>1946</td>\n      <td>10.0</td>\n      <td>5.0</td>\n      <td>10.0</td>\n      <td>0.0</td>\n      <td>NaN</td>\n      <td>NaN</td>\n      <td>10.0</td>\n      <td>0.0</td>\n      <td>2.0</td>\n      <td>...</td>\n      <td>1.34990</td>\n      <td>0.24027</td>\n      <td>0.90368</td>\n      <td>1.05600</td>\n      <td>0.13301</td>\n      <td>0.39050</td>\n      <td>0.29392</td>\n      <td>0.77305</td>\n      <td>0.55852</td>\n      <td>0.21454</td>\n    </tr>\n    <tr>\n      <th>1</th>\n      <td>1940</td>\n      <td>15.0</td>\n      <td>3.0</td>\n      <td>20.0</td>\n      <td>3.0</td>\n      <td>15.0</td>\n      <td>4.0</td>\n      <td>4.0</td>\n      <td>2.0</td>\n      <td>2.0</td>\n      <td>...</td>\n      <td>0.88873</td>\n      <td>0.48712</td>\n      <td>1.20370</td>\n      <td>0.67542</td>\n      <td>0.33583</td>\n      <td>0.44486</td>\n      <td>0.21330</td>\n      <td>0.88604</td>\n      <td>0.65199</td>\n      <td>0.23404</td>\n    </tr>\n    <tr>\n      <th>2</th>\n      <td>1948</td>\n      <td>30.0</td>\n      <td>4.0</td>\n      <td>60.0</td>\n      <td>2.0</td>\n      <td>60.0</td>\n      <td>NaN</td>\n      <td>2.0</td>\n      <td>0.0</td>\n      <td>-10.0</td>\n      <td>...</td>\n      <td>NaN</td>\n      <td>NaN</td>\n      <td>NaN</td>\n      <td>NaN</td>\n      <td>NaN</td>\n      <td>NaN</td>\n      <td>NaN</td>\n      <td>NaN</td>\n      <td>NaN</td>\n      <td>NaN</td>\n    </tr>\n    <tr>\n      <th>3</th>\n      <td>1966</td>\n      <td>20.0</td>\n      <td>0.0</td>\n      <td>NaN</td>\n      <td>0.0</td>\n      <td>NaN</td>\n      <td>NaN</td>\n      <td>3.0</td>\n      <td>-10.0</td>\n      <td>8.0</td>\n      <td>...</td>\n      <td>NaN</td>\n      <td>NaN</td>\n      <td>NaN</td>\n      <td>NaN</td>\n      <td>NaN</td>\n      <td>NaN</td>\n      <td>NaN</td>\n      <td>NaN</td>\n      <td>NaN</td>\n      <td>NaN</td>\n    </tr>\n    <tr>\n      <th>4</th>\n      <td>1964</td>\n      <td>60.0</td>\n      <td>0.0</td>\n      <td>NaN</td>\n      <td>0.0</td>\n      <td>NaN</td>\n      <td>NaN</td>\n      <td>6.0</td>\n      <td>3.0</td>\n      <td>1.0</td>\n      <td>...</td>\n      <td>NaN</td>\n      <td>NaN</td>\n      <td>NaN</td>\n      <td>NaN</td>\n      <td>NaN</td>\n      <td>NaN</td>\n      <td>NaN</td>\n      <td>NaN</td>\n      <td>NaN</td>\n      <td>NaN</td>\n    </tr>\n    <tr>\n      <th>...</th>\n      <td>...</td>\n      <td>...</td>\n      <td>...</td>\n      <td>...</td>\n      <td>...</td>\n      <td>...</td>\n      <td>...</td>\n      <td>...</td>\n      <td>...</td>\n      <td>...</td>\n      <td>...</td>\n      <td>...</td>\n      <td>...</td>\n      <td>...</td>\n      <td>...</td>\n      <td>...</td>\n      <td>...</td>\n      <td>...</td>\n      <td>...</td>\n      <td>...</td>\n      <td>...</td>\n    </tr>\n    <tr>\n      <th>155</th>\n      <td>1941</td>\n      <td>-1.0</td>\n      <td>6.0</td>\n      <td>-1.0</td>\n      <td>-1.0</td>\n      <td>NaN</td>\n      <td>NaN</td>\n      <td>4.0</td>\n      <td>-3.0</td>\n      <td>3.0</td>\n      <td>...</td>\n      <td>NaN</td>\n      <td>NaN</td>\n      <td>NaN</td>\n      <td>NaN</td>\n      <td>NaN</td>\n      <td>NaN</td>\n      <td>NaN</td>\n      <td>NaN</td>\n      <td>NaN</td>\n      <td>NaN</td>\n    </tr>\n    <tr>\n      <th>156</th>\n      <td>1961</td>\n      <td>20.0</td>\n      <td>3.0</td>\n      <td>20.0</td>\n      <td>3.0</td>\n      <td>20.0</td>\n      <td>NaN</td>\n      <td>3.0</td>\n      <td>-10.0</td>\n      <td>-10.0</td>\n      <td>...</td>\n      <td>1.17720</td>\n      <td>0.48938</td>\n      <td>1.32690</td>\n      <td>0.91121</td>\n      <td>0.30140</td>\n      <td>0.49085</td>\n      <td>0.26603</td>\n      <td>0.90651</td>\n      <td>0.66889</td>\n      <td>0.23762</td>\n    </tr>\n    <tr>\n      <th>157</th>\n      <td>1948</td>\n      <td>-1.0</td>\n      <td>7.0</td>\n      <td>-1.0</td>\n      <td>2.0</td>\n      <td>60.0</td>\n      <td>NaN</td>\n      <td>6.0</td>\n      <td>0.0</td>\n      <td>-10.0</td>\n      <td>...</td>\n      <td>NaN</td>\n      <td>NaN</td>\n      <td>NaN</td>\n      <td>NaN</td>\n      <td>NaN</td>\n      <td>NaN</td>\n      <td>NaN</td>\n      <td>NaN</td>\n      <td>NaN</td>\n      <td>NaN</td>\n    </tr>\n    <tr>\n      <th>158</th>\n      <td>1941</td>\n      <td>30.0</td>\n      <td>5.0</td>\n      <td>60.0</td>\n      <td>4.0</td>\n      <td>120.0</td>\n      <td>NaN</td>\n      <td>2.0</td>\n      <td>-10.0</td>\n      <td>1.0</td>\n      <td>...</td>\n      <td>0.89740</td>\n      <td>0.36525</td>\n      <td>0.92724</td>\n      <td>0.70587</td>\n      <td>0.24805</td>\n      <td>0.32404</td>\n      <td>0.19153</td>\n      <td>0.52305</td>\n      <td>0.37279</td>\n      <td>0.15026</td>\n    </tr>\n    <tr>\n      <th>159</th>\n      <td>1945</td>\n      <td>15.0</td>\n      <td>0.0</td>\n      <td>NaN</td>\n      <td>0.0</td>\n      <td>NaN</td>\n      <td>NaN</td>\n      <td>5.0</td>\n      <td>2.0</td>\n      <td>-10.0</td>\n      <td>...</td>\n      <td>NaN</td>\n      <td>NaN</td>\n      <td>NaN</td>\n      <td>NaN</td>\n      <td>NaN</td>\n      <td>NaN</td>\n      <td>NaN</td>\n      <td>NaN</td>\n      <td>NaN</td>\n      <td>NaN</td>\n    </tr>\n  </tbody>\n</table>\n<p>160 rows × 465 columns</p>\n</div>"
     },
     "execution_count": 10,
     "metadata": {},
     "output_type": "execute_result"
    }
   ],
   "source": [
    "df_train = pd.read_csv('/tmp/pycharm_project_366/train_data.csv')\n",
    "df_train"
   ],
   "metadata": {
    "collapsed": false,
    "ExecuteTime": {
     "end_time": "2024-05-29T21:26:25.720507Z",
     "start_time": "2024-05-29T21:26:25.604865Z"
    }
   },
   "id": "de6a51dc1527a09a",
   "execution_count": 10
  },
  {
   "cell_type": "code",
   "outputs": [
    {
     "data": {
      "text/plain": "{'130792-0.0.1',\n '131682-0.0.1',\n '131683-0.0.1',\n '21027-0.0.1',\n '21028-0.0.1',\n '21040-0.0.1',\n '21064-0.0.1',\n '21068-0.0.1',\n '23000-0.0.1',\n '23001-0.0.1',\n '23002-0.0.1',\n '23003-0.0.1',\n '23004-0.0.1',\n '23005-0.0.1',\n '23006-0.0.1',\n '23007-0.0.1',\n '23008-0.0.1',\n '23009-0.0.1',\n '23010-0.0.1',\n '23011-0.0.1',\n '23012-0.0.1',\n '23013-0.0.1',\n '23014-0.0.1',\n '23015-0.0.1',\n '23016-0.0.1',\n '23017-0.0.1',\n '23018-0.0.1',\n '23019-0.0.1',\n '23020-0.0.1',\n '23021-0.0.1',\n '23022-0.0.1',\n '23023-0.0.1',\n '23024-0.0.1',\n '23025-0.0.1',\n '23026-0.0.1',\n '23027-0.0.1',\n '23028-0.0.1',\n '23029-0.0.1',\n '23030-0.0.1',\n '23031-0.0.1',\n '23032-0.0.1',\n '23033-0.0.1',\n '23034-0.0.1',\n '23035-0.0.1',\n '23036-0.0.1',\n '23037-0.0.1',\n '23038-0.0.1',\n '23039-0.0.1',\n '23040-0.0.1',\n '23041-0.0.1',\n '23042-0.0.1',\n '23043-0.0.1',\n '23044-0.0.1',\n '23048-0.0.1',\n '23049-0.0.1',\n '2966-0.0.1',\n '30000-0.0.1',\n '30010-0.0.1',\n '30020-0.0.1',\n '30030-0.0.1',\n '30040-0.0.1',\n '30050-0.0.1',\n '30060-0.0.1',\n '30080-0.0.1',\n '30090-0.0.1',\n '30100-0.0.1',\n '30120-0.0.1',\n '30130-0.0.1',\n '30140-0.0.1',\n '30150-0.0.1',\n '30160-0.0.1',\n '30170-0.0.1',\n '30180-0.0.1',\n '30190-0.0.1',\n '30200-0.0.1',\n '30210-0.0.1',\n '30220-0.0.1',\n '30230-0.0.1',\n '30240-0.0.1',\n '30250-0.0.1',\n '30260-0.0.1',\n '30280-0.0.1',\n '41270-0.0.1',\n '41270-0.1.1',\n '41270-0.10.1',\n '41270-0.11.1',\n '41270-0.12.1',\n '41270-0.13.1',\n '41270-0.14.1',\n '41270-0.15.1',\n '41270-0.16.1',\n '41270-0.17.1',\n '41270-0.18.1',\n '41270-0.19.1',\n '41270-0.2.1',\n '41270-0.20.1',\n '41270-0.21.1',\n '41270-0.22.1',\n '41270-0.23.1',\n '41270-0.24.1',\n '41270-0.25.1',\n '41270-0.26.1',\n '41270-0.27.1',\n '41270-0.28.1',\n '41270-0.29.1',\n '41270-0.3.1',\n '41270-0.30.1',\n '41270-0.31.1',\n '41270-0.32.1',\n '41270-0.33.1',\n '41270-0.34.1',\n '41270-0.35.1',\n '41270-0.36.1',\n '41270-0.37.1',\n '41270-0.38.1',\n '41270-0.39.1',\n '41270-0.4.1',\n '41270-0.40.1',\n '41270-0.41.1',\n '41270-0.42.1',\n '41270-0.43.1',\n '41270-0.44.1',\n '41270-0.45.1',\n '41270-0.46.1',\n '41270-0.47.1',\n '41270-0.48.1',\n '41270-0.49.1',\n '41270-0.5.1',\n '41270-0.50.1',\n '41270-0.51.1',\n '41270-0.52.1',\n '41270-0.53.1',\n '41270-0.54.1',\n '41270-0.55.1',\n '41270-0.56.1',\n '41270-0.57.1',\n '41270-0.58.1',\n '41270-0.59.1',\n '41270-0.6.1',\n '41270-0.60.1',\n '41270-0.61.1',\n '41270-0.62.1',\n '41270-0.63.1',\n '41270-0.64.1',\n '41270-0.65.1',\n '41270-0.66.1',\n '41270-0.67.1',\n '41270-0.68.1',\n '41270-0.69.1',\n '41270-0.7.1',\n '41270-0.70.1',\n '41270-0.71.1',\n '41270-0.72.1',\n '41270-0.73.1',\n '41270-0.74.1',\n '41270-0.75.1',\n '41270-0.76.1',\n '41270-0.77.1',\n '41270-0.78.1',\n '41270-0.79.1',\n '41270-0.8.1',\n '41270-0.80.1',\n '41270-0.81.1',\n '41270-0.82.1',\n '41270-0.83.1',\n '41270-0.84.1',\n '41270-0.85.1',\n '41270-0.86.1',\n '41270-0.87.1',\n '41270-0.88.1',\n '41270-0.89.1',\n '41270-0.9.1',\n '41270-0.90.1',\n '41270-0.91.1',\n '41270-0.92.1',\n '41270-0.93.1',\n '41270-0.94.1',\n '41270-0.95.1',\n '41270-0.96.1',\n '41270-0.97.1',\n '41270-0.98.1',\n '41270-0.99.1'}"
     },
     "execution_count": 9,
     "metadata": {},
     "output_type": "execute_result"
    }
   ],
   "source": [
    "set(df_test.columns) - set(config['features_code_list'])"
   ],
   "metadata": {
    "collapsed": false,
    "ExecuteTime": {
     "end_time": "2024-05-31T10:24:51.776431Z",
     "start_time": "2024-05-31T10:24:51.769449Z"
    }
   },
   "id": "86fb9b6631908b16",
   "execution_count": 9
  },
  {
   "cell_type": "code",
   "outputs": [
    {
     "data": {
      "text/plain": "False"
     },
     "execution_count": 10,
     "metadata": {},
     "output_type": "execute_result"
    }
   ],
   "source": [
    "'41270-0.99.1' in config['features_code_list']"
   ],
   "metadata": {
    "collapsed": false,
    "ExecuteTime": {
     "end_time": "2024-05-31T10:24:57.230545Z",
     "start_time": "2024-05-31T10:24:57.225010Z"
    }
   },
   "id": "581224555d0becd8",
   "execution_count": 10
  },
  {
   "cell_type": "code",
   "outputs": [],
   "source": [
    "features = pd.read_csv('/home/ofeksh2@mta.ac.il/biobank/fields672220.ukb')"
   ],
   "metadata": {
    "collapsed": false,
    "ExecuteTime": {
     "end_time": "2024-05-31T10:25:01.836555Z",
     "start_time": "2024-05-31T10:25:01.830831Z"
    }
   },
   "id": "44cd84c08d619dc4",
   "execution_count": 11
  },
  {
   "cell_type": "code",
   "outputs": [
    {
     "data": {
      "text/plain": "False"
     },
     "execution_count": 21,
     "metadata": {},
     "output_type": "execute_result"
    }
   ],
   "source": [
    "'21028-0.0.1' in config['features_code_list']"
   ],
   "metadata": {
    "collapsed": false,
    "ExecuteTime": {
     "end_time": "2024-05-29T21:34:57.793695Z",
     "start_time": "2024-05-29T21:34:57.788008Z"
    }
   },
   "id": "dad96b5e4a3b24de",
   "execution_count": 21
  },
  {
   "cell_type": "code",
   "outputs": [],
   "source": [],
   "metadata": {
    "collapsed": false
   },
   "id": "3837df2132d39003"
  }
 ],
 "metadata": {
  "kernelspec": {
   "display_name": "Python 3",
   "language": "python",
   "name": "python3"
  },
  "language_info": {
   "codemirror_mode": {
    "name": "ipython",
    "version": 2
   },
   "file_extension": ".py",
   "mimetype": "text/x-python",
   "name": "python",
   "nbconvert_exporter": "python",
   "pygments_lexer": "ipython2",
   "version": "2.7.6"
  }
 },
 "nbformat": 4,
 "nbformat_minor": 5
}

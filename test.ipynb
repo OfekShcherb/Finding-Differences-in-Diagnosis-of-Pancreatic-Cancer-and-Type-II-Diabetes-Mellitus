{
 "cells": [
  {
   "cell_type": "code",
   "execution_count": 1,
   "id": "initial_id",
   "metadata": {
    "collapsed": true,
    "ExecuteTime": {
     "end_time": "2024-06-01T12:19:16.392777Z",
     "start_time": "2024-06-01T12:19:15.884604Z"
    }
   },
   "source": [
    "import pandas as pd\n",
    "import json"
   ],
   "outputs": []
  },
  {
   "cell_type": "code",
   "source": [
    "with open('/tmp/pycharm_project_366/config.json') as f:\n",
    "    config = json.load(f)"
   ],
   "metadata": {
    "collapsed": false,
    "ExecuteTime": {
     "end_time": "2024-06-01T12:19:22.353702Z",
     "start_time": "2024-06-01T12:19:22.350004Z"
    }
   },
   "id": "7b52aad6570b039c",
   "execution_count": 2,
   "outputs": []
  },
  {
   "cell_type": "code",
   "source": [
    "def get_people_with_disease(df, all_diseased_column, disease_code_pattern):\n",
    "    people_with_disease_df = df[all_diseased_column.str.contains(disease_code_pattern)]\n",
    "\n",
    "    return people_with_disease_df"
   ],
   "metadata": {
    "collapsed": false,
    "ExecuteTime": {
     "end_time": "2024-06-01T12:19:23.246489Z",
     "start_time": "2024-06-01T12:19:23.242570Z"
    }
   },
   "id": "a27075aff0c14088",
   "execution_count": 3,
   "outputs": []
  },
  {
   "cell_type": "code",
   "source": [
    "test_group_df = pd.read_csv('/tmp/pycharm_project_366/test_data.csv', low_memory=False)\n",
    "test_group_df"
   ],
   "metadata": {
    "collapsed": false,
    "ExecuteTime": {
     "end_time": "2024-06-01T12:22:48.185115Z",
     "start_time": "2024-06-01T12:22:39.873476Z"
    }
   },
   "id": "a42a25186edb94e7",
   "execution_count": 6,
   "outputs": []
  },
  {
   "cell_type": "code",
   "source": [
    "diabetes_pattern = r'E11'\n",
    "pancreatic_cancer_pattern = r'C25'\n",
    "all_diseased_column = test_group_df[[f'41270-0.{i}' for i in range(100)]].agg(', '.join, axis=1)\n",
    "people_with_diabetes_in_test_df = get_people_with_disease(test_group_df, all_diseased_column, diabetes_pattern)\n",
    "people_with_pancreatic_cancer_in_test_df = get_people_with_disease(test_group_df, all_diseased_column, pancreatic_cancer_pattern)\n",
    "print(f'people with diabetes: {people_with_diabetes_in_test_df.shape[0]}, people with cancer: {people_with_pancreatic_cancer_in_test_df.shape[0]}')"
   ],
   "metadata": {
    "collapsed": false,
    "ExecuteTime": {
     "end_time": "2024-06-01T12:23:36.111547Z",
     "start_time": "2024-06-01T12:23:34.247611Z"
    }
   },
   "id": "67fd627bb5964e2c",
   "execution_count": 8,
   "outputs": []
  },
  {
   "cell_type": "code",
   "source": [
    "train_group_df = pd.read_csv('/tmp/pycharm_project_366/train_data.csv', low_memory=False)\n",
    "train_group_df"
   ],
   "metadata": {
    "collapsed": false,
    "ExecuteTime": {
     "end_time": "2024-06-01T12:23:58.184625Z",
     "start_time": "2024-06-01T12:23:51.925804Z"
    }
   },
   "id": "8ef4dbe312848fb2",
   "execution_count": 9,
   "outputs": []
  },
  {
   "cell_type": "code",
   "source": [
    "diabetes_pattern = r'E11'\n",
    "pancreatic_cancer_pattern = r'C25'\n",
    "all_diseased_column = train_group_df[[f'41270-0.{i}' for i in range(100)]].agg(', '.join, axis=1)\n",
    "people_with_diabetes_in_train_df = get_people_with_disease(train_group_df, all_diseased_column, diabetes_pattern)\n",
    "people_with_pancreatic_cancer_in_train_df = get_people_with_disease(train_group_df, all_diseased_column, pancreatic_cancer_pattern)\n",
    "print(f'people with diabetes: {people_with_diabetes_in_train_df.shape[0]}, people with cancer: {people_with_pancreatic_cancer_in_train_df.shape[0]}')"
   ],
   "metadata": {
    "collapsed": false,
    "ExecuteTime": {
     "end_time": "2024-06-01T12:24:39.136638Z",
     "start_time": "2024-06-01T12:24:37.693165Z"
    }
   },
   "id": "71e8fbe3b532b1e4",
   "execution_count": 10,
   "outputs": []
  },
  {
   "cell_type": "code",
   "source": [
    "df_test.iloc[:,270]"
   ],
   "metadata": {
    "collapsed": false,
    "ExecuteTime": {
     "end_time": "2024-05-31T10:24:13.237357Z",
     "start_time": "2024-05-31T10:24:13.230865Z"
    }
   },
   "id": "b0d1a0fb32616de1",
   "execution_count": 5,
   "outputs": []
  },
  {
   "cell_type": "code",
   "source": [
    "df_train = pd.read_csv('/tmp/pycharm_project_366/train_data.csv')\n",
    "df_train"
   ],
   "metadata": {
    "collapsed": false,
    "ExecuteTime": {
     "end_time": "2024-05-29T21:26:25.720507Z",
     "start_time": "2024-05-29T21:26:25.604865Z"
    }
   },
   "id": "de6a51dc1527a09a",
   "execution_count": 10,
   "outputs": []
  },
  {
   "cell_type": "code",
   "source": [
    "set(df_test.columns) - set(config['features_code_list'])"
   ],
   "metadata": {
    "collapsed": false,
    "ExecuteTime": {
     "end_time": "2024-05-31T10:24:51.776431Z",
     "start_time": "2024-05-31T10:24:51.769449Z"
    }
   },
   "id": "86fb9b6631908b16",
   "execution_count": 9,
   "outputs": []
  },
  {
   "cell_type": "code",
   "source": [
    "'41270-0.99.1' in config['features_code_list']"
   ],
   "metadata": {
    "collapsed": false,
    "ExecuteTime": {
     "end_time": "2024-05-31T10:24:57.230545Z",
     "start_time": "2024-05-31T10:24:57.225010Z"
    }
   },
   "id": "581224555d0becd8",
   "execution_count": 10,
   "outputs": []
  },
  {
   "cell_type": "code",
   "source": [
    "features = pd.read_csv('/home/ofeksh2@mta.ac.il/biobank/fields672220.ukb')"
   ],
   "metadata": {
    "collapsed": false,
    "ExecuteTime": {
     "end_time": "2024-05-31T10:25:01.836555Z",
     "start_time": "2024-05-31T10:25:01.830831Z"
    }
   },
   "id": "44cd84c08d619dc4",
   "execution_count": 11,
   "outputs": []
  },
  {
   "cell_type": "code",
   "source": [
    "'21028-0.0.1' in config['features_code_list']"
   ],
   "metadata": {
    "collapsed": false,
    "ExecuteTime": {
     "end_time": "2024-05-29T21:34:57.793695Z",
     "start_time": "2024-05-29T21:34:57.788008Z"
    }
   },
   "id": "dad96b5e4a3b24de",
   "execution_count": 21,
   "outputs": []
  },
  {
   "cell_type": "code",
   "source": [],
   "metadata": {
    "collapsed": false
   },
   "id": "3837df2132d39003",
   "execution_count": null,
   "outputs": []
  }
 ],
 "metadata": {
  "kernelspec": {
   "display_name": "Python 3",
   "language": "python",
   "name": "python3"
  },
  "language_info": {
   "codemirror_mode": {
    "name": "ipython",
    "version": 2
   },
   "file_extension": ".py",
   "mimetype": "text/x-python",
   "name": "python",
   "nbconvert_exporter": "python",
   "pygments_lexer": "ipython2",
   "version": "2.7.6"
  }
 },
 "nbformat": 4,
 "nbformat_minor": 5
}
